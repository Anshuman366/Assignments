{
 "cells": [
  {
   "cell_type": "raw",
   "id": "0de147d2",
   "metadata": {},
   "source": [
    "Q1.What are the two values of the Boolean data type? How do you write them?\n",
    "\n",
    " Answers:\n",
    "Boolian datatype is a datatype in python which give only two values either True or false.Generally it is used to check the truth of expression \n",
    "for eg:"
   ]
  },
  {
   "cell_type": "code",
   "execution_count": 7,
   "id": "9c40a935",
   "metadata": {},
   "outputs": [
    {
     "data": {
      "text/plain": [
       "False"
      ]
     },
     "execution_count": 7,
     "metadata": {},
     "output_type": "execute_result"
    }
   ],
   "source": [
    "2==9 # this statement is false so it will be evaluated as False\n"
   ]
  },
  {
   "cell_type": "code",
   "execution_count": 6,
   "id": "de4482ca",
   "metadata": {},
   "outputs": [
    {
     "data": {
      "text/plain": [
       "True"
      ]
     },
     "execution_count": 6,
     "metadata": {},
     "output_type": "execute_result"
    }
   ],
   "source": [
    "1==1# this statement is true so it will be evaluated as True"
   ]
  },
  {
   "cell_type": "raw",
   "id": "4a854a05",
   "metadata": {},
   "source": [
    "Q2. What are the three different types of Boolean operators?\n",
    "\n",
    "1) ----AND OPERATOR----\n",
    "it is the operator which is evaluated true if both the condition is true, and evaluated false if even one of the condition is false\n",
    "for eg->( See code)\n",
    "\n",
    "2)-----OR OPERATOR------\n",
    "it is the operator which evaluate true of any one of the condition is true,and evaluated false if both of the condition is false\n",
    "for eg->( see code)\n",
    "\n",
    "3)----NOT OPERATOR-----\n",
    "it is the operator which is evaluated true if the statement is false and vice versa\n",
    "\n",
    "\n",
    "\n",
    "\n",
    "\n"
   ]
  },
  {
   "cell_type": "code",
   "execution_count": 1,
   "id": "86f73307",
   "metadata": {},
   "outputs": [
    {
     "data": {
      "text/plain": [
       "False"
      ]
     },
     "execution_count": 1,
     "metadata": {},
     "output_type": "execute_result"
    }
   ],
   "source": [
    "# And operator\n",
    "x=6\n",
    "y=7\n",
    "x>y and y>x ## This will be evaluated false because one of this expression is false"
   ]
  },
  {
   "cell_type": "code",
   "execution_count": 2,
   "id": "a172be58",
   "metadata": {},
   "outputs": [
    {
     "data": {
      "text/plain": [
       "True"
      ]
     },
     "execution_count": 2,
     "metadata": {},
     "output_type": "execute_result"
    }
   ],
   "source": [
    "# or operator\n",
    "x=6\n",
    "y=7\n",
    "x>y or y>x ## This is evaluated true because any one of the given condition is true"
   ]
  },
  {
   "cell_type": "code",
   "execution_count": 5,
   "id": "31ea96f2",
   "metadata": {},
   "outputs": [
    {
     "data": {
      "text/plain": [
       "True"
      ]
     },
     "execution_count": 5,
     "metadata": {},
     "output_type": "execute_result"
    }
   ],
   "source": [
    "# Not operator(!)\n",
    "x=6\n",
    "y=7\n",
    "x != y # this is a false statement thats why it is evaluted as true"
   ]
  },
  {
   "cell_type": "code",
   "execution_count": 6,
   "id": "9b7f5d1b",
   "metadata": {},
   "outputs": [
    {
     "data": {
      "text/plain": [
       "True"
      ]
     },
     "execution_count": 6,
     "metadata": {},
     "output_type": "execute_result"
    }
   ],
   "source": [
    "l=[1,2,3,4,5,6]\n",
    "7 not in l \n",
    "    "
   ]
  },
  {
   "cell_type": "raw",
   "id": "c0cd9243",
   "metadata": {},
   "source": [
    "Q3) Make a list of each Boolean operator's truth tables (i.e. every possible combination of Boolean values for the operator and what it evaluate ).\n",
    "\n",
    "Solution:\n",
    " X,Y represent the condition\n",
    " \n",
    " -------AND TRUTH TABLE--------\n",
    " \n",
    " X      operator           Y             RESULT\n",
    " \n",
    "True       and            True            True\n",
    "True\t   and\t          False\t          False\n",
    "False\t   and \t          True\t          False\n",
    "False\t   and\t          False\t          False\n",
    "\n",
    "\n",
    "--------OR TRUTH TABLE------\n",
    "\n",
    "\n",
    " X      operator           Y             RESULT\n",
    " \n",
    "True       or             True            True\n",
    "True\t   or\t          False\t          True\n",
    "False\t   or \t          True\t          True\n",
    "False\t   or\t          False\t          False\n",
    "\n",
    "\n",
    "------NOT TRUTH TABLE---------\n",
    "\n",
    "X             RESULT\n",
    "\n",
    "TRUE          FALSE  ( This basically means-> not true)\n",
    "FALSE         TRUE   ( This basically means-> not false)\n",
    "\n"
   ]
  },
  {
   "cell_type": "raw",
   "id": "ca220b2d",
   "metadata": {},
   "source": [
    "Q4. What are the values of the following expressions?\n",
    "1) (5 > 4) and (3 == 5)\n",
    "2) not (5 > 4)\n",
    "3) (5 > 4) or (3 == 5)\n",
    "4) not ((5 > 4) or (3 == 5))\n",
    "5) (True and True) and (True == False)\n",
    "6) (not False) or (not True)"
   ]
  },
  {
   "cell_type": "code",
   "execution_count": 11,
   "id": "e486866e",
   "metadata": {},
   "outputs": [
    {
     "data": {
      "text/plain": [
       "False"
      ]
     },
     "execution_count": 11,
     "metadata": {},
     "output_type": "execute_result"
    }
   ],
   "source": [
    "# solution Q4\n",
    "(5 > 4) and (3 == 5) \n",
    "#True and false = false"
   ]
  },
  {
   "cell_type": "code",
   "execution_count": 8,
   "id": "5835cdd7",
   "metadata": {},
   "outputs": [
    {
     "data": {
      "text/plain": [
       "False"
      ]
     },
     "execution_count": 8,
     "metadata": {},
     "output_type": "execute_result"
    }
   ],
   "source": [
    "not (5 > 4) \n",
    "#not(True)=False"
   ]
  },
  {
   "cell_type": "code",
   "execution_count": 9,
   "id": "4ed6a222",
   "metadata": {},
   "outputs": [
    {
     "data": {
      "text/plain": [
       "True"
      ]
     },
     "execution_count": 9,
     "metadata": {},
     "output_type": "execute_result"
    }
   ],
   "source": [
    "(5 > 4) or (3 == 5)\n",
    "#true or true=true"
   ]
  },
  {
   "cell_type": "code",
   "execution_count": 12,
   "id": "72bc4979",
   "metadata": {},
   "outputs": [
    {
     "data": {
      "text/plain": [
       "False"
      ]
     },
     "execution_count": 12,
     "metadata": {},
     "output_type": "execute_result"
    }
   ],
   "source": [
    "not ((5 > 4) or (3 == 5))\n",
    "#not(true or false)\n",
    "#not(true)=false\n"
   ]
  },
  {
   "cell_type": "code",
   "execution_count": 13,
   "id": "e1834ece",
   "metadata": {},
   "outputs": [
    {
     "data": {
      "text/plain": [
       "False"
      ]
     },
     "execution_count": 13,
     "metadata": {},
     "output_type": "execute_result"
    }
   ],
   "source": [
    "(True and True) and (True == False)\n",
    "# self explanatory"
   ]
  },
  {
   "cell_type": "code",
   "execution_count": 15,
   "id": "d98575bc",
   "metadata": {},
   "outputs": [
    {
     "data": {
      "text/plain": [
       "True"
      ]
     },
     "execution_count": 15,
     "metadata": {},
     "output_type": "execute_result"
    }
   ],
   "source": [
    "(not False) or (not True)\n",
    "#true of false=true\n"
   ]
  },
  {
   "cell_type": "raw",
   "id": "c79b3b6c",
   "metadata": {},
   "source": [
    "Q6)  What are the six comparison operators?\n",
    "\n",
    "Python has six comparison operators, which are as follows:\n",
    "\n",
    "1)Less than ( < )\n",
    "2)Less than or equal to (<=)\n",
    "3)Greater than (>)\n",
    "4)Greater than or equal to (>=)\n",
    "5)Equal to ( == )\n",
    "6)Not equal to ( != )\n",
    "\n",
    "The examples are shown below with the help of code"
   ]
  },
  {
   "cell_type": "code",
   "execution_count": 24,
   "id": "93909250",
   "metadata": {},
   "outputs": [
    {
     "name": "stdout",
     "output_type": "stream",
     "text": [
      "True\n",
      "False\n",
      "True\n"
     ]
    }
   ],
   "source": [
    "# 1) Less than ( < )\n",
    "print(4<5) \n",
    "print(80<9)\n",
    "print( 'apple' < 'orange') \n",
    "\"\"\"The expression 'apple' < 'orange' returns True because \n",
    "the letter a in apple is before the letter o in orange.\"\"\""
   ]
  },
  {
   "cell_type": "code",
   "execution_count": 22,
   "id": "05fd4a4d",
   "metadata": {},
   "outputs": [
    {
     "name": "stdout",
     "output_type": "stream",
     "text": [
      "True\n",
      "False\n",
      "True\n"
     ]
    }
   ],
   "source": [
    "# 2)Less than or equal to (<=)\n",
    "print(45<=56)\n",
    "\"\"\" This will be evaluated true because internally this is calling boolian (or) operator and checking two condition\n",
    "(45<56) or (45==56) as atleast one condition is true thats why it is evaluated as true\"\"\"\n",
    "print(67<=43)\n",
    "print(\"Anshuman\"<\"eye\")"
   ]
  },
  {
   "cell_type": "code",
   "execution_count": 27,
   "id": "ecbab73c",
   "metadata": {},
   "outputs": [
    {
     "name": "stdout",
     "output_type": "stream",
     "text": [
      "False\n",
      "False\n",
      "True\n"
     ]
    }
   ],
   "source": [
    "# 3)Greater than (>)\n",
    "print(20>20)\n",
    "print(\"Anshuman\">\"eye\")\n",
    "print(40>39)"
   ]
  },
  {
   "cell_type": "code",
   "execution_count": 28,
   "id": "9b3922f9",
   "metadata": {},
   "outputs": [
    {
     "name": "stdout",
     "output_type": "stream",
     "text": [
      "True\n"
     ]
    }
   ],
   "source": [
    "#4)Greater than or equal to (>=)\n",
    "print(45>=45)\n",
    "\"\"\" This will be evaluated true because internally this is calling boolian (or) operator and checking two condition\n",
    "(45>45) or (45==45) as atleast one condition is true thats why it is evaluated as true\"\"\""
   ]
  },
  {
   "cell_type": "code",
   "execution_count": 30,
   "id": "7497bb93",
   "metadata": {},
   "outputs": [
    {
     "name": "stdout",
     "output_type": "stream",
     "text": [
      "True\n",
      "False\n",
      "False\n",
      "True\n",
      "False\n"
     ]
    }
   ],
   "source": [
    "#5)Equal to ( == )\n",
    "print(67==67) \n",
    "print(45==98)\n",
    "print(\"Anshuman\"==45)\n",
    "print(\"Anshuman\"==\"Anshuman\")\n",
    "print(\"Anshuman\"==\"anshuman\")\n"
   ]
  },
  {
   "cell_type": "code",
   "execution_count": 31,
   "id": "01e069ea",
   "metadata": {},
   "outputs": [
    {
     "name": "stdout",
     "output_type": "stream",
     "text": [
      "True\n"
     ]
    }
   ],
   "source": [
    "#6)Not equal to ( != )\n",
    "print(5!=6)\n",
    "\"\"\" Internally it is  calling not function for this condition not(5==6)--> this gives not(false)--> and \n",
    "this gives the result as true\"\"\""
   ]
  },
  {
   "cell_type": "raw",
   "id": "e8a27ab4",
   "metadata": {},
   "source": [
    "#Q7. Identify the three blocks in this code:\n",
    "spam = 0\n",
    "if spam == 10:\n",
    "    print('eggs')\n",
    "if spam > 5:\n",
    "    print('bacon')\n",
    "else:\n",
    "        print('ham')\n",
    "        print('spam')\n",
    "        print('spam')\n",
    "        \n",
    "solution:\n",
    "This code has three blocks of condition vary.\n",
    "1) first condition is checking that weather spam is equal to 10 or not.\n",
    "2) second condition is checking that weather spam is greater then 5 or not.\n",
    "3) in the third block it is saying that ok! if both the above condition fails then execute the last block that is else block."
   ]
  },
  {
   "cell_type": "code",
   "execution_count": 33,
   "id": "637fd88b",
   "metadata": {},
   "outputs": [
    {
     "name": "stdout",
     "output_type": "stream",
     "text": [
      "ham\n",
      "spam\n",
      "spam\n"
     ]
    }
   ],
   "source": [
    "spam = 0\n",
    "if spam == 10: # checking 1st condition\n",
    "    print('eggs')\n",
    "if spam > 5: # checking 2nd condition\n",
    "    print('bacon')\n",
    "else:       # else block which will be executed if both the condition fails\n",
    "        print('ham')\n",
    "        print('spam')\n",
    "        print('spam')"
   ]
  },
  {
   "cell_type": "raw",
   "id": "dd5ba03c",
   "metadata": {},
   "source": [
    "Q8) Write code that prints Hello if 1 is stored in spam, prints Howdy if 2 is stored in spam, \n",
    " and prints Greetings! if anything else is stored in spam."
   ]
  },
  {
   "cell_type": "code",
   "execution_count": 36,
   "id": "73916736",
   "metadata": {},
   "outputs": [
    {
     "name": "stdout",
     "output_type": "stream",
     "text": [
      "6\n",
      "Greetings!\n"
     ]
    }
   ],
   "source": [
    "# soltion Q8\n",
    "spam=int(input())\n",
    "if spam==1:\n",
    "    print(\"Hello\")\n",
    "elif spam==2:\n",
    "    print(\"Howdy\")\n",
    "else:\n",
    "    print(\"Greetings!\")"
   ]
  },
  {
   "cell_type": "raw",
   "id": "92bf5c7b",
   "metadata": {},
   "source": [
    "Q9)9.If your programme is stuck in an endless loop, what keys you’ll press?\n",
    "solution:\n",
    "ctrl+c"
   ]
  },
  {
   "cell_type": "raw",
   "id": "1de2b453",
   "metadata": {},
   "source": [
    "Q10) How can you tell the difference between break and continue?\n",
    "solution:\n",
    "\n",
    "--break--\n",
    "1) break statement terminate the next iteration of the loop\n",
    "--continue--\n",
    "1) it terminate only the current iteration of loop\n",
    "\n",
    "[examples are shown with the help of code]"
   ]
  },
  {
   "cell_type": "code",
   "execution_count": 1,
   "id": "f6673b47",
   "metadata": {},
   "outputs": [
    {
     "name": "stdout",
     "output_type": "stream",
     "text": [
      "0\n",
      "1\n",
      "2\n",
      "3\n",
      "4\n"
     ]
    }
   ],
   "source": [
    "# break statement\n",
    "for num in range(7):\n",
    "    if num==5:\n",
    "        break\n",
    "    else:\n",
    "        print(num)\n",
    "        \n",
    "\"\"\" This programm will stop when num reaches 5 because break statement will not let \n",
    "all the iteration to complete . It will break the loop then and there\"\"\""
   ]
  },
  {
   "cell_type": "code",
   "execution_count": 2,
   "id": "2fd4eaf9",
   "metadata": {},
   "outputs": [
    {
     "name": "stdout",
     "output_type": "stream",
     "text": [
      "0\n",
      "1\n",
      "2\n",
      "3\n",
      "4\n",
      "6\n"
     ]
    }
   ],
   "source": [
    "# continue statement\n",
    "for num in range(7):\n",
    "    if num==5:\n",
    "        continue\n",
    "    else:\n",
    "        print(num)\n",
    "        \n",
    "\"\"\" In this case only 5 will not be printed because as soon as control reaches 5 it will execute \n",
    "continue statement which stops that iteration only . ao thats why 5 will not be printed\"\"\""
   ]
  },
  {
   "cell_type": "raw",
   "id": "c211c8d9",
   "metadata": {},
   "source": [
    "Q11) In a for loop, what is the difference between range(10), range(0, 10), and range(0, 10, 1)?\n",
    "solution:\n",
    "\n",
    "range() is a generator function which basically create a dataset,it include 3 arguments\n",
    "range(start,end,jump).start and jump is optional and their value is set to 0 and 1 respectivly.\n",
    " \n",
    "# range(10)-->  this function  create  a dataset from 0 to 10,except 10(because in this function upper bound is not considered).By default its starting point is taken as 0.\n",
    "\n",
    "# range(0,10)--> in this , start point is also mentioned .In this case also it will create a dataset  from 0 to 10.\n",
    "\n",
    "# range(0,10,1)--> in this case rest is same but the jump is set to 1, this basically means that we will create a number from 1 to 10  and take  a jump of 1.\n",
    "\n",
    "[examples are shown below in working code]\n"
   ]
  },
  {
   "cell_type": "code",
   "execution_count": 4,
   "id": "39f37f8a",
   "metadata": {},
   "outputs": [
    {
     "name": "stdout",
     "output_type": "stream",
     "text": [
      "0\n",
      "1\n",
      "2\n",
      "3\n",
      "4\n",
      "5\n",
      "6\n",
      "7\n",
      "8\n",
      "9\n"
     ]
    }
   ],
   "source": [
    "# range(10)\n",
    "for i in range(10):\n",
    "    print(i) # printing all the data from 0 to 10 ,except 10."
   ]
  },
  {
   "cell_type": "code",
   "execution_count": 5,
   "id": "5d1634c9",
   "metadata": {},
   "outputs": [
    {
     "name": "stdout",
     "output_type": "stream",
     "text": [
      "0\n",
      "1\n",
      "2\n",
      "3\n",
      "4\n",
      "5\n",
      "6\n",
      "7\n",
      "8\n",
      "9\n"
     ]
    }
   ],
   "source": [
    "for i in range(0,10):\n",
    "    print(i) \n",
    "## there will be no diffrence in above code and this code because by default starting point is set to 1"
   ]
  },
  {
   "cell_type": "code",
   "execution_count": 6,
   "id": "e4073f5c",
   "metadata": {},
   "outputs": [
    {
     "name": "stdout",
     "output_type": "stream",
     "text": [
      "0\n",
      "1\n",
      "2\n",
      "3\n",
      "4\n",
      "5\n",
      "6\n",
      "7\n",
      "8\n",
      "9\n"
     ]
    }
   ],
   "source": [
    "for i in range(0,10,1):\n",
    "    print(i)\n",
    "# this code also have no diffrent output because by defaulkt it is taking jump as 1"
   ]
  },
  {
   "cell_type": "code",
   "execution_count": 7,
   "id": "d269b3a0",
   "metadata": {},
   "outputs": [
    {
     "name": "stdout",
     "output_type": "stream",
     "text": [
      "2\n",
      "4\n",
      "6\n",
      "8\n",
      "10\n",
      "12\n",
      "14\n",
      "16\n",
      "18\n",
      "20\n",
      "22\n",
      "24\n",
      "26\n",
      "28\n"
     ]
    }
   ],
   "source": [
    "for i in range(2,30,2):\n",
    "    print(i)\n",
    "# in this case starting point is 2  and it is taking jump odf 2 you can clearly see that."
   ]
  },
  {
   "cell_type": "raw",
   "id": "31bd4761",
   "metadata": {},
   "source": [
    "Q12) Write a short program that prints the numbers 1 to 10 using a for loop. Then write an equivalent program that prints the numbers 1 to 10 using a while loop."
   ]
  },
  {
   "cell_type": "code",
   "execution_count": 9,
   "id": "95c2f958",
   "metadata": {},
   "outputs": [
    {
     "name": "stdout",
     "output_type": "stream",
     "text": [
      "1\n",
      "2\n",
      "3\n",
      "4\n",
      "5\n",
      "6\n",
      "7\n",
      "8\n",
      "9\n",
      "10\n"
     ]
    }
   ],
   "source": [
    "# programm to print 1 to 10 by using for loop\n",
    "for i in range(1,11): # creating dataset from 1 to 10 \n",
    "    print(i)"
   ]
  },
  {
   "cell_type": "code",
   "execution_count": 10,
   "id": "f958e628",
   "metadata": {},
   "outputs": [
    {
     "name": "stdout",
     "output_type": "stream",
     "text": [
      "1\n",
      "2\n",
      "3\n",
      "4\n",
      "5\n",
      "6\n",
      "7\n",
      "8\n",
      "9\n",
      "10\n"
     ]
    }
   ],
   "source": [
    "# programm to print 1 to 10 by using while loop\n",
    "i=1\n",
    "while i<=10:\n",
    "    print(i)\n",
    "    i+=1"
   ]
  },
  {
   "cell_type": "raw",
   "id": "85a7db1b",
   "metadata": {},
   "source": [
    "Q13) If you had a function named bacon() inside a module named spam, how would you call it after importing spam?\n",
    "\n",
    "solution:\n",
    "import spam\n",
    "spam.bacon()\n"
   ]
  },
  {
   "cell_type": "code",
   "execution_count": null,
   "id": "3e280274",
   "metadata": {},
   "outputs": [],
   "source": []
  }
 ],
 "metadata": {
  "kernelspec": {
   "display_name": "Python 3",
   "language": "python",
   "name": "python3"
  },
  "language_info": {
   "codemirror_mode": {
    "name": "ipython",
    "version": 3
   },
   "file_extension": ".py",
   "mimetype": "text/x-python",
   "name": "python",
   "nbconvert_exporter": "python",
   "pygments_lexer": "ipython3",
   "version": "3.8.8"
  }
 },
 "nbformat": 4,
 "nbformat_minor": 5
}
