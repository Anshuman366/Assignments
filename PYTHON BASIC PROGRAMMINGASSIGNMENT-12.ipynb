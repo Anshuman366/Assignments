{
 "cells": [
  {
   "cell_type": "markdown",
   "id": "91f3e0f2",
   "metadata": {},
   "source": [
    "# PYTHON BASIC PROGRAMMINGASSIGNMENT-12"
   ]
  },
  {
   "cell_type": "raw",
   "id": "1b4474ff",
   "metadata": {},
   "source": [
    "Question 1:\n",
    "Define a class with a generator which can iterate the numbers, which are divisible by 7, between a given range 0 and n."
   ]
  },
  {
   "cell_type": "code",
   "execution_count": 1,
   "id": "368da1b0",
   "metadata": {},
   "outputs": [],
   "source": [
    "# solution 1\n",
    "class number:\n",
    "    def div_by_7(self,n):\n",
    "        for i in range(n):\n",
    "            if i%7==0:\n",
    "                yield i\n",
    "        "
   ]
  },
  {
   "cell_type": "code",
   "execution_count": 5,
   "id": "320e3e1d",
   "metadata": {},
   "outputs": [
    {
     "name": "stdout",
     "output_type": "stream",
     "text": [
      "0\n",
      "7\n",
      "14\n",
      "21\n",
      "28\n",
      "35\n"
     ]
    }
   ],
   "source": [
    "n=number()\n",
    "x=n.div_by_7(40)\n",
    "for i in x:\n",
    "    print(i)\n",
    "    "
   ]
  },
  {
   "cell_type": "raw",
   "id": "23474594",
   "metadata": {},
   "source": [
    "Question 2\n",
    "Write a program to compute the frequency of the words from the input. The output\n",
    "should output after sorting the key alphanumerically."
   ]
  },
  {
   "cell_type": "code",
   "execution_count": 15,
   "id": "120797bb",
   "metadata": {},
   "outputs": [],
   "source": [
    "##solution 2\n",
    "def frequency():\n",
    "    \"\"\" This function will take sentence as input and return a dictionary with key as words \n",
    "    ans value as the frequency of thet word in sentence\"\"\"\n",
    "    n=input(\"Please enter sentence\")\n",
    "    d={}\n",
    "    words=n.split(\" \")\n",
    "    for i in words:\n",
    "        d[i]=words.count(i)\n",
    "    return d\n",
    "                \n",
    "        \n"
   ]
  },
  {
   "cell_type": "code",
   "execution_count": 21,
   "id": "993b66ee",
   "metadata": {},
   "outputs": [
    {
     "name": "stdout",
     "output_type": "stream",
     "text": [
      "Please enter sentenceNew to Python or choosing between Python 2 and Python 3? Read Python 2 or Python 3.\n"
     ]
    },
    {
     "data": {
      "text/plain": [
       "{'New': 1,\n",
       " 'to': 1,\n",
       " 'Python': 5,\n",
       " 'or': 2,\n",
       " 'choosing': 1,\n",
       " 'between': 1,\n",
       " '2': 2,\n",
       " 'and': 1,\n",
       " '3?': 1,\n",
       " 'Read': 1,\n",
       " '3.': 1}"
      ]
     },
     "execution_count": 21,
     "metadata": {},
     "output_type": "execute_result"
    }
   ],
   "source": [
    "frequency()"
   ]
  },
  {
   "cell_type": "raw",
   "id": "7cf85c8b",
   "metadata": {},
   "source": [
    "Question 3\n",
    "Define a class Person and its two child classes: Male and Female. All classes have a method \"getGender\" which can print \"Male\" for Male class and \"Female\" for Female class."
   ]
  },
  {
   "cell_type": "markdown",
   "id": "fb852135",
   "metadata": {},
   "source": [
    "solution 3\n",
    "inheritance not covered yet  will do it later"
   ]
  },
  {
   "cell_type": "raw",
   "id": "952697b7",
   "metadata": {},
   "source": [
    "Question 4\n",
    "Please write a program to generate all sentences where subject is in [\"I\", \"You\"] and verb is in [\"Play\", \"Love\"] and the object is in [\"Hockey\",\"Football\"]."
   ]
  },
  {
   "cell_type": "code",
   "execution_count": 33,
   "id": "b79fceee",
   "metadata": {},
   "outputs": [],
   "source": [
    "def make_sentence(subject,verb,Object):\n",
    "    \"\"\" This function will take subject,verb,object as input\n",
    "    and make all the possible sentence from it\"\"\"\n",
    "    for i in subject:\n",
    "        for j in verb:\n",
    "            for k in Object:\n",
    "                print(i+\" \"+j+\" \"+k)\n",
    "    "
   ]
  },
  {
   "cell_type": "code",
   "execution_count": 34,
   "id": "ddb76de6",
   "metadata": {},
   "outputs": [
    {
     "name": "stdout",
     "output_type": "stream",
     "text": [
      "I Play Hockey\n",
      "I Play Football\n",
      "I Love Hockey\n",
      "I Love Football\n",
      "You Play Hockey\n",
      "You Play Football\n",
      "You Love Hockey\n",
      "You Love Football\n"
     ]
    }
   ],
   "source": [
    "subject=[\"I\", \"You\"]\n",
    "verb=[\"Play\", \"Love\"]\n",
    "Object=[\"Hockey\",\"Football\"]\n",
    "make_sentence(subject,verb,Object)"
   ]
  },
  {
   "cell_type": "raw",
   "id": "62afd132",
   "metadata": {},
   "source": [
    "Question 5\n",
    "Please write a program to compress and decompress the string \"hello world!hello world!hello world!hello world!\"."
   ]
  },
  {
   "cell_type": "code",
   "execution_count": 14,
   "id": "c83f869b",
   "metadata": {},
   "outputs": [],
   "source": [
    "class compression:\n",
    "    def __init__(self,s):\n",
    "        self.s=s\n",
    "    \n",
    "    \n",
    "    def compress_data(self):\n",
    "        import zlib\n",
    "        y=bytes(self.s,\"utf-8\")\n",
    "        t = zlib.compress(y)\n",
    "        return t\n",
    "        #print(\"Compressed data is:\"+str(t))\n",
    "        \n",
    "    def decompress_data(self):\n",
    "        import zlib\n",
    "        x=self.compress_data()\n",
    "        print(zlib.decompress(x))\n",
    "        \n"
   ]
  },
  {
   "cell_type": "code",
   "execution_count": 15,
   "id": "3516d77f",
   "metadata": {},
   "outputs": [
    {
     "data": {
      "text/plain": [
       "b'x\\x9c\\xcbH\\xcd\\xc9\\xc9W(\\xcf/\\xcaIQ\\xcc \\x82\\r\\x00\\xbd[\\x11\\xf5'"
      ]
     },
     "execution_count": 15,
     "metadata": {},
     "output_type": "execute_result"
    }
   ],
   "source": [
    "h=compression(\"hello world!hello world!hello world!hello world!\")\n",
    "h.compress_data()\n"
   ]
  },
  {
   "cell_type": "code",
   "execution_count": 16,
   "id": "f31048c3",
   "metadata": {},
   "outputs": [
    {
     "name": "stdout",
     "output_type": "stream",
     "text": [
      "b'hello world!hello world!hello world!hello world!'\n"
     ]
    }
   ],
   "source": [
    "h.decompress_data()"
   ]
  },
  {
   "cell_type": "raw",
   "id": "0665163a",
   "metadata": {},
   "source": [
    "Question 6\n",
    "Please write a binary search function which searches an item in a sorted list. The function should return the index of element to be searched in the list."
   ]
  },
  {
   "cell_type": "code",
   "execution_count": 10,
   "id": "fc57ff6b",
   "metadata": {},
   "outputs": [],
   "source": [
    "def binary_search(lst,key):\n",
    "    if type(lst)==list:\n",
    "        lst.sort()\n",
    "        low_index=0\n",
    "        high_index=len(lst)-1\n",
    "    \n",
    "        while low_index<=high_index:\n",
    "            \n",
    "            mid=(low_index+high_index)//2\n",
    "            \n",
    "            if key==lst[mid]:\n",
    "                print(\"Key found at index {}\".format(mid))\n",
    "                found=True\n",
    "                break\n",
    "            elif key>lst[mid]:\n",
    "                low_index=mid+1\n",
    "            else: \n",
    "                high_index=mid-1\n",
    "        \n",
    "            "
   ]
  },
  {
   "cell_type": "code",
   "execution_count": 11,
   "id": "9bdcff7f",
   "metadata": {},
   "outputs": [
    {
     "name": "stdout",
     "output_type": "stream",
     "text": [
      "Key found at index 6\n"
     ]
    }
   ],
   "source": [
    "l1=[222,2,5,7,9,11,17]\n",
    "x=binary_search(l1,222)\n",
    "x"
   ]
  },
  {
   "cell_type": "code",
   "execution_count": null,
   "id": "c31cfdf0",
   "metadata": {},
   "outputs": [],
   "source": []
  },
  {
   "cell_type": "code",
   "execution_count": null,
   "id": "ed54c374",
   "metadata": {},
   "outputs": [],
   "source": []
  }
 ],
 "metadata": {
  "kernelspec": {
   "display_name": "Python 3",
   "language": "python",
   "name": "python3"
  },
  "language_info": {
   "codemirror_mode": {
    "name": "ipython",
    "version": 3
   },
   "file_extension": ".py",
   "mimetype": "text/x-python",
   "name": "python",
   "nbconvert_exporter": "python",
   "pygments_lexer": "ipython3",
   "version": "3.8.8"
  }
 },
 "nbformat": 4,
 "nbformat_minor": 5
}
