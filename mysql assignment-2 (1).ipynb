{
 "cells": [
  {
   "cell_type": "markdown",
   "id": "7b061aa9",
   "metadata": {},
   "source": [
    "# mysql assignment-2"
   ]
  },
  {
   "cell_type": "code",
   "execution_count": 5,
   "id": "6f8d6bbb",
   "metadata": {},
   "outputs": [
    {
     "data": {
      "text/html": [
       "<div>\n",
       "<style scoped>\n",
       "    .dataframe tbody tr th:only-of-type {\n",
       "        vertical-align: middle;\n",
       "    }\n",
       "\n",
       "    .dataframe tbody tr th {\n",
       "        vertical-align: top;\n",
       "    }\n",
       "\n",
       "    .dataframe thead th {\n",
       "        text-align: right;\n",
       "    }\n",
       "</style>\n",
       "<table border=\"1\" class=\"dataframe\">\n",
       "  <thead>\n",
       "    <tr style=\"text-align: right;\">\n",
       "      <th></th>\n",
       "      <th>Database</th>\n",
       "    </tr>\n",
       "  </thead>\n",
       "  <tbody>\n",
       "    <tr>\n",
       "      <th>0</th>\n",
       "      <td>carbon_nanotube</td>\n",
       "    </tr>\n",
       "    <tr>\n",
       "      <th>1</th>\n",
       "      <td>cardataset</td>\n",
       "    </tr>\n",
       "    <tr>\n",
       "      <th>2</th>\n",
       "      <td>customer</td>\n",
       "    </tr>\n",
       "    <tr>\n",
       "      <th>3</th>\n",
       "      <td>information_schema</td>\n",
       "    </tr>\n",
       "    <tr>\n",
       "      <th>4</th>\n",
       "      <td>mysql</td>\n",
       "    </tr>\n",
       "    <tr>\n",
       "      <th>5</th>\n",
       "      <td>org</td>\n",
       "    </tr>\n",
       "    <tr>\n",
       "      <th>6</th>\n",
       "      <td>performance_schema</td>\n",
       "    </tr>\n",
       "    <tr>\n",
       "      <th>7</th>\n",
       "      <td>sys</td>\n",
       "    </tr>\n",
       "    <tr>\n",
       "      <th>8</th>\n",
       "      <td>testanshu</td>\n",
       "    </tr>\n",
       "  </tbody>\n",
       "</table>\n",
       "</div>"
      ],
      "text/plain": [
       "             Database\n",
       "0     carbon_nanotube\n",
       "1          cardataset\n",
       "2            customer\n",
       "3  information_schema\n",
       "4               mysql\n",
       "5                 org\n",
       "6  performance_schema\n",
       "7                 sys\n",
       "8           testanshu"
      ]
     },
     "execution_count": 5,
     "metadata": {},
     "output_type": "execute_result"
    }
   ],
   "source": [
    "import mysql.connector as conn\n",
    "mydb=conn.connect(host=\"localhost\",user=\"root\",passwd=\"anshu@gmail#123\")\n",
    "cursor=mydb.cursor()\n",
    "\n",
    "import pandas as pd\n",
    "pd.read_sql(\"show databases\",mydb)"
   ]
  },
  {
   "cell_type": "code",
   "execution_count": 6,
   "id": "37bdc2cb",
   "metadata": {},
   "outputs": [],
   "source": [
    "cursor.execute(\"use org\") ## this org table is taken from a website not create dby me."
   ]
  },
  {
   "cell_type": "code",
   "execution_count": 8,
   "id": "0acb3ccc",
   "metadata": {},
   "outputs": [],
   "source": [
    "cursor.execute(\"show tables\")"
   ]
  },
  {
   "cell_type": "code",
   "execution_count": 9,
   "id": "33e018b9",
   "metadata": {},
   "outputs": [
    {
     "data": {
      "text/plain": [
       "[('bonus',), ('title',), ('worker',)]"
      ]
     },
     "execution_count": 9,
     "metadata": {},
     "output_type": "execute_result"
    }
   ],
   "source": [
    "cursor.fetchall()"
   ]
  },
  {
   "cell_type": "code",
   "execution_count": 12,
   "id": "a2424d1e",
   "metadata": {},
   "outputs": [
    {
     "data": {
      "text/html": [
       "<div>\n",
       "<style scoped>\n",
       "    .dataframe tbody tr th:only-of-type {\n",
       "        vertical-align: middle;\n",
       "    }\n",
       "\n",
       "    .dataframe tbody tr th {\n",
       "        vertical-align: top;\n",
       "    }\n",
       "\n",
       "    .dataframe thead th {\n",
       "        text-align: right;\n",
       "    }\n",
       "</style>\n",
       "<table border=\"1\" class=\"dataframe\">\n",
       "  <thead>\n",
       "    <tr style=\"text-align: right;\">\n",
       "      <th></th>\n",
       "      <th>WORKER_ID</th>\n",
       "      <th>FIRST_NAME</th>\n",
       "      <th>LAST_NAME</th>\n",
       "      <th>SALARY</th>\n",
       "      <th>JOINING_DATE</th>\n",
       "      <th>DEPARTMENT</th>\n",
       "    </tr>\n",
       "  </thead>\n",
       "  <tbody>\n",
       "    <tr>\n",
       "      <th>0</th>\n",
       "      <td>1</td>\n",
       "      <td>Monika</td>\n",
       "      <td>Arora</td>\n",
       "      <td>100000</td>\n",
       "      <td>2014-02-20 09:00:00</td>\n",
       "      <td>HR</td>\n",
       "    </tr>\n",
       "    <tr>\n",
       "      <th>1</th>\n",
       "      <td>2</td>\n",
       "      <td>Niharika</td>\n",
       "      <td>Verma</td>\n",
       "      <td>80000</td>\n",
       "      <td>2014-06-11 09:00:00</td>\n",
       "      <td>Admin</td>\n",
       "    </tr>\n",
       "    <tr>\n",
       "      <th>2</th>\n",
       "      <td>3</td>\n",
       "      <td>Vishal</td>\n",
       "      <td>Singhal</td>\n",
       "      <td>300000</td>\n",
       "      <td>2014-02-20 09:00:00</td>\n",
       "      <td>HR</td>\n",
       "    </tr>\n",
       "    <tr>\n",
       "      <th>3</th>\n",
       "      <td>4</td>\n",
       "      <td>Amitabh</td>\n",
       "      <td>Singh</td>\n",
       "      <td>500000</td>\n",
       "      <td>2014-02-20 09:00:00</td>\n",
       "      <td>Admin</td>\n",
       "    </tr>\n",
       "    <tr>\n",
       "      <th>4</th>\n",
       "      <td>5</td>\n",
       "      <td>Vivek</td>\n",
       "      <td>Bhati</td>\n",
       "      <td>500000</td>\n",
       "      <td>2014-06-11 09:00:00</td>\n",
       "      <td>Admin</td>\n",
       "    </tr>\n",
       "    <tr>\n",
       "      <th>5</th>\n",
       "      <td>6</td>\n",
       "      <td>Vipul</td>\n",
       "      <td>Diwan</td>\n",
       "      <td>200000</td>\n",
       "      <td>2014-06-11 09:00:00</td>\n",
       "      <td>Account</td>\n",
       "    </tr>\n",
       "    <tr>\n",
       "      <th>6</th>\n",
       "      <td>7</td>\n",
       "      <td>Satish</td>\n",
       "      <td>Kumar</td>\n",
       "      <td>75000</td>\n",
       "      <td>2014-01-20 09:00:00</td>\n",
       "      <td>Account</td>\n",
       "    </tr>\n",
       "    <tr>\n",
       "      <th>7</th>\n",
       "      <td>8</td>\n",
       "      <td>Geetika</td>\n",
       "      <td>Chauhan</td>\n",
       "      <td>90000</td>\n",
       "      <td>2014-04-11 09:00:00</td>\n",
       "      <td>Admin</td>\n",
       "    </tr>\n",
       "  </tbody>\n",
       "</table>\n",
       "</div>"
      ],
      "text/plain": [
       "   WORKER_ID FIRST_NAME LAST_NAME  SALARY        JOINING_DATE DEPARTMENT\n",
       "0          1     Monika     Arora  100000 2014-02-20 09:00:00         HR\n",
       "1          2   Niharika     Verma   80000 2014-06-11 09:00:00      Admin\n",
       "2          3     Vishal   Singhal  300000 2014-02-20 09:00:00         HR\n",
       "3          4    Amitabh     Singh  500000 2014-02-20 09:00:00      Admin\n",
       "4          5      Vivek     Bhati  500000 2014-06-11 09:00:00      Admin\n",
       "5          6      Vipul     Diwan  200000 2014-06-11 09:00:00    Account\n",
       "6          7     Satish     Kumar   75000 2014-01-20 09:00:00    Account\n",
       "7          8    Geetika   Chauhan   90000 2014-04-11 09:00:00      Admin"
      ]
     },
     "execution_count": 12,
     "metadata": {},
     "output_type": "execute_result"
    }
   ],
   "source": [
    "pd.read_sql(\"select * from org.worker\",mydb)"
   ]
  },
  {
   "cell_type": "markdown",
   "id": "36d02d0f",
   "metadata": {},
   "source": [
    "# Q-1. Write an SQL query to print the first three characters of  FIRST_NAME from Worker table\n"
   ]
  },
  {
   "cell_type": "code",
   "execution_count": 13,
   "id": "ced6a407",
   "metadata": {},
   "outputs": [],
   "source": [
    "cursor.execute(\"SELECT SUBSTRING(first_name,1,3) from worker\")\n"
   ]
  },
  {
   "cell_type": "code",
   "execution_count": 14,
   "id": "d14e69fd",
   "metadata": {},
   "outputs": [
    {
     "data": {
      "text/plain": [
       "[('Mon',),\n",
       " ('Nih',),\n",
       " ('Vis',),\n",
       " ('Ami',),\n",
       " ('Viv',),\n",
       " ('Vip',),\n",
       " ('Sat',),\n",
       " ('Gee',)]"
      ]
     },
     "execution_count": 14,
     "metadata": {},
     "output_type": "execute_result"
    }
   ],
   "source": [
    "cursor.fetchall()"
   ]
  },
  {
   "cell_type": "markdown",
   "id": "03eba4a4",
   "metadata": {},
   "source": [
    "# Write an SQL query to find the position of the alphabet (‘a’) in the first name column ‘Amitabh’ from Worker table."
   ]
  },
  {
   "cell_type": "code",
   "execution_count": 21,
   "id": "fb0f05cd",
   "metadata": {},
   "outputs": [],
   "source": [
    "cursor.execute(\"select instr(first_name,'a') from worker where first_name='Amitabh'\")"
   ]
  },
  {
   "cell_type": "code",
   "execution_count": 22,
   "id": "b51a884c",
   "metadata": {},
   "outputs": [
    {
     "data": {
      "text/plain": [
       "[(1,)]"
      ]
     },
     "execution_count": 22,
     "metadata": {},
     "output_type": "execute_result"
    }
   ],
   "source": [
    "cursor.fetchall()"
   ]
  },
  {
   "cell_type": "markdown",
   "id": "a9c4de74",
   "metadata": {},
   "source": [
    "# Q-3. Write an SQL query to print the name of employees having the highest salary in each department."
   ]
  },
  {
   "cell_type": "code",
   "execution_count": 43,
   "id": "ef65e872",
   "metadata": {},
   "outputs": [],
   "source": [
    "cursor.execute(\" select *from worker where salary=(select Max(salary) from worker) \")"
   ]
  },
  {
   "cell_type": "code",
   "execution_count": 44,
   "id": "749e593a",
   "metadata": {},
   "outputs": [
    {
     "data": {
      "text/plain": [
       "[(4,\n",
       "  'Amitabh',\n",
       "  'Singh',\n",
       "  500000,\n",
       "  datetime.datetime(2014, 2, 20, 9, 0),\n",
       "  'Admin'),\n",
       " (5, 'Vivek', 'Bhati', 500000, datetime.datetime(2014, 6, 11, 9, 0), 'Admin')]"
      ]
     },
     "execution_count": 44,
     "metadata": {},
     "output_type": "execute_result"
    }
   ],
   "source": [
    "cursor.fetchall()"
   ]
  },
  {
   "cell_type": "code",
   "execution_count": null,
   "id": "0ff40a6d",
   "metadata": {},
   "outputs": [],
   "source": []
  }
 ],
 "metadata": {
  "kernelspec": {
   "display_name": "Python 3",
   "language": "python",
   "name": "python3"
  },
  "language_info": {
   "codemirror_mode": {
    "name": "ipython",
    "version": 3
   },
   "file_extension": ".py",
   "mimetype": "text/x-python",
   "name": "python",
   "nbconvert_exporter": "python",
   "pygments_lexer": "ipython3",
   "version": "3.8.8"
  }
 },
 "nbformat": 4,
 "nbformat_minor": 5
}
