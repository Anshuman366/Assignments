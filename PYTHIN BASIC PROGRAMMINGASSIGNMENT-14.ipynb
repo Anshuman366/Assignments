{
 "cells": [
  {
   "cell_type": "code",
   "execution_count": null,
   "id": "3ae702df",
   "metadata": {},
   "outputs": [],
   "source": [
    "PYTHIN BASIC PROGRAMMINGASSIGNMENT-14"
   ]
  },
  {
   "cell_type": "raw",
   "id": "3b09ca22",
   "metadata": {},
   "source": [
    "Question1.\n",
    "Write a function that stutters a word as if someone is struggling to read it. The first two letters are repeated twice with an ellipsis ... and space after each, and then the word is pronounced with a question mark ?.\n",
    "Examples\n",
    "stutter(\"incredible\") ➞ \"in... in... incredible?\"\n",
    "\n",
    "stutter(\"enthusiastic\") ➞ \"en... en... enthusiastic?\"\n",
    "\n",
    "stutter(\"outstanding\") ➞ \"ou... ou... outstanding?\""
   ]
  },
  {
   "cell_type": "code",
   "execution_count": 8,
   "id": "1a83015c",
   "metadata": {},
   "outputs": [],
   "source": [
    "#Solution 1\n",
    "def shutter(n):\n",
    "    \"\"\"function that stutters a word as if someone is struggling to read it.\n",
    "    The first two letters are repeated twice with an ellipsis ... and then the word\n",
    "    is pronounced with a question mark ?.\"\"\"\n",
    "    \n",
    "    try:\n",
    "        x=n[0:2]\n",
    "        print(x+\"... \"+ x +\"... \"+ n + \"?\")\n",
    "    except Exception as e:\n",
    "        print(e)"
   ]
  },
  {
   "cell_type": "code",
   "execution_count": 11,
   "id": "e44e786c",
   "metadata": {},
   "outputs": [
    {
     "name": "stdout",
     "output_type": "stream",
     "text": [
      "An... An... Anshuman?\n"
     ]
    }
   ],
   "source": [
    "shutter(\"Anshuman\")"
   ]
  },
  {
   "cell_type": "raw",
   "id": "7e485cbb",
   "metadata": {},
   "source": [
    "Question 2.\n",
    "Create a function that takes an angle in radians and returns the corresponding angle in degrees rounded to one decimal place.\n",
    "Examples\n",
    "radians_to_degrees(1) ➞ 57.3\n",
    "\n",
    "radians_to_degrees(20) ➞ 1145.9\n",
    "\n",
    "radians_to_degrees(50) ➞ 2864.8\n"
   ]
  },
  {
   "cell_type": "code",
   "execution_count": 45,
   "id": "1653a470",
   "metadata": {},
   "outputs": [],
   "source": [
    "# solution 2\n",
    "def rad_to_degree(angle): \n",
    "    \"\"\" function to convert angle in radian to angle in degree \"\"\"\n",
    "    try:\n",
    "        return round(angle*57.296,1)\n",
    "    except Exception as e:\n",
    "        print (e)\n",
    "        "
   ]
  },
  {
   "cell_type": "code",
   "execution_count": 46,
   "id": "fa2307d8",
   "metadata": {},
   "outputs": [
    {
     "name": "stdout",
     "output_type": "stream",
     "text": [
      "Please enter angle in radian50\n"
     ]
    },
    {
     "data": {
      "text/plain": [
       "2864.8"
      ]
     },
     "execution_count": 46,
     "metadata": {},
     "output_type": "execute_result"
    }
   ],
   "source": [
    "input_angle=int(input(\"Please enter angle in radian\"))\n",
    "rad_to_degree(input_angle)"
   ]
  },
  {
   "cell_type": "raw",
   "id": "f810f5bb",
   "metadata": {},
   "source": [
    "Question 3.\n",
    "In this challenge, establish if a given integer num is a Curzon number. \n",
    "If 1 plus 2 elevated to num is exactly divisible by 1 plus 2 multiplied by num, then num is a Curzon number.\n",
    "Given a non-negative integer num, implement a function that returns True if num is a Curzon number, or False otherwise."
   ]
  },
  {
   "cell_type": "code",
   "execution_count": 60,
   "id": "1c61069c",
   "metadata": {},
   "outputs": [],
   "source": [
    "#solution 3\n",
    "def is_curzon(n):\n",
    "    \"\"\" This function will return true if the given number is curzon number false otherwise\"\"\"\n",
    "    try:\n",
    "        x=pow(2,n)+1\n",
    "        y=(2*n)+1\n",
    "        if x%y==0:\n",
    "            return True\n",
    "        else:\n",
    "            return False\n",
    "    except Exception as e:\n",
    "        print(e)"
   ]
  },
  {
   "cell_type": "code",
   "execution_count": 62,
   "id": "c7b8e6c0",
   "metadata": {},
   "outputs": [
    {
     "name": "stdout",
     "output_type": "stream",
     "text": [
      "Please enter the number to check14\n"
     ]
    },
    {
     "data": {
      "text/plain": [
       "True"
      ]
     },
     "execution_count": 62,
     "metadata": {},
     "output_type": "execute_result"
    }
   ],
   "source": [
    "n=int(input(\"Please enter the number to check\"))\n",
    "is_curzon(n)"
   ]
  },
  {
   "cell_type": "code",
   "execution_count": 70,
   "id": "13fea217",
   "metadata": {},
   "outputs": [],
   "source": [
    "#solution 4 ( Taking side as input and calculating area of hexagon)\n",
    "def Area_hexagon(n):\n",
    "    \"\"\" This function will take side as a parameter and retun area of hexagon\"\"\"\n",
    "    try:\n",
    "        x=2.598076211353316*n*n\n",
    "        return \"Area of hexagon is : {} sq.unit \".format(round(x,1))\n",
    "    except Exception as e:\n",
    "        print(e)"
   ]
  },
  {
   "cell_type": "code",
   "execution_count": 71,
   "id": "4315b0b0",
   "metadata": {},
   "outputs": [
    {
     "data": {
      "text/plain": [
       "'Area of hexagon is : 23.4 sq.unit '"
      ]
     },
     "execution_count": 71,
     "metadata": {},
     "output_type": "execute_result"
    }
   ],
   "source": [
    "Area_hexagon(3)"
   ]
  }
 ],
 "metadata": {
  "kernelspec": {
   "display_name": "Python 3",
   "language": "python",
   "name": "python3"
  },
  "language_info": {
   "codemirror_mode": {
    "name": "ipython",
    "version": 3
   },
   "file_extension": ".py",
   "mimetype": "text/x-python",
   "name": "python",
   "nbconvert_exporter": "python",
   "pygments_lexer": "ipython3",
   "version": "3.8.8"
  }
 },
 "nbformat": 4,
 "nbformat_minor": 5
}
