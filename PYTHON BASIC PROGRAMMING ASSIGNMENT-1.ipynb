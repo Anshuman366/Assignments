{
 "cells": [
  {
   "cell_type": "markdown",
   "id": "72d9c4e2",
   "metadata": {},
   "source": [
    "# PYTHON BASIC PROGRAMMING ASSIGNMENT"
   ]
  },
  {
   "cell_type": "code",
   "execution_count": 1,
   "id": "81a8cc06",
   "metadata": {},
   "outputs": [
    {
     "name": "stdout",
     "output_type": "stream",
     "text": [
      "Hello python\n"
     ]
    }
   ],
   "source": [
    "#Q1) Write a Python program to print \"Hello Python\"?\n",
    "print(\"Hello python\")"
   ]
  },
  {
   "cell_type": "code",
   "execution_count": 3,
   "id": "35b57d93",
   "metadata": {},
   "outputs": [
    {
     "name": "stdout",
     "output_type": "stream",
     "text": [
      "please enter the first no4\n",
      "please enter the second no2\n",
      "the division is 2.0 \n",
      "The addition is 6\n"
     ]
    }
   ],
   "source": [
    "#Q2) Write a Python program to do arithmetical operations addition and division.?\n",
    "s=int(input(\"please enter the first no\"))\n",
    "t=int(input(\"please enter the second no\"))\n",
    "print(\"The division is {} \\nThe addition is {}\".format(s/t,s+t))"
   ]
  },
  {
   "cell_type": "code",
   "execution_count": 11,
   "id": "a8af8252",
   "metadata": {},
   "outputs": [
    {
     "name": "stdout",
     "output_type": "stream",
     "text": [
      "please enter length2\n",
      "please enter breadth3\n",
      "please enter height4\n",
      "The area is  12.0 sq.unit\n"
     ]
    }
   ],
   "source": [
    "#Q3)Write a Python program to find the area of a triangle?\n",
    "l=int(input(\"please enter length\"))\n",
    "b=int(input(\"please enter breadth\"))\n",
    "h=int(input(\"please enter height\"))\n",
    "\n",
    "print(\"The area is \",1/2*l*b*h ,\"sq.unit\")\n"
   ]
  },
  {
   "cell_type": "code",
   "execution_count": 13,
   "id": "1ebc0a68",
   "metadata": {},
   "outputs": [
    {
     "name": "stdout",
     "output_type": "stream",
     "text": [
      "Before swapping a=10,b=45\n",
      "After swapping a=45,b=10\n"
     ]
    }
   ],
   "source": [
    "#Q4)Write a Python program to swap two variables?\n",
    "a=10\n",
    "b=45\n",
    "print(\"Before swapping a={},b={}\".format(a,b))\n",
    "a,b=b,a\n",
    "print(\"After swapping a={},b={}\".format(a,b))"
   ]
  },
  {
   "cell_type": "code",
   "execution_count": 16,
   "id": "15b451ae",
   "metadata": {},
   "outputs": [
    {
     "name": "stdout",
     "output_type": "stream",
     "text": [
      "0.9445154774754867\n"
     ]
    }
   ],
   "source": [
    "#Q5) Write a Python program to generate a random number?\n",
    "import random\n",
    "n = random.random()\n",
    "print(n)"
   ]
  },
  {
   "cell_type": "code",
   "execution_count": null,
   "id": "0fbf6dad",
   "metadata": {},
   "outputs": [],
   "source": []
  }
 ],
 "metadata": {
  "kernelspec": {
   "display_name": "Python 3",
   "language": "python",
   "name": "python3"
  },
  "language_info": {
   "codemirror_mode": {
    "name": "ipython",
    "version": 3
   },
   "file_extension": ".py",
   "mimetype": "text/x-python",
   "name": "python",
   "nbconvert_exporter": "python",
   "pygments_lexer": "ipython3",
   "version": "3.8.8"
  }
 },
 "nbformat": 4,
 "nbformat_minor": 5
}
