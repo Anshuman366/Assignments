{
 "cells": [
  {
   "cell_type": "markdown",
   "id": "1373d7af",
   "metadata": {},
   "source": [
    "# PYTHON BASIC PROGRAMMING ASSIGNMENT-15"
   ]
  },
  {
   "cell_type": "raw",
   "id": "9f96b8d1",
   "metadata": {},
   "source": [
    "Question 1\n",
    "Create a function that takes three integer arguments (a, b, c) and returns the amount of integers which are of equal value."
   ]
  },
  {
   "cell_type": "code",
   "execution_count": 15,
   "id": "1bf1dd94",
   "metadata": {},
   "outputs": [],
   "source": [
    "#soluion 1\n",
    "def equal_count(a,b,c):\n",
    "    if a==b==c:\n",
    "        return 3\n",
    "    if a==b or a==c or b==c:\n",
    "        return 2\n",
    "    \n",
    "    else: \n",
    "        return 0\n",
    "    "
   ]
  },
  {
   "cell_type": "code",
   "execution_count": 16,
   "id": "7909e450",
   "metadata": {},
   "outputs": [
    {
     "data": {
      "text/plain": [
       "0"
      ]
     },
     "execution_count": 16,
     "metadata": {},
     "output_type": "execute_result"
    }
   ],
   "source": [
    "equal_count(1,2,3)"
   ]
  },
  {
   "cell_type": "code",
   "execution_count": 17,
   "id": "6ce9fb39",
   "metadata": {},
   "outputs": [
    {
     "data": {
      "text/plain": [
       "2"
      ]
     },
     "execution_count": 17,
     "metadata": {},
     "output_type": "execute_result"
    }
   ],
   "source": [
    "equal_count(3,2,3)"
   ]
  },
  {
   "cell_type": "code",
   "execution_count": 18,
   "id": "7bf6d37c",
   "metadata": {},
   "outputs": [
    {
     "data": {
      "text/plain": [
       "3"
      ]
     },
     "execution_count": 18,
     "metadata": {},
     "output_type": "execute_result"
    }
   ],
   "source": [
    "equal_count(1,1,1)"
   ]
  },
  {
   "cell_type": "raw",
   "id": "9cb7a1b4",
   "metadata": {},
   "source": [
    "Question 2\n",
    "Write a function that converts a dictionary into a list of keys-values tuples."
   ]
  },
  {
   "cell_type": "code",
   "execution_count": 31,
   "id": "ae9b08a9",
   "metadata": {},
   "outputs": [],
   "source": [
    "#solution 2\n",
    "def list_of_key_value(d):\n",
    "    try:\n",
    "        if type(d)==dict:\n",
    "                return list(sorted(d.items()))\n",
    "        else:\n",
    "            print(\"Please enter dictionary\")\n",
    "    except Exception as e:\n",
    "        print(e)"
   ]
  },
  {
   "cell_type": "code",
   "execution_count": 36,
   "id": "b7272611",
   "metadata": {},
   "outputs": [
    {
     "name": "stdout",
     "output_type": "stream",
     "text": [
      "Please enter dictionary\"dbndckhebcjhv\"\n",
      "Please enter dictionary\n"
     ]
    }
   ],
   "source": [
    "d=eval(input(\"Please enter dictionary\"))\n",
    "list_of_key_value(d)"
   ]
  },
  {
   "cell_type": "raw",
   "id": "78fcae12",
   "metadata": {},
   "source": [
    "Question 3\n",
    "Write a function that creates a dictionary with each (key, value) pair being the (lower case, upper case) versions of a letter, respectively.\n"
   ]
  },
  {
   "cell_type": "code",
   "execution_count": 8,
   "id": "03d2bb4a",
   "metadata": {},
   "outputs": [],
   "source": [
    "#solution 3\n",
    "def mapping(lst):\n",
    "    \"\"\"This function will  take list as input and return a dictionary with key as lower case and \n",
    "    value as upper case\"\"\"\n",
    "    try:\n",
    "        \n",
    "        d={}\n",
    "        for i in lst:\n",
    "            if i.islower():\n",
    "                d[i]=i.upper()\n",
    "                \n",
    "            else:\n",
    "                raise ValueError\n",
    "                break\n",
    "        return d\n",
    "    except ValueError as e:\n",
    "        print(\"Please enter all the  keys in lowercase\")\n",
    "    except exception as c:\n",
    "        print(e)\n",
    "        "
   ]
  },
  {
   "cell_type": "code",
   "execution_count": 10,
   "id": "ac601620",
   "metadata": {},
   "outputs": [
    {
     "name": "stdout",
     "output_type": "stream",
     "text": [
      "Please enter a list of leys in lowercase[\"S\", \"b\", \"c\"]\n",
      "Please enter all the  keys in lowercase\n"
     ]
    }
   ],
   "source": [
    "lst_input=eval(input(\"Please enter a list of leys in lowercase\"))\n",
    "mapping(lst_input)\n"
   ]
  },
  {
   "cell_type": "code",
   "execution_count": 67,
   "id": "579b76af",
   "metadata": {},
   "outputs": [
    {
     "data": {
      "text/plain": [
       "False"
      ]
     },
     "execution_count": 67,
     "metadata": {},
     "output_type": "execute_result"
    }
   ],
   "source": [
    "x=\"Ab\"\n",
    "x.isupper()"
   ]
  },
  {
   "cell_type": "raw",
   "id": "b3a07029",
   "metadata": {},
   "source": [
    "Question4\n",
    "Write a function, that replaces all vowels in a string with a specified vowel"
   ]
  },
  {
   "cell_type": "code",
   "execution_count": 23,
   "id": "4e8f2dd1",
   "metadata": {},
   "outputs": [],
   "source": [
    "# solution 4\n",
    "def replace_vowel(str1,new_vowel):\n",
    "    \"\"\" This function will take a string and replace all the vowels with new_vowel\"\"\"\n",
    "    try:\n",
    "        vowel=[\"A\",\"a\",\"E\",\"e\",\"I\",\"i\",\"O\",\"o\",\"U\",\"u\"]\n",
    "        for i in str1:\n",
    "            if i in vowel:\n",
    "                str2=str1.replace(i,new_vowel)\n",
    "                return str2\n",
    "    except Exception as e:\n",
    "        print(e)\n",
    "        \n",
    "    "
   ]
  },
  {
   "cell_type": "code",
   "execution_count": 24,
   "id": "a8e805d6",
   "metadata": {},
   "outputs": [
    {
     "data": {
      "text/plain": [
       "'upples and bananas'"
      ]
     },
     "execution_count": 24,
     "metadata": {},
     "output_type": "execute_result"
    }
   ],
   "source": [
    "replace_vowel(\"Apples and bananas\",\"u\")"
   ]
  },
  {
   "cell_type": "code",
   "execution_count": 26,
   "id": "ae328315",
   "metadata": {},
   "outputs": [
    {
     "data": {
      "text/plain": [
       "'chooso cassorolo'"
      ]
     },
     "execution_count": 26,
     "metadata": {},
     "output_type": "execute_result"
    }
   ],
   "source": [
    "replace_vowel(\"cheese casserole\",\"o\")"
   ]
  },
  {
   "cell_type": "raw",
   "id": "170bf541",
   "metadata": {},
   "source": [
    "Question5\n",
    "Create a function that takes a string as input and capitalizes a letter if its ASCII code is even and returns its lower case version if its ASCII code is odd."
   ]
  },
  {
   "cell_type": "code",
   "execution_count": 32,
   "id": "46557481",
   "metadata": {},
   "outputs": [],
   "source": [
    "def ascii_capitalize(str1):\n",
    "    str2=\"\"\n",
    "    for i in str1:\n",
    "        if ord(i)%2==0:\n",
    "            str2+=i.upper()\n",
    "        else:\n",
    "            str2+=i.lower()\n",
    "    print(str2)\n",
    "    \n"
   ]
  },
  {
   "cell_type": "code",
   "execution_count": 33,
   "id": "34caa82e",
   "metadata": {},
   "outputs": [
    {
     "name": "stdout",
     "output_type": "stream",
     "text": [
      "To Be oR NoT To Be!\n"
     ]
    }
   ],
   "source": [
    "ascii_capitalize(\"to be or not to be!\")"
   ]
  },
  {
   "cell_type": "code",
   "execution_count": 34,
   "id": "73f94c4c",
   "metadata": {},
   "outputs": [
    {
     "name": "stdout",
     "output_type": "stream",
     "text": [
      "THe LiTTLe meRmaiD\n"
     ]
    }
   ],
   "source": [
    "ascii_capitalize(\"THE LITTLE MERMAID\")"
   ]
  },
  {
   "cell_type": "code",
   "execution_count": null,
   "id": "b9a39c24",
   "metadata": {},
   "outputs": [],
   "source": []
  }
 ],
 "metadata": {
  "kernelspec": {
   "display_name": "Python 3",
   "language": "python",
   "name": "python3"
  },
  "language_info": {
   "codemirror_mode": {
    "name": "ipython",
    "version": 3
   },
   "file_extension": ".py",
   "mimetype": "text/x-python",
   "name": "python",
   "nbconvert_exporter": "python",
   "pygments_lexer": "ipython3",
   "version": "3.8.8"
  }
 },
 "nbformat": 4,
 "nbformat_minor": 5
}
