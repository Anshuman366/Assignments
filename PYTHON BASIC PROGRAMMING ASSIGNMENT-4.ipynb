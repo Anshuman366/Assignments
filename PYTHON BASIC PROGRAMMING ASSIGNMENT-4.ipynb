{
 "cells": [
  {
   "cell_type": "markdown",
   "metadata": {},
   "source": [
    "# PYTHON BASIC PROGRAMMING ASSIGNMENT-4"
   ]
  },
  {
   "cell_type": "code",
   "execution_count": 7,
   "metadata": {},
   "outputs": [],
   "source": [
    "#Q1)Write a Python Program to Find the Factorial of a Number?\n",
    "# factorial using recursion method\n",
    "def fact(num):\n",
    "    if num==1:\n",
    "        return 1\n",
    "    else:\n",
    "        return num*fact(num-1)\n",
    "        \n",
    "    \n"
   ]
  },
  {
   "cell_type": "code",
   "execution_count": 8,
   "metadata": {},
   "outputs": [
    {
     "data": {
      "text/plain": [
       "24"
      ]
     },
     "execution_count": 8,
     "metadata": {},
     "output_type": "execute_result"
    }
   ],
   "source": [
    "fact(4)"
   ]
  },
  {
   "cell_type": "code",
   "execution_count": 12,
   "metadata": {},
   "outputs": [],
   "source": [
    "# factorial without using recursion method\n",
    "def fact_1(n):\n",
    "    result=1\n",
    "    for i in range(1,n+1):\n",
    "        result= result*i\n",
    "    return result"
   ]
  },
  {
   "cell_type": "code",
   "execution_count": 15,
   "metadata": {},
   "outputs": [
    {
     "data": {
      "text/plain": [
       "5040"
      ]
     },
     "execution_count": 15,
     "metadata": {},
     "output_type": "execute_result"
    }
   ],
   "source": [
    "fact_1(7)"
   ]
  },
  {
   "cell_type": "code",
   "execution_count": 24,
   "metadata": {},
   "outputs": [
    {
     "name": "stdout",
     "output_type": "stream",
     "text": [
      "please enter the starting and ending number of your multiplication table \n",
      "\n",
      "  From which number you want multiplication table4\n",
      "\n",
      " Upto which number you want  multiplication table6\n",
      "4 * 1 = 4\n",
      "4 * 2 = 8\n",
      "4 * 3 = 12\n",
      "4 * 4 = 16\n",
      "4 * 5 = 20\n",
      "4 * 6 = 24\n",
      "4 * 7 = 28\n",
      "4 * 8 = 32\n",
      "4 * 9 = 36\n",
      "4 * 10 = 40\n",
      "\n",
      "\n",
      "5 * 1 = 5\n",
      "5 * 2 = 10\n",
      "5 * 3 = 15\n",
      "5 * 4 = 20\n",
      "5 * 5 = 25\n",
      "5 * 6 = 30\n",
      "5 * 7 = 35\n",
      "5 * 8 = 40\n",
      "5 * 9 = 45\n",
      "5 * 10 = 50\n",
      "\n",
      "\n",
      "6 * 1 = 6\n",
      "6 * 2 = 12\n",
      "6 * 3 = 18\n",
      "6 * 4 = 24\n",
      "6 * 5 = 30\n",
      "6 * 6 = 36\n",
      "6 * 7 = 42\n",
      "6 * 8 = 48\n",
      "6 * 9 = 54\n",
      "6 * 10 = 60\n",
      "\n",
      "\n",
      " "
     ]
    }
   ],
   "source": [
    "#Q2)Write a Python Program to Display the multiplication Table?\n",
    "\n",
    "print(\"please enter the starting and ending number of your multiplication table \")\n",
    "\n",
    "print()\n",
    "\n",
    "num1=int(input(\"  From which number you want multiplication table\"))\n",
    "\n",
    "print()\n",
    "\n",
    "num2=int(input(\" Upto which number you want  multiplication table\"))\n",
    "\n",
    "for i in range(num1,num2+1):\n",
    "    for j in range(1,11):\n",
    "        print(\"{} * {} = {}\".format(i,j,i*j))\n",
    "    print(\"\\n\")\n",
    "print(end=\" \")"
   ]
  },
  {
   "cell_type": "code",
   "execution_count": 46,
   "metadata": {},
   "outputs": [],
   "source": [
    "#Q3)Write a Python Program to Print the Fibonacci sequence?\n",
    "def faboonicci(n):\n",
    "    a=0\n",
    "    b=1\n",
    "    for i in range(n):\n",
    "        a,b=b,a+b\n",
    "        yield a"
   ]
  },
  {
   "cell_type": "code",
   "execution_count": 50,
   "metadata": {},
   "outputs": [
    {
     "name": "stdout",
     "output_type": "stream",
     "text": [
      "1\n",
      "1\n",
      "2\n",
      "3\n",
      "5\n",
      "8\n",
      "13\n",
      "21\n"
     ]
    }
   ],
   "source": [
    "for i in faboonicci(8):\n",
    "    print(i)"
   ]
  },
  {
   "cell_type": "raw",
   "metadata": {},
   "source": [
    "Q4)Write a Python Program to Check Armstrong Number?"
   ]
  },
  {
   "cell_type": "code",
   "execution_count": 6,
   "metadata": {},
   "outputs": [
    {
     "name": "stdout",
     "output_type": "stream",
     "text": [
      "please enter number:23\n",
      "This number is not armstrong number\n"
     ]
    }
   ],
   "source": [
    "\"\"\"in armstrong number the sum of the number raised to power n is equal to the \n",
    "number itself(n is the number of digits in that given number)\n",
    "\"\"\"\n",
    "\n",
    "#Taking input number from user in string format \n",
    "num=input(\"please enter number:\")\n",
    "\n",
    "# measuring length of number\n",
    "length=len(num)\n",
    "lst=[]\n",
    "\n",
    "for i in num :\n",
    "    x=int(i)**length # number raised to power n((n is the number of digits in that given number)\n",
    "    lst.append(x) # appending all the nimbers in a list\\\n",
    "\n",
    "\n",
    "sum_1=0  # creating another variable to store sum of the number\n",
    "for i in lst:\n",
    "    sum_1=sum_1+i\n",
    "    \n",
    "if sum_1==int(num):# num was in str format, so coverting into int class and then comparing\n",
    "    print(\"This number is Armstrong number\")\n",
    "else:\n",
    "    print(\"This number is not armstrong number\")"
   ]
  },
  {
   "cell_type": "code",
   "execution_count": 10,
   "metadata": {},
   "outputs": [
    {
     "name": "stdout",
     "output_type": "stream",
     "text": [
      "Please enter the lower range200\n",
      "Please enter the upper range2000\n",
      "370\n",
      "371\n",
      "407\n",
      "1634\n"
     ]
    }
   ],
   "source": [
    "#Q4)Write a Python Program to Find Armstrong Number in an Interval?\n",
    "\n",
    "lower_no=int(input(\"Please enter the lower range\"))\n",
    "upper_no=int(input(\"Please enter the upper range\"))\n",
    "#lower_no=100\n",
    "#upper_no=1000\n",
    "\n",
    "for i in range(lower_no,upper_no+1):\n",
    "    length=len(str(i))\n",
    "    \n",
    "    sum_1=0\n",
    "    temp=i\n",
    "    \n",
    "    while temp>0:\n",
    "        last_digit=temp%10 # this will give me the last digit of the number\n",
    "        \n",
    "        sum_1+=last_digit**length\n",
    "        temp//=10\n",
    "    if sum_1==i:\n",
    "        print(i)\n",
    "        \n",
    "    \n",
    "    "
   ]
  },
  {
   "cell_type": "code",
   "execution_count": 3,
   "metadata": {},
   "outputs": [
    {
     "name": "stdout",
     "output_type": "stream",
     "text": [
      "Please enter the natural number upto which you want sum100\n",
      "The sum of 100 natural number is:  5050\n"
     ]
    }
   ],
   "source": [
    "#Q5)Write a Python Program to Find the Sum of Natural Numbers?\n",
    "num=int(input(\"Please enter the natural number upto which you want sum\"))\n",
    "if num>0:\n",
    "    sum1=0\n",
    "    for i in range(0,num+1):\n",
    "        sum1+=i\n",
    "else:\n",
    "    print(\"Please enter positive number\")\n",
    "print(\"The sum of {} natural number is:  {}\".format(num,sum1))"
   ]
  },
  {
   "cell_type": "code",
   "execution_count": null,
   "metadata": {},
   "outputs": [],
   "source": []
  },
  {
   "cell_type": "code",
   "execution_count": null,
   "metadata": {},
   "outputs": [],
   "source": []
  }
 ],
 "metadata": {
  "kernelspec": {
   "display_name": "Python 3",
   "language": "python",
   "name": "python3"
  },
  "language_info": {
   "codemirror_mode": {
    "name": "ipython",
    "version": 3
   },
   "file_extension": ".py",
   "mimetype": "text/x-python",
   "name": "python",
   "nbconvert_exporter": "python",
   "pygments_lexer": "ipython3",
   "version": "3.8.8"
  }
 },
 "nbformat": 4,
 "nbformat_minor": 4
}
