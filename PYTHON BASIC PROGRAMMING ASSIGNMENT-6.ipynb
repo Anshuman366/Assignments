{
 "cells": [
  {
   "cell_type": "markdown",
   "id": "af0c6f5b",
   "metadata": {},
   "source": [
    "# PYTHON BASIC PROGRAMMING ASSIGNMENT-6"
   ]
  },
  {
   "cell_type": "code",
   "execution_count": 25,
   "id": "7d870702",
   "metadata": {},
   "outputs": [],
   "source": [
    "#Q1) Write a Python Program to Display Fibonacci Sequence Using Recursion?\n",
    "def Fabonicci(n):\n",
    "        if n <= 1:\n",
    "            return n\n",
    "        else:\n",
    "            return(Fabonicci(n-1) + Fabonicci(n-2))"
   ]
  },
  {
   "cell_type": "code",
   "execution_count": 26,
   "id": "d8b16d5f",
   "metadata": {},
   "outputs": [
    {
     "name": "stdout",
     "output_type": "stream",
     "text": [
      "0\n",
      "1\n",
      "1\n",
      "2\n",
      "3\n",
      "5\n",
      "8\n",
      "13\n",
      "21\n",
      "34\n"
     ]
    }
   ],
   "source": [
    "for i in range(10):\n",
    "    print(Fabonicci(i))"
   ]
  },
  {
   "cell_type": "code",
   "execution_count": 33,
   "id": "705c201f",
   "metadata": {},
   "outputs": [],
   "source": [
    "#Q2)Write a Python Program to Find Factorial of Number Using Recursion?\n",
    "def fact(n):\n",
    "    if n==1:\n",
    "        return 1\n",
    "    else:\n",
    "        return n*fact(n-1)\n",
    "        \n",
    "        "
   ]
  },
  {
   "cell_type": "code",
   "execution_count": 34,
   "id": "62a00bfe",
   "metadata": {},
   "outputs": [
    {
     "data": {
      "text/plain": [
       "120"
      ]
     },
     "execution_count": 34,
     "metadata": {},
     "output_type": "execute_result"
    }
   ],
   "source": [
    "fact(5)"
   ]
  },
  {
   "cell_type": "code",
   "execution_count": 27,
   "id": "f74ccb0b",
   "metadata": {},
   "outputs": [
    {
     "name": "stdout",
     "output_type": "stream",
     "text": [
      "Enter your height in cm: 455\n",
      "Enter your weight in kg: 56\n",
      "You BMI is 2.704987320371936\n",
      "You are underweight.\n"
     ]
    }
   ],
   "source": [
    "#Q3)Write a Python Program to calculate your Body Mass Index?\n",
    "height = float(input(\"Enter your height in cm: \"))\n",
    "weight = float(input(\"Enter your weight in kg: \"))\n",
    "\n",
    "BMI = weight / (height/100)**2\n",
    "\n",
    "print(\"You BMI is {}\".format(BMI))\n",
    "\n",
    "if BMI <= 18.4:\n",
    "    print(\"You are underweight.\")\n",
    "elif BMI <= 24.9:\n",
    "    print(\"You are healthy.\")\n",
    "elif BMI <= 29.9:\n",
    "    print(\"You are over weight.\")\n",
    "elif BMI <= 34.9:\n",
    "    print(\"You are severely over weight.\")\n",
    "elif BMI <= 39.9:\n",
    "    print(\"You are obese.\")\n",
    "else:\n",
    "    print(\"You are severely obese.\")"
   ]
  },
  {
   "cell_type": "code",
   "execution_count": 31,
   "id": "eca77d22",
   "metadata": {},
   "outputs": [],
   "source": [
    "#Q4)Write a Python Program to calculate the natural logarithm of any number?\n",
    "#n=int(\"Please enter number\")\n",
    "def natural_log(n):\n",
    "    import math\n",
    "    return math.log(n)"
   ]
  },
  {
   "cell_type": "code",
   "execution_count": 32,
   "id": "ddcb1fbd",
   "metadata": {},
   "outputs": [
    {
     "data": {
      "text/plain": [
       "3.8066624897703196"
      ]
     },
     "execution_count": 32,
     "metadata": {},
     "output_type": "execute_result"
    }
   ],
   "source": [
    "natural_log(45)"
   ]
  },
  {
   "cell_type": "code",
   "execution_count": 40,
   "id": "1cb4a1e0",
   "metadata": {},
   "outputs": [],
   "source": [
    "#Q5)Write a Python Program for cube sum of first n natural numbers?\n",
    "def cube_sum(n):\n",
    "    \"\"\" This function will return sum of cube of n natural number\"\"\"\n",
    "    if type(n)==int:\n",
    "        \n",
    "        lst=[]\n",
    "        for i in range(n+1):\n",
    "            lst.append(i**3)\n",
    "        return sum(lst)\n",
    "    else:\n",
    "        print(\"Please enter a positive integer \")"
   ]
  },
  {
   "cell_type": "code",
   "execution_count": 45,
   "id": "74c18e5c",
   "metadata": {},
   "outputs": [
    {
     "data": {
      "text/plain": [
       "9"
      ]
     },
     "execution_count": 45,
     "metadata": {},
     "output_type": "execute_result"
    }
   ],
   "source": [
    "#l=[2,3,4,5]\n",
    "cube_sum(2)"
   ]
  },
  {
   "cell_type": "code",
   "execution_count": null,
   "id": "c54ec1df",
   "metadata": {},
   "outputs": [],
   "source": []
  }
 ],
 "metadata": {
  "kernelspec": {
   "display_name": "Python 3",
   "language": "python",
   "name": "python3"
  },
  "language_info": {
   "codemirror_mode": {
    "name": "ipython",
    "version": 3
   },
   "file_extension": ".py",
   "mimetype": "text/x-python",
   "name": "python",
   "nbconvert_exporter": "python",
   "pygments_lexer": "ipython3",
   "version": "3.8.8"
  }
 },
 "nbformat": 4,
 "nbformat_minor": 5
}
