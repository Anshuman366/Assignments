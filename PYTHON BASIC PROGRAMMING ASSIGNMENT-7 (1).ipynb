{
 "cells": [
  {
   "cell_type": "markdown",
   "id": "fa7bfa92",
   "metadata": {},
   "source": [
    "# PYTHON BASIC PROGRAMMING ASSIGNMENT-7"
   ]
  },
  {
   "cell_type": "code",
   "execution_count": 21,
   "id": "bc58fab4",
   "metadata": {},
   "outputs": [],
   "source": [
    "#Q1)Write a Python program to check if the given number is a Disarium Number?\n",
    "\n",
    "def Disarium_nu(num):\n",
    "    \"\"\" This fun will take number as input and weather the number is Disarium number or not\"\"\"\n",
    "    try:\n",
    "        num1=str(num)\n",
    "        lst=[]\n",
    "        for i in range(len(num1)):\n",
    "            x=int(num1[i])**(i+1) # number raised to power index+1\n",
    "            lst.append(x)\n",
    "        sum_1= sum(lst)\n",
    "\n",
    "        if sum_1==int(num1):\n",
    "            print(\"{} is Disarium number\".format(num1))\n",
    "        else:\n",
    "            print(\"{} is not Disarium number\".format(num1))\n",
    "            \n",
    "    except ValueError as v1:\n",
    "        print(\"Please enter valid input\")\n",
    "        \n",
    "        "
   ]
  },
  {
   "cell_type": "code",
   "execution_count": 22,
   "id": "6b32ef63",
   "metadata": {},
   "outputs": [
    {
     "name": "stdout",
     "output_type": "stream",
     "text": [
      "0 is Disarium number\n"
     ]
    }
   ],
   "source": [
    "Disarium_nu(0)"
   ]
  },
  {
   "cell_type": "code",
   "execution_count": 43,
   "id": "7a0edad1",
   "metadata": {},
   "outputs": [],
   "source": [
    "#Q2)Write a Python program to print all disarium numbers between 1 to 100?\n",
    "\n",
    "\n",
    "def Disarium_in_range():\n",
    "    try:\n",
    "            lst1=[]\n",
    "            for i in range(1,100):\n",
    "                    num1=str(i)\n",
    "                    lst=[]\n",
    "                    for j in range(len(num1)):\n",
    "                        x=int(num1[j])**(j+1) # number raised to power index+1\n",
    "                        lst.append(x)\n",
    "                    sum_1= sum(lst)\n",
    "\n",
    "                    if sum_1==int(num1):\n",
    "\n",
    "                        lst1.append(int(num1))\n",
    "                    else:\n",
    "                        pass\n",
    "\n",
    "            return lst1\n",
    "    except Exception as e:\n",
    "        print(e)"
   ]
  },
  {
   "cell_type": "code",
   "execution_count": 44,
   "id": "4c03ce02",
   "metadata": {},
   "outputs": [
    {
     "data": {
      "text/plain": [
       "[1, 2, 3, 4, 5, 6, 7, 8, 9, 89]"
      ]
     },
     "execution_count": 44,
     "metadata": {},
     "output_type": "execute_result"
    }
   ],
   "source": [
    "Disarium_in_range()"
   ]
  },
  {
   "cell_type": "code",
   "execution_count": 57,
   "id": "a0fc4588",
   "metadata": {},
   "outputs": [
    {
     "name": "stdout",
     "output_type": "stream",
     "text": [
      "78\n",
      "78 is not a happy number\n"
     ]
    }
   ],
   "source": [
    "#Q3)Write a Python program to check if the given number is Happy Number?\n",
    "\n",
    "def sum_of_nu(n):\n",
    "    \n",
    "            num=str(n)\n",
    "            sum1=0\n",
    "            for i in num:\n",
    "                sum1+=int(i)**2\n",
    "            return sum1\n",
    "    \n",
    "\n",
    "try:\n",
    "    \n",
    "    n=int(input())\n",
    "    if n==0:\n",
    "        print(\"0 is not a happy number\")\n",
    "    else:\n",
    "        result=n\n",
    "\n",
    "        while result!=1 and result!=16: # if the sum become 4 tyen the number will never be a happy number,you can use any number like(16,37,58....)\n",
    "            result=sum_of_nu(result)\n",
    "        if result==1:\n",
    "            print(n,\"is a happy number\")\n",
    "        else:\n",
    "            print(n,\"is not a happy number\")\n",
    "except Exception as e:\n",
    "    print(\"Invalid input!!\")\n"
   ]
  },
  {
   "cell_type": "code",
   "execution_count": 67,
   "id": "b24e29fd",
   "metadata": {},
   "outputs": [
    {
     "name": "stdout",
     "output_type": "stream",
     "text": [
      "[1, 7, 10, 13, 19, 23, 28, 31, 32, 44, 49, 68, 70, 79, 82, 86, 91, 94, 97, 100]\n"
     ]
    }
   ],
   "source": [
    "#Q4)Write a Python program to print all happy numbers between 1 and 100?\n",
    "\n",
    "def sum_of_nu(n):\n",
    "    \"\"\" Return sum of square of given number\"\"\"\n",
    "    \n",
    "    num=str(n)\n",
    "    sum1=0\n",
    "    for i in num:\n",
    "            sum1+=int(i)**2\n",
    "    return sum1\n",
    "    \n",
    "    \n",
    "        \n",
    "\n",
    "\n",
    "lst1=[]\n",
    "for i in range(1,101):\n",
    "    n=i\n",
    "    result=n\n",
    "\n",
    "    while result!=1 and result!=4: # if the sum become 4 tyen the number will never be a happy number,you can use any number like(16,37,58....)\n",
    "               result=sum_of_nu(result)\n",
    "    if result==1:\n",
    "               lst1.append(n)\n",
    "\n",
    "print(lst1)\n"
   ]
  },
  {
   "cell_type": "code",
   "execution_count": 59,
   "id": "4d7c47be",
   "metadata": {},
   "outputs": [],
   "source": [
    "#Q5)5.Write a Python program to determine whether the given number is a Harshad Number?\n",
    "def Harshad_Number(num):\n",
    "    try:\n",
    "        if num==0:\n",
    "            print(\"0 is not Harshad Number \")\n",
    "\n",
    "        else:\n",
    "\n",
    "                sum1=0\n",
    "                n=str(num)\n",
    "                for i in n:\n",
    "                    sum1=sum1+int(i)\n",
    "\n",
    "                if int(n)%sum1==0:\n",
    "                    print(n,\"is a Harshad Number\")\n",
    "                else:\n",
    "                    print(n,\"is a not Harshad Number\")\n",
    "    except Exception as e:\n",
    "        print(\"Please enter valid input\")\n",
    "        \n",
    "\n",
    "\n",
    "\n"
   ]
  },
  {
   "cell_type": "code",
   "execution_count": 60,
   "id": "f0fbaa03",
   "metadata": {},
   "outputs": [
    {
     "name": "stdout",
     "output_type": "stream",
     "text": [
      "Please enter valid input\n"
     ]
    }
   ],
   "source": [
    "Harshad_Number(\"ejfhf\")"
   ]
  },
  {
   "cell_type": "code",
   "execution_count": 3,
   "id": "6105d48b",
   "metadata": {},
   "outputs": [],
   "source": [
    "#6.Write a Python program to print all pronic numbers between 1 and 100?\n",
    "def Pronic_no1():\n",
    "    \"\"\" function will print The pronic number between 1 and 100\"\"\"\n",
    "    try:\n",
    "        lst=[]\n",
    "        lst1=[]\n",
    "        for n in range(100):\n",
    "\n",
    "                    for i in range(n):\n",
    "                            lst.append(i*(i+1))\n",
    "                    if n in lst:\n",
    "                            lst1.append(n)\n",
    "\n",
    "        print(lst1)\n",
    "    except Exception as e:\n",
    "        print(\"Please enter valid input\")\n"
   ]
  },
  {
   "cell_type": "code",
   "execution_count": 7,
   "id": "8c6c61ea",
   "metadata": {},
   "outputs": [
    {
     "name": "stdout",
     "output_type": "stream",
     "text": [
      "[2, 6, 12, 20, 30, 42, 56, 72, 90]\n"
     ]
    }
   ],
   "source": [
    "Pronic_no1()"
   ]
  },
  {
   "cell_type": "code",
   "execution_count": null,
   "id": "541f224a",
   "metadata": {},
   "outputs": [],
   "source": []
  }
 ],
 "metadata": {
  "kernelspec": {
   "display_name": "Python 3",
   "language": "python",
   "name": "python3"
  },
  "language_info": {
   "codemirror_mode": {
    "name": "ipython",
    "version": 3
   },
   "file_extension": ".py",
   "mimetype": "text/x-python",
   "name": "python",
   "nbconvert_exporter": "python",
   "pygments_lexer": "ipython3",
   "version": "3.8.8"
  }
 },
 "nbformat": 4,
 "nbformat_minor": 5
}
