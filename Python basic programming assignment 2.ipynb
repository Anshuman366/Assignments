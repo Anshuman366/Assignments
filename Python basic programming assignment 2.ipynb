{
 "cells": [
  {
   "cell_type": "markdown",
   "id": "8c799b8c",
   "metadata": {},
   "source": [
    "# Python basic programming assignment 2"
   ]
  },
  {
   "cell_type": "code",
   "execution_count": 2,
   "id": "48417ecd",
   "metadata": {},
   "outputs": [
    {
     "name": "stdout",
     "output_type": "stream",
     "text": [
      "Please enter the distance in km56\n",
      "Distance in miles is 34.796776\n"
     ]
    }
   ],
   "source": [
    "#q1)Write a Python program to convert kilometers to miles?\n",
    "dis=int(input(\"Please enter the distance in km\"))\n",
    "print(\"Distance in miles is {}\".format(dis*0.621371))"
   ]
  },
  {
   "cell_type": "code",
   "execution_count": 5,
   "id": "450c543e",
   "metadata": {},
   "outputs": [
    {
     "name": "stdout",
     "output_type": "stream",
     "text": [
      "please enter the tempreture in degree celcius45\n",
      "Tempreture in Fahrenheit is 113.0\n"
     ]
    }
   ],
   "source": [
    "#q2)Write a Python program to convert Celsius to Fahrenheit? (°C × 9/5) + 32 = °F\n",
    "temp= int(input(\"please enter the tempreture in degree celcius\"))\n",
    "print(\"Tempreture in Fahrenheit is {}\".format((temp*1.8)+32))"
   ]
  },
  {
   "cell_type": "code",
   "execution_count": 6,
   "id": "dfe91e79",
   "metadata": {},
   "outputs": [],
   "source": [
    "#Q3)Write a Python program to display calendar?\n",
    "def cal(year,month):\n",
    "    \n",
    "    import calendar as cal\n",
    "    print(cal.month(year,month))"
   ]
  },
  {
   "cell_type": "code",
   "execution_count": 7,
   "id": "9abbd8ab",
   "metadata": {},
   "outputs": [
    {
     "name": "stdout",
     "output_type": "stream",
     "text": [
      "   December 2021\n",
      "Mo Tu We Th Fr Sa Su\n",
      "       1  2  3  4  5\n",
      " 6  7  8  9 10 11 12\n",
      "13 14 15 16 17 18 19\n",
      "20 21 22 23 24 25 26\n",
      "27 28 29 30 31\n",
      "\n"
     ]
    }
   ],
   "source": [
    "cal(2021,12)"
   ]
  },
  {
   "cell_type": "code",
   "execution_count": null,
   "id": "f4e2aeab",
   "metadata": {},
   "outputs": [],
   "source": [
    "#Q4)Write a Python program to solve quadratic equation?\n",
    "a=int(input(\"Please provide cofficient of x sq \"))\n",
    "b=int(input(\"Please provide cofficient of x \"))\n",
    "c=int(input(\"Please provide constant in given eq.\"))\n",
    "dis=b*b-4*a*c# creating discriminent of equation\n",
    "\n",
    "if dis<0:\n",
    "    print(\"There is no real root of this equation\")\n",
    "else:\n",
    "    dis_root=dis**0.5\n",
    "    #rint(dis_root)\n",
    "    root1=(-b+dis_root)/(2*a)\n",
    "    root2=(-b-dis_root)/(2*a)\n",
    "    print(\"Roots of equation are:\" , root1,root2)\n"
   ]
  },
  {
   "cell_type": "code",
   "execution_count": 1,
   "id": "994ec3d0",
   "metadata": {},
   "outputs": [
    {
     "name": "stdout",
     "output_type": "stream",
     "text": [
      "Before swapping a=10,b=45\n",
      "After swapping a=45,b=10\n"
     ]
    }
   ],
   "source": [
    "#Q5)Write a Python program to swap two variables without temp variable?\n",
    "\n",
    "a=10\n",
    "b=45\n",
    "print(\"Before swapping a={},b={}\".format(a,b))\n",
    "a,b=b,a\n",
    "print(\"After swapping a={},b={}\".format(a,b))"
   ]
  },
  {
   "cell_type": "code",
   "execution_count": null,
   "id": "188f7844",
   "metadata": {},
   "outputs": [],
   "source": []
  }
 ],
 "metadata": {
  "kernelspec": {
   "display_name": "Python 3",
   "language": "python",
   "name": "python3"
  },
  "language_info": {
   "codemirror_mode": {
    "name": "ipython",
    "version": 3
   },
   "file_extension": ".py",
   "mimetype": "text/x-python",
   "name": "python",
   "nbconvert_exporter": "python",
   "pygments_lexer": "ipython3",
   "version": "3.8.8"
  }
 },
 "nbformat": 4,
 "nbformat_minor": 5
}
