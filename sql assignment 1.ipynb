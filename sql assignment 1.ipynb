{
 "cells": [
  {
   "cell_type": "raw",
   "id": "b0d0db5c",
   "metadata": {},
   "source": [
    "question 1)\n",
    "Write an SQL query to fetch “FIRST_NAME” from Worker table using the alias\n",
    "name as <WORKER_NAME>.\n",
    "\n",
    "Answer::\n",
    "select \"FIRST_NAME\" as WORKER_NAME from worker"
   ]
  },
  {
   "cell_type": "raw",
   "id": "70f45c8e",
   "metadata": {},
   "source": [
    "Question 2)\n",
    "Write an SQL query to fetch unique values of DEPARTMENT from Worker table.\n",
    "\n",
    "Answer::\n",
    "        \n",
    "        \n",
    "select distinct DEPARTMENT from worker\n"
   ]
  },
  {
   "cell_type": "code",
   "execution_count": null,
   "id": "b95e2df2",
   "metadata": {},
   "outputs": [],
   "source": [
    "QUESTION 3)\n",
    "Write an SQL query to show the last 5 record from a table.\n",
    "\n",
    "ANSWER:\n",
    "    \n",
    "suppose table name=carbon_dataset\n",
    "    \n",
    "(select * from carbon_dataset order by id desc limit 5)----->> This will give last 5 records but in decending order\n",
    "\n"
   ]
  }
 ],
 "metadata": {
  "kernelspec": {
   "display_name": "Python 3",
   "language": "python",
   "name": "python3"
  },
  "language_info": {
   "codemirror_mode": {
    "name": "ipython",
    "version": 3
   },
   "file_extension": ".py",
   "mimetype": "text/x-python",
   "name": "python",
   "nbconvert_exporter": "python",
   "pygments_lexer": "ipython3",
   "version": "3.8.8"
  }
 },
 "nbformat": 4,
 "nbformat_minor": 5
}
