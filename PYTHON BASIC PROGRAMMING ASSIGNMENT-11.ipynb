{
 "cells": [
  {
   "cell_type": "markdown",
   "id": "b06eba1c",
   "metadata": {},
   "source": [
    "# PYTHON BASIC PROGRAMMING ASSIGNMENT-11"
   ]
  },
  {
   "cell_type": "raw",
   "id": "9b3c95cc",
   "metadata": {},
   "source": [
    "Question 1:\n",
    "\n",
    "Write a program that calculates and prints the value according to the given formula:\n",
    "\n",
    "Q = Square root of [(2 * C * D)/H]\n",
    "\n",
    "Following are the fixed values of C and H:\n",
    "\n",
    "C is 50. H is 30.\n",
    "\n",
    "D is the variable whose values should be input to your program in a comma-separated sequence.\n",
    "\n",
    "Example\n",
    "\n",
    "Let us assume the following comma separated input sequence is given to the program:\n",
    "\n",
    "100,150,180\n",
    "\n",
    "The output of the program should be:\n",
    "\n",
    "18,22,24"
   ]
  },
  {
   "cell_type": "code",
   "execution_count": 39,
   "id": "2986b8e9",
   "metadata": {},
   "outputs": [],
   "source": [
    "## solution 1\n",
    "def Evaluate():\n",
    "    try:\n",
    "        D=input(\"Please enter the value seperated by comma(,)\")#Q = Square root of [(2 * C * D)/H]\n",
    "        d= D.split(\",\")\n",
    "        for i in d:\n",
    "            #x=i\n",
    "            C=50\n",
    "            H=30\n",
    "            r1=(2 * C * int(i))/H\n",
    "            Q=pow(r1,0.5)\n",
    "            print(int(Q))\n",
    "    except Exception as e:\n",
    "        print( \"some error occured: \" +str(e))"
   ]
  },
  {
   "cell_type": "code",
   "execution_count": 40,
   "id": "07c1e7f0",
   "metadata": {},
   "outputs": [
    {
     "name": "stdout",
     "output_type": "stream",
     "text": [
      "Please enter the value seperated by comma(,)100,150,180\n",
      "18\n",
      "22\n",
      "24\n"
     ]
    }
   ],
   "source": [
    "Evaluate()"
   ]
  },
  {
   "cell_type": "raw",
   "id": "db056ea7",
   "metadata": {},
   "source": [
    "Question 2:\n",
    "Write a program which takes 2 digits, X,Y as input and generates a 2-dimensional array. The element value in the i-th row and j-th column of the array should be i*j.\n",
    "\n",
    "Note: i=0,1.., X-1; j=0,1,¡\u001fY-1.\n",
    "\n",
    "Example\n",
    "\n",
    "Suppose the following inputs are given to the program:\n",
    "\n",
    "3,5\n",
    "\n",
    "Then, the output of the program should be:\n",
    "\n",
    "[[0, 0, 0, 0, 0], [0, 1, 2, 3, 4], [0, 2, 4, 6, 8]] \n",
    "\n"
   ]
  },
  {
   "cell_type": "markdown",
   "id": "538d007e",
   "metadata": {},
   "source": [
    "##solution 2\n",
    "not done arrays in class will do it later"
   ]
  },
  {
   "cell_type": "raw",
   "id": "bc2a3388",
   "metadata": {},
   "source": [
    "Question 3:\n",
    "Write a program that accepts a comma separated sequence of words as input and prints the words in a comma-separated sequence after sorting them alphabetically.\n",
    "\n",
    "Suppose the following input is supplied to the program:\n",
    "\n",
    "without,hello,bag,world\n",
    "\n",
    "Then, the output should be:\n",
    "\n",
    "bag,hello,without,world"
   ]
  },
  {
   "cell_type": "code",
   "execution_count": 35,
   "id": "e3891d8f",
   "metadata": {},
   "outputs": [],
   "source": [
    "def sort_words():\n",
    "    \"\"\"This function will take words as input and sort them and return list \"\"\"\n",
    "    try:\n",
    "            Input_words=input(\"Please input words sepersted by comma (,)\")\n",
    "            word=Input_words.split(\",\")\n",
    "            word.sort()\n",
    "            return word\n",
    "        \n",
    "    except Exception as e:\n",
    "            print(\"Some error occured:\"+str(e))\n",
    "        "
   ]
  },
  {
   "cell_type": "code",
   "execution_count": 38,
   "id": "3aa40fce",
   "metadata": {},
   "outputs": [
    {
     "name": "stdout",
     "output_type": "stream",
     "text": [
      "Please input words sepersted by comma (,)bag,hello,without,world\n"
     ]
    },
    {
     "data": {
      "text/plain": [
       "['bag', 'hello', 'without', 'world']"
      ]
     },
     "execution_count": 38,
     "metadata": {},
     "output_type": "execute_result"
    }
   ],
   "source": [
    "sort_words()"
   ]
  },
  {
   "cell_type": "code",
   "execution_count": null,
   "id": "6fee2bfc",
   "metadata": {},
   "outputs": [],
   "source": []
  }
 ],
 "metadata": {
  "kernelspec": {
   "display_name": "Python 3",
   "language": "python",
   "name": "python3"
  },
  "language_info": {
   "codemirror_mode": {
    "name": "ipython",
    "version": 3
   },
   "file_extension": ".py",
   "mimetype": "text/x-python",
   "name": "python",
   "nbconvert_exporter": "python",
   "pygments_lexer": "ipython3",
   "version": "3.8.8"
  }
 },
 "nbformat": 4,
 "nbformat_minor": 5
}
