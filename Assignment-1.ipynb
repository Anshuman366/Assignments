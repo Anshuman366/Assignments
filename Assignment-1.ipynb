{
 "cells": [
  {
   "cell_type": "markdown",
   "id": "3dbbba78",
   "metadata": {},
   "source": [
    "# Assignment-1"
   ]
  },
  {
   "cell_type": "raw",
   "id": "119af6bb",
   "metadata": {},
   "source": [
    "Q1-1. In the below elements which of them are values or an expression? eg:- values can be integer or string and expressions will be mathematical operators.\n",
    "\n",
    "1)* \n",
    "2)'hello'\n",
    "3)87.8\n",
    "4)- \n",
    "5)/ \n",
    "6)+\n",
    "7)6 \n",
    "                #SOLUTION OF Q1:\n",
    "\n",
    "    EXPRESSION:\n",
    "    1) *\n",
    "    2)-\n",
    "    3)/\n",
    "    4)+\n",
    "\n",
    "    VALUES:\n",
    "    1) 'hello'\n",
    "    2) 87.8\n",
    "    3)6\n"
   ]
  },
  {
   "cell_type": "raw",
   "id": "7f88915b",
   "metadata": {},
   "source": [
    "Q2 What is the difference between string and variable?\n",
    "\n",
    "Answer:\n",
    "\n",
    "so basically in simple words we can say that variable is a store of information and string is a type of information that can be stored inside the variable.String is always enclosed in double or single quote. for example\n",
    "\n",
    "x=10:\n",
    "in this case x is a variable and we are storing a integer value in it , and as i already explained that variable is a store house it can store any kind of data, in this case it is storing a integer type of data.\n",
    "\n",
    "x='Anshuman':\n",
    "in this case x is a varible and it is storing a data which is string .\n",
    "\n",
    "\n",
    " "
   ]
  },
  {
   "cell_type": "raw",
   "id": "608cf725",
   "metadata": {},
   "source": [
    "Q3. Describe three different data types.\n",
    "\n",
    "Answer:\n",
    "\n",
    "Datatype is basically the type of data that we are storing in variable for eg: integer,float,string etc.\n",
    "There are many datatype but here only three are explained\n",
    "1)         ---PYTHON NUMBERS--\n",
    "\n",
    "     Integers, floating point numbers and complex numbers fall under Python numbers category.\n",
    "     a=5--> This is integer data type\n",
    "     b=6.8--> This is floating datatype\n",
    "     c=6+7j--> This is complex data type\n",
    " \n",
    "2)            ---Python List---\n",
    "    List is an ordered sequence of items. It is one of the most used datatype in Python and is very       flexible. All the items in a list do not need to be of the same type. All items are enclosed         withon square brackets.\n",
    "    \n",
    "    lst=[1,2,3,4.5,\"hello\",6+7j]\n",
    "    \n",
    "    We can use the slicing operator [ ] to extract an item or a range of items from a list.\n",
    "    \n",
    "3)       ----Python Tuple----\n",
    "    Tuple is an ordered sequence of items same as a list. The only difference is that tuples are         immutable. Tuples once created cannot be modified.\n",
    "    \n",
    "    Tuples are used to write-protect data and are usually faster than lists as they cannot change         dynamically."
   ]
  },
  {
   "cell_type": "code",
   "execution_count": 17,
   "id": "b5ae75d1",
   "metadata": {},
   "outputs": [
    {
     "name": "stdout",
     "output_type": "stream",
     "text": [
      "5 is of type <class 'int'>\n",
      "2.0 is of type <class 'float'>\n",
      "(1+2j) is complex number? <class 'complex'>\n"
     ]
    }
   ],
   "source": [
    "'Python Numbers'\n",
    "a = 5\n",
    "print(a, \"is of type\", type(a))\n",
    "\n",
    "a = 2.0\n",
    "print(a, \"is of type\", type(a))\n",
    "\n",
    "a = 1+2j\n",
    "print(a, \"is complex number?\",type(a))"
   ]
  },
  {
   "cell_type": "code",
   "execution_count": 18,
   "id": "01eaf9a8",
   "metadata": {},
   "outputs": [
    {
     "name": "stdout",
     "output_type": "stream",
     "text": [
      "<class 'list'>\n"
     ]
    }
   ],
   "source": [
    "'Python List'\n",
    "a = [1, 4.67, 'Anshuman',5+6j]\n",
    "print(type(a))"
   ]
  },
  {
   "cell_type": "code",
   "execution_count": 20,
   "id": "53383391",
   "metadata": {},
   "outputs": [
    {
     "name": "stdout",
     "output_type": "stream",
     "text": [
      "<class 'tuple'>\n"
     ]
    }
   ],
   "source": [
    "'Python Tuple'\n",
    "t=(4,\"Anshuman\",3.45)\n",
    "print(type(t))"
   ]
  },
  {
   "cell_type": "raw",
   "id": "51d63c31",
   "metadata": {},
   "source": [
    "Q4) What is an expression made up of? What do all expressions do?\n",
    "\n",
    "Answer:\n",
    "\n",
    "Expression is a legal combination of symbols(variable,constant and operator) that represent a value.It should have atleast one operands and can have one or more operator.\n",
    "\n",
    "Operand is the value on which operator is applied.these operator use constant or variable to form expression.\n",
    "for eg:\n",
    "A*b+c-6  : This is a expression which have 4 operands(A,b,c,6) and 3 operator(*,+,-)\n",
    "\n",
    "As i already said that it must be a legal combination otherwise it will not give a value ,and that is not an expression. Some of the illigal combinations are:\n",
    "a+,b-,<y++ etc.\n",
    "\n",
    "what does expression do?\n",
    " -->As i already said that the function of the expression is to evaluate a value"
   ]
  },
  {
   "cell_type": "raw",
   "id": "cc477bb9",
   "metadata": {},
   "source": [
    "Q5) This assignment statements, like spam = 10. What is the difference between an expression and a statement?\n",
    "\n",
    "Answer:\n",
    "\n",
    "                        -----Expression:----\n",
    "1) it execute somerthing.\n",
    "2)Execution of a statement may or may not produces or displays a result value, it only does whatever    the statement says.\n",
    "3)Every statement can be an expression.\n",
    "\n",
    "                        ----Statement------\n",
    "\n",
    "1)An expression evaluates to a value\n",
    "2)Evaluation of an expression always Produces or returns a result value.\n",
    "3)Every expression can’t be a statement.\n",
    "\n",
    "\n"
   ]
  },
  {
   "cell_type": "code",
   "execution_count": 1,
   "id": "fa1a0489",
   "metadata": {},
   "outputs": [
    {
     "name": "stdout",
     "output_type": "stream",
     "text": [
      "23\n"
     ]
    }
   ],
   "source": [
    "\"Q6 After running the following code, what does the variable bacon contain?\"\n",
    "bacon = 22\n",
    "print(bacon + 1)\n"
   ]
  },
  {
   "cell_type": "raw",
   "id": "0d28c691",
   "metadata": {},
   "source": [
    "so in the above problem when we run the code the value of bacon will be incremented by 1 and it will give 23 as output.\n",
    "To display the output on the screen we will have to use print statement. until and unless we will not use print statement it will not show output although the value is incremented internally."
   ]
  },
  {
   "cell_type": "code",
   "execution_count": 3,
   "id": "00f6f9cc",
   "metadata": {},
   "outputs": [
    {
     "name": "stdout",
     "output_type": "stream",
     "text": [
      "spamspamspam\n",
      "spamspamspam\n"
     ]
    }
   ],
   "source": [
    "\"Q7). What should the values of the following two terms be?\"\n",
    "print('spam' + 'spamspam')\n",
    "print('spam' * 3)"
   ]
  },
  {
   "cell_type": "raw",
   "id": "3ea5919c",
   "metadata": {},
   "source": [
    "These both statement will give same result because in first case it will concatinate both the string and in second case it will repeat the string three times."
   ]
  },
  {
   "cell_type": "raw",
   "id": "20a0a798",
   "metadata": {},
   "source": [
    "Q8) Why is eggs a valid variable name while 100 is invalid?\n",
    "Answer:\n",
    "let us take an example:\n",
    "suppose 100 is a valid variable name then \n",
    "a=100;\n",
    "100=200\n",
    "c=a*2\n",
    "so what will be the answer is it 200 or 400 ? so in python or in any programming language there is certain rule to declare a variable. By only using 100 we will cofuses our compiler that weather it is a value or a variable . so thats why we cannot use 100 as a variable name. tjis is not  the case with (eggs) as a variable name because\n",
    "eggs=600--> this means we are storing value 100 in  memory an eggs is a name which is pointing to it\n",
    "\n",
    "\n",
    " "
   ]
  },
  {
   "cell_type": "raw",
   "id": "d6e11420",
   "metadata": {},
   "source": [
    "Q9)  What three functions can be used to get the integer, floating-point number, or string version of a value?\n",
    "\n",
    "Answer:\n",
    "we can convert one data type into another by using a method called typecasting.ut not all datatype can be converted from one form to another like we cannot convert  a string datatype into integer.\n",
    " we have certain inbuilt function for typecasting\n",
    " \n",
    "1)int()--> This will convert a number which is in form of string back to integer.\n",
    "2)float()--> This will convert a integer into floating point number.\n",
    "3)str()--> this will convert numeric or floating point number into string\n",
    "\n",
    "coading is shown below"
   ]
  },
  {
   "cell_type": "code",
   "execution_count": 9,
   "id": "07564fb9",
   "metadata": {},
   "outputs": [
    {
     "name": "stdout",
     "output_type": "stream",
     "text": [
      "<class 'int'>\n",
      "1234\n",
      "<class 'str'>\n"
     ]
    }
   ],
   "source": [
    "'Using str() function'\n",
    "a=1234\n",
    "print(type(a)) # firstly datatype is integer\n",
    "b=str(a) # This function will convert integer to string\n",
    "print(b)\n",
    "print(type(b)) # checking datatype of b"
   ]
  },
  {
   "cell_type": "code",
   "execution_count": 10,
   "id": "46206ff5",
   "metadata": {},
   "outputs": [
    {
     "name": "stdout",
     "output_type": "stream",
     "text": [
      "<class 'str'>\n",
      "1234\n",
      "<class 'int'>\n"
     ]
    }
   ],
   "source": [
    "'using int() function'\n",
    "x=\"2345\"\n",
    "print(type(x)) # firstly datatype is string\n",
    "y=int(a) # This function will convert string to integer\n",
    "print(y)\n",
    "print(type(y)) # checking datatype of y"
   ]
  },
  {
   "cell_type": "code",
   "execution_count": 11,
   "id": "42c20fa5",
   "metadata": {},
   "outputs": [
    {
     "name": "stdout",
     "output_type": "stream",
     "text": [
      "<class 'int'>\n",
      "2345.0\n",
      "<class 'float'>\n"
     ]
    }
   ],
   "source": [
    "'Using float function'\n",
    "d=2345\n",
    "print(type(d)) # firstly datatype is integer\n",
    "p=float(d) # This function will convert integer to float\n",
    "print(p)\n",
    "print(type(p)) # checking datatype of p\n"
   ]
  },
  {
   "cell_type": "code",
   "execution_count": 13,
   "id": "fae16691",
   "metadata": {},
   "outputs": [
    {
     "name": "stdout",
     "output_type": "stream",
     "text": [
      "<class 'str'>\n"
     ]
    },
    {
     "ename": "ValueError",
     "evalue": "invalid literal for int() with base 10: 'Anshuman'",
     "output_type": "error",
     "traceback": [
      "\u001b[1;31m---------------------------------------------------------------------------\u001b[0m",
      "\u001b[1;31mValueError\u001b[0m                                Traceback (most recent call last)",
      "\u001b[1;32m<ipython-input-13-556a05f2b228>\u001b[0m in \u001b[0;36m<module>\u001b[1;34m\u001b[0m\n\u001b[0;32m      1\u001b[0m \u001b[0ms\u001b[0m\u001b[1;33m=\u001b[0m\u001b[1;34m\"Anshuman\"\u001b[0m\u001b[1;33m\u001b[0m\u001b[1;33m\u001b[0m\u001b[0m\n\u001b[0;32m      2\u001b[0m \u001b[0mprint\u001b[0m\u001b[1;33m(\u001b[0m\u001b[0mtype\u001b[0m\u001b[1;33m(\u001b[0m\u001b[0ms\u001b[0m\u001b[1;33m)\u001b[0m\u001b[1;33m)\u001b[0m\u001b[1;33m\u001b[0m\u001b[1;33m\u001b[0m\u001b[0m\n\u001b[1;32m----> 3\u001b[1;33m \u001b[0mprint\u001b[0m\u001b[1;33m(\u001b[0m\u001b[0mint\u001b[0m\u001b[1;33m(\u001b[0m\u001b[0ms\u001b[0m\u001b[1;33m)\u001b[0m\u001b[1;33m)\u001b[0m\u001b[1;33m\u001b[0m\u001b[1;33m\u001b[0m\u001b[0m\n\u001b[0m",
      "\u001b[1;31mValueError\u001b[0m: invalid literal for int() with base 10: 'Anshuman'"
     ]
    }
   ],
   "source": [
    "s=\"Anshuman\"\n",
    "print(type(s))\n",
    "print(int(s)) # this will show error because u cannot convert  string to integer"
   ]
  },
  {
   "cell_type": "raw",
   "id": "5011bae5",
   "metadata": {},
   "source": [
    "Q10) Why does this expression cause an error? How can you fix it?\n",
    "'I have eaten ' + 99 + ' burritos.'\n",
    "\n",
    "Answer:\n",
    "\n",
    "so this expression will cause an error because ayou cannot concatinate string and integer.To fix this we  have to first typecast the integer value into string then only concatination is possible. It is shown below with the help of code.\n"
   ]
  },
  {
   "cell_type": "code",
   "execution_count": 15,
   "id": "15626469",
   "metadata": {},
   "outputs": [
    {
     "data": {
      "text/plain": [
       "'I have eaten 99 burritos.'"
      ]
     },
     "execution_count": 15,
     "metadata": {},
     "output_type": "execute_result"
    }
   ],
   "source": [
    "'I have eaten ' + str(99) + ' burritos.'\n",
    "# i have typecasted the value 99 into string by using str() function and now it will concatinate ."
   ]
  },
  {
   "cell_type": "code",
   "execution_count": null,
   "id": "be1a22f6",
   "metadata": {},
   "outputs": [],
   "source": []
  }
 ],
 "metadata": {
  "kernelspec": {
   "display_name": "Python 3",
   "language": "python",
   "name": "python3"
  },
  "language_info": {
   "codemirror_mode": {
    "name": "ipython",
    "version": 3
   },
   "file_extension": ".py",
   "mimetype": "text/x-python",
   "name": "python",
   "nbconvert_exporter": "python",
   "pygments_lexer": "ipython3",
   "version": "3.8.8"
  }
 },
 "nbformat": 4,
 "nbformat_minor": 5
}
