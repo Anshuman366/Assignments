{
 "cells": [
  {
   "cell_type": "markdown",
   "id": "9a445327",
   "metadata": {},
   "source": [
    "# PYTHON BASIC PROGRAMMING ASSIGNMENT-7"
   ]
  },
  {
   "cell_type": "code",
   "execution_count": 53,
   "id": "bc58fab4",
   "metadata": {},
   "outputs": [],
   "source": [
    "#Q1)Write a Python program to check if the given number is a Disarium Number?\n",
    "\n",
    "def Disarium_nu(num):\n",
    "    \"\"\" This fun will take number as input and weather the number is Disarium number or not\"\"\"\n",
    "    try:\n",
    "        num1=str(num)\n",
    "        lst=[]\n",
    "        for i in range(len(num1)):\n",
    "            x=int(num1[i])**(i+1) # number raised to power index+1\n",
    "            lst.append(x)\n",
    "        sum_1= sum(lst)\n",
    "\n",
    "        if sum_1==int(num1):\n",
    "            print(\"{} is Disarium number\".format(num1))\n",
    "        else:\n",
    "            print(\"{} is not Disarium number\".format(num1))\n",
    "            \n",
    "    except ValueError as v1:\n",
    "        print(\"Please enter valid input\")\n",
    "        \n",
    "        "
   ]
  },
  {
   "cell_type": "code",
   "execution_count": 54,
   "id": "6b32ef63",
   "metadata": {},
   "outputs": [
    {
     "name": "stdout",
     "output_type": "stream",
     "text": [
      "89 is Disarium number\n"
     ]
    }
   ],
   "source": [
    "Disarium_nu(89)"
   ]
  },
  {
   "cell_type": "code",
   "execution_count": 55,
   "id": "7a0edad1",
   "metadata": {},
   "outputs": [],
   "source": [
    "#Q2)Write a Python program to print all disarium numbers between 1 to 100?\n",
    "\n",
    "\n",
    "def Disarium_in_range(x):\n",
    "    \"\"\" This function will take range from user and resturn all the Disarium number between it\"\"\"\n",
    "    lst1=[]\n",
    "    for i in range(x):\n",
    "                num1=str(i)\n",
    "                lst=[]\n",
    "                for j in range(len(num1)):\n",
    "                    x=int(num1[j])**(j+1) # number raised to power index+1\n",
    "                    lst.append(x)\n",
    "                sum_1= sum(lst)\n",
    "\n",
    "                if sum_1==int(num1):\n",
    "                    lst1.append(num1)\n",
    "                     \n",
    "                else:\n",
    "                    lst2.append(num1)\n",
    "    return lst1"
   ]
  },
  {
   "cell_type": "code",
   "execution_count": 56,
   "id": "4c03ce02",
   "metadata": {},
   "outputs": [
    {
     "ename": "NameError",
     "evalue": "name 'Darsian_in_range' is not defined",
     "output_type": "error",
     "traceback": [
      "\u001b[1;31m---------------------------------------------------------------------------\u001b[0m",
      "\u001b[1;31mNameError\u001b[0m                                 Traceback (most recent call last)",
      "\u001b[1;32m<ipython-input-56-f288f87e79bc>\u001b[0m in \u001b[0;36m<module>\u001b[1;34m\u001b[0m\n\u001b[1;32m----> 1\u001b[1;33m \u001b[0mDarsian_in_range\u001b[0m\u001b[1;33m(\u001b[0m\u001b[1;36m100\u001b[0m\u001b[1;33m)\u001b[0m\u001b[1;33m\u001b[0m\u001b[1;33m\u001b[0m\u001b[0m\n\u001b[0m",
      "\u001b[1;31mNameError\u001b[0m: name 'Darsian_in_range' is not defined"
     ]
    }
   ],
   "source": [
    "Darsian_in_range(100)"
   ]
  },
  {
   "cell_type": "code",
   "execution_count": 57,
   "id": "a0fc4588",
   "metadata": {},
   "outputs": [
    {
     "name": "stdout",
     "output_type": "stream",
     "text": [
      "78\n",
      "78 is not a happy number\n"
     ]
    }
   ],
   "source": [
    "#Q3)Write a Python program to check if the given number is Happy Number?\n",
    "\n",
    "def sum_of_nu(n):\n",
    "    \n",
    "            num=str(n)\n",
    "            sum1=0\n",
    "            for i in num:\n",
    "                sum1+=int(i)**2\n",
    "            return sum1\n",
    "    \n",
    "\n",
    "try:\n",
    "    \n",
    "    n=int(input())\n",
    "    if n==0:\n",
    "        print(\"0 is not a happy number\")\n",
    "    else:\n",
    "        result=n\n",
    "\n",
    "        while result!=1 and result!=16: # if the sum become 4 tyen the number will never be a happy number,you can use any number like(16,37,58....)\n",
    "            result=sum_of_nu(result)\n",
    "        if result==1:\n",
    "            print(n,\"is a happy number\")\n",
    "        else:\n",
    "            print(n,\"is not a happy number\")\n",
    "except Exception as e:\n",
    "    print(\"Invalid input!!\")\n"
   ]
  },
  {
   "cell_type": "code",
   "execution_count": 67,
   "id": "b24e29fd",
   "metadata": {},
   "outputs": [
    {
     "name": "stdout",
     "output_type": "stream",
     "text": [
      "[1, 7, 10, 13, 19, 23, 28, 31, 32, 44, 49, 68, 70, 79, 82, 86, 91, 94, 97, 100]\n"
     ]
    }
   ],
   "source": [
    "#Q4)Write a Python program to print all happy numbers between 1 and 100?\n",
    "\n",
    "def sum_of_nu(n):\n",
    "    \"\"\" Return sum of square of given number\"\"\"\n",
    "    \n",
    "    num=str(n)\n",
    "    sum1=0\n",
    "    for i in num:\n",
    "            sum1+=int(i)**2\n",
    "    return sum1\n",
    "    \n",
    "    \n",
    "        \n",
    "\n",
    "\n",
    "lst1=[]\n",
    "for i in range(1,101):\n",
    "    n=i\n",
    "    result=n\n",
    "\n",
    "    while result!=1 and result!=4: # if the sum become 4 tyen the number will never be a happy number,you can use any number like(16,37,58....)\n",
    "               result=sum_of_nu(result)\n",
    "    if result==1:\n",
    "               lst1.append(n)\n",
    "\n",
    "print(lst1)\n"
   ]
  },
  {
   "cell_type": "code",
   "execution_count": 59,
   "id": "4d7c47be",
   "metadata": {},
   "outputs": [],
   "source": [
    "#Q5)5.Write a Python program to determine whether the given number is a Harshad Number?\n",
    "def Harshad_Number(num):\n",
    "    try:\n",
    "        if num==0:\n",
    "            print(\"0 is not Harshad Number \")\n",
    "\n",
    "        else:\n",
    "\n",
    "                sum1=0\n",
    "                n=str(num)\n",
    "                for i in n:\n",
    "                    sum1=sum1+int(i)\n",
    "\n",
    "                if int(n)%sum1==0:\n",
    "                    print(n,\"is a Harshad Number\")\n",
    "                else:\n",
    "                    print(n,\"is a not Harshad Number\")\n",
    "    except Exception as e:\n",
    "        print(\"Please enter valid input\")\n",
    "        \n",
    "\n",
    "\n",
    "\n"
   ]
  },
  {
   "cell_type": "code",
   "execution_count": 60,
   "id": "f0fbaa03",
   "metadata": {},
   "outputs": [
    {
     "name": "stdout",
     "output_type": "stream",
     "text": [
      "Please enter valid input\n"
     ]
    }
   ],
   "source": [
    "Harshad_Number(\"ejfhf\")"
   ]
  },
  {
   "cell_type": "code",
   "execution_count": 64,
   "id": "6105d48b",
   "metadata": {},
   "outputs": [],
   "source": [
    "#6.Write a Python program to print all pronic numbers between 1 and 100?\n",
    "def pronic_no(n):\n",
    "    \"return true if number is pronic\"\n",
    "    if n<0:\n",
    "            raise ValueError(\"Negative number cannot be pronic\")\n",
    "   \n",
    "    try:        \n",
    "    \n",
    "        lst=[]\n",
    "        if n==0:\n",
    "            return True\n",
    "        else:\n",
    "\n",
    "            for i in range(n):\n",
    "                    lst.append(i*(i+1))\n",
    "            if n in lst:\n",
    "                    return True\n",
    "            else:\n",
    "                    return False\n",
    "    except Exception as e:\n",
    "        print(\"Please enter valid input\")"
   ]
  },
  {
   "cell_type": "code",
   "execution_count": 65,
   "id": "c5b5b777",
   "metadata": {},
   "outputs": [
    {
     "ename": "ValueError",
     "evalue": "Negative number cannot be pronic",
     "output_type": "error",
     "traceback": [
      "\u001b[1;31m---------------------------------------------------------------------------\u001b[0m",
      "\u001b[1;31mValueError\u001b[0m                                Traceback (most recent call last)",
      "\u001b[1;32m<ipython-input-65-f5c90d2ce7cd>\u001b[0m in \u001b[0;36m<module>\u001b[1;34m\u001b[0m\n\u001b[1;32m----> 1\u001b[1;33m \u001b[0mpronic_no\u001b[0m\u001b[1;33m(\u001b[0m\u001b[1;33m-\u001b[0m\u001b[1;36m34\u001b[0m\u001b[1;33m)\u001b[0m\u001b[1;33m\u001b[0m\u001b[1;33m\u001b[0m\u001b[0m\n\u001b[0m",
      "\u001b[1;32m<ipython-input-64-458fc8e077da>\u001b[0m in \u001b[0;36mpronic_no\u001b[1;34m(n)\u001b[0m\n\u001b[0;32m      3\u001b[0m     \u001b[1;34m\"return true if number is pronic\"\u001b[0m\u001b[1;33m\u001b[0m\u001b[1;33m\u001b[0m\u001b[0m\n\u001b[0;32m      4\u001b[0m     \u001b[1;32mif\u001b[0m \u001b[0mn\u001b[0m\u001b[1;33m<\u001b[0m\u001b[1;36m0\u001b[0m\u001b[1;33m:\u001b[0m\u001b[1;33m\u001b[0m\u001b[1;33m\u001b[0m\u001b[0m\n\u001b[1;32m----> 5\u001b[1;33m             \u001b[1;32mraise\u001b[0m \u001b[0mValueError\u001b[0m\u001b[1;33m(\u001b[0m\u001b[1;34m\"Negative number cannot be pronic\"\u001b[0m\u001b[1;33m)\u001b[0m\u001b[1;33m\u001b[0m\u001b[1;33m\u001b[0m\u001b[0m\n\u001b[0m\u001b[0;32m      6\u001b[0m \u001b[1;33m\u001b[0m\u001b[0m\n\u001b[0;32m      7\u001b[0m     \u001b[1;32mtry\u001b[0m\u001b[1;33m:\u001b[0m\u001b[1;33m\u001b[0m\u001b[1;33m\u001b[0m\u001b[0m\n",
      "\u001b[1;31mValueError\u001b[0m: Negative number cannot be pronic"
     ]
    }
   ],
   "source": [
    "pronic_no(-34)"
   ]
  },
  {
   "cell_type": "code",
   "execution_count": 63,
   "id": "a51a8929",
   "metadata": {},
   "outputs": [
    {
     "data": {
      "text/plain": [
       "True"
      ]
     },
     "execution_count": 63,
     "metadata": {},
     "output_type": "execute_result"
    }
   ],
   "source": [
    "pronic_no(342)"
   ]
  },
  {
   "cell_type": "code",
   "execution_count": null,
   "id": "05b5c136",
   "metadata": {},
   "outputs": [],
   "source": []
  }
 ],
 "metadata": {
  "kernelspec": {
   "display_name": "Python 3",
   "language": "python",
   "name": "python3"
  },
  "language_info": {
   "codemirror_mode": {
    "name": "ipython",
    "version": 3
   },
   "file_extension": ".py",
   "mimetype": "text/x-python",
   "name": "python",
   "nbconvert_exporter": "python",
   "pygments_lexer": "ipython3",
   "version": "3.8.8"
  }
 },
 "nbformat": 4,
 "nbformat_minor": 5
}
