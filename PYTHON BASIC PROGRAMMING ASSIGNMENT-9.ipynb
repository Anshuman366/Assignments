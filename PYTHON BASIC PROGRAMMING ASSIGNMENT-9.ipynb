{
 "cells": [
  {
   "cell_type": "markdown",
   "id": "657be0a0",
   "metadata": {},
   "source": [
    "# PYTHON BASIC PROGRAMMING ASSIGNMENT-9"
   ]
  },
  {
   "cell_type": "code",
   "execution_count": 123,
   "id": "002cdaf2",
   "metadata": {},
   "outputs": [],
   "source": [
    "#Q1)1.Write a Python program to find words which are greater than given length k?\n",
    "def find_words(lst,k):\n",
    "    \"\"\" take list or tuple  and size of element \n",
    "    as input and return the elements having size greater then k\"\"\"\n",
    "    try:\n",
    "        lst1=[]\n",
    "        for i in lst:\n",
    "            if len(i)>k:\n",
    "                lst1.append(i)\n",
    "        return lst1  \n",
    "    except TypeError as e1:\n",
    "        print(\"Please enter a list or tuple which only contain string element\")\n",
    "    except Exception as e:\n",
    "        print(\"Please enter list or tuple \")\n",
    "   \n",
    "    "
   ]
  },
  {
   "cell_type": "code",
   "execution_count": 124,
   "id": "5c8d1877",
   "metadata": {},
   "outputs": [
    {
     "data": {
      "text/plain": [
       "['sunp', 'Anshuman']"
      ]
     },
     "execution_count": 124,
     "metadata": {},
     "output_type": "execute_result"
    }
   ],
   "source": [
    "find_words([\"sunp\",\"Anshuman\"],2)"
   ]
  },
  {
   "cell_type": "code",
   "execution_count": 125,
   "id": "997d4f80",
   "metadata": {},
   "outputs": [
    {
     "name": "stdout",
     "output_type": "stream",
     "text": [
      "Please enter a list or tuple which only contain string element\n"
     ]
    }
   ],
   "source": [
    "find_words([\"Annn\",2,5,[1,2,3]],2)"
   ]
  },
  {
   "cell_type": "code",
   "execution_count": 126,
   "id": "bf1149b3",
   "metadata": {},
   "outputs": [
    {
     "data": {
      "text/plain": [
       "['Anshuman']"
      ]
     },
     "execution_count": 126,
     "metadata": {},
     "output_type": "execute_result"
    }
   ],
   "source": [
    "find_words((\"sunp\",\"Anshuman\"),4)"
   ]
  },
  {
   "cell_type": "code",
   "execution_count": 127,
   "id": "06da72c5",
   "metadata": {},
   "outputs": [
    {
     "name": "stdout",
     "output_type": "stream",
     "text": [
      "Please enter a list or tuple which only contain string element\n"
     ]
    }
   ],
   "source": [
    "find_words(\"lkcnws\",\"cndwc\")"
   ]
  },
  {
   "cell_type": "code",
   "execution_count": 128,
   "id": "c9c0b3fc",
   "metadata": {},
   "outputs": [],
   "source": [
    "#Q2)Write a Python program for removing i-th character from a string?\n",
    "def remove_char(str_input,n):\n",
    "    \"\"\" This function will take string and nth position as input and remove \n",
    "    the nth character from string\"\"\"\n",
    "    try:\n",
    "        str1=\"\"\n",
    "        if type(str_input)==str:\n",
    "                for i in range(len(str_input)):\n",
    "                    if i==n-1:\n",
    "                        continue\n",
    "                    else:\n",
    "                        str1+=str_input[i]\n",
    "                return \"The new string is: %s\" %str1\n",
    "        else:\n",
    "            print(\"Please enter string only\")\n",
    "        \n",
    "    except Exception as e:\n",
    "        print(e)"
   ]
  },
  {
   "cell_type": "code",
   "execution_count": 130,
   "id": "7ca88600",
   "metadata": {},
   "outputs": [
    {
     "data": {
      "text/plain": [
       "'The new string is: Helloworld'"
      ]
     },
     "execution_count": 130,
     "metadata": {},
     "output_type": "execute_result"
    }
   ],
   "source": [
    "a=\"Hello_world\"\n",
    "remove_char(a,6)"
   ]
  },
  {
   "cell_type": "code",
   "execution_count": 131,
   "id": "cff4b761",
   "metadata": {},
   "outputs": [],
   "source": [
    "#Q3)Write a Python program to split and join a string?\n",
    "def split_string(str1):\n",
    "    try:\n",
    "        lst=str1.split()\n",
    "        join_lst=\"-\".join(lst)\n",
    "        print(\"splitted string is: %s\" %lst)\n",
    "        print(\"joined string is:   %s\" %join_lst)\n",
    "    except Exception as e:\n",
    "        print(e)"
   ]
  },
  {
   "cell_type": "code",
   "execution_count": 132,
   "id": "1f35beb0",
   "metadata": {},
   "outputs": [
    {
     "name": "stdout",
     "output_type": "stream",
     "text": [
      "splitted string is: ['life', 'is', 'all', 'about', 'strugle']\n",
      "joined string is:   life-is-all-about-strugle\n"
     ]
    }
   ],
   "source": [
    "split_string(\"life is all about strugle\")\n"
   ]
  },
  {
   "cell_type": "code",
   "execution_count": 133,
   "id": "4f0d3687",
   "metadata": {},
   "outputs": [],
   "source": [
    "#Q4)4.Write a Python to check if a given string is binary string or not?\n",
    "def is_binary(str1):\n",
    "    \"\"\" This function will take a string as input and check weather it is a binary string or not\"\"\"\n",
    "    try:\n",
    "        if type(str1)==str:\n",
    "            str2=\"01\"\n",
    "            flag=True\n",
    "            for i in str1:\n",
    "                if i not in str2:\n",
    "                    flag=False\n",
    "                else:\n",
    "                    pass\n",
    "\n",
    "            if flag==True:\n",
    "                print(\"Yes it is Binary string!!\")\n",
    "            else:\n",
    "                print(\"No it is not a binary string!!\")\n",
    "        else:\n",
    "            print(\"Please enter a string to check.\")\n",
    "    except Exception as e:\n",
    "        print(e)\n"
   ]
  },
  {
   "cell_type": "code",
   "execution_count": 134,
   "id": "b512408c",
   "metadata": {},
   "outputs": [
    {
     "name": "stdout",
     "output_type": "stream",
     "text": [
      "No it is not a binary string!!\n"
     ]
    }
   ],
   "source": [
    "is_binary(\"Anshuman\")"
   ]
  },
  {
   "cell_type": "code",
   "execution_count": 135,
   "id": "501bf70e",
   "metadata": {},
   "outputs": [
    {
     "name": "stdout",
     "output_type": "stream",
     "text": [
      "Yes it is Binary string!!\n"
     ]
    }
   ],
   "source": [
    "is_binary(\"1001001001001001\")"
   ]
  },
  {
   "cell_type": "code",
   "execution_count": 136,
   "id": "4dc2083d",
   "metadata": {},
   "outputs": [],
   "source": [
    "#Q5)5.Write a Python program to find uncommon words from two Strings?\n",
    "def uncommon_return(str1,str2):\n",
    "    try:\n",
    "        if type(str1)==str and type(str2)==str:\n",
    "                lst=[]\n",
    "                for i in str1.split():\n",
    "                    \n",
    "                    if i in str2.split():\n",
    "                        pass\n",
    "                    else: \n",
    "                        lst.append(i)\n",
    "                        \n",
    "                for i in str2.split():\n",
    "                    \n",
    "                    if i in str1.split():\n",
    "                        pass\n",
    "                    else:\n",
    "                         lst.append(i)\n",
    "\n",
    "                return lst\n",
    "        else:\n",
    "            print(\"Please enter two string\")\n",
    "    except Exception as e:\n",
    "        print(e)"
   ]
  },
  {
   "cell_type": "code",
   "execution_count": 137,
   "id": "c1354534",
   "metadata": {},
   "outputs": [],
   "source": [
    "A = \"ineuron is good the\" \n",
    "B = \"Learning from ineuron play is the\""
   ]
  },
  {
   "cell_type": "code",
   "execution_count": 138,
   "id": "264c1b95",
   "metadata": {},
   "outputs": [
    {
     "data": {
      "text/plain": [
       "['good', 'Learning', 'from', 'play']"
      ]
     },
     "execution_count": 138,
     "metadata": {},
     "output_type": "execute_result"
    }
   ],
   "source": [
    "uncommon_return(A,B)"
   ]
  },
  {
   "cell_type": "code",
   "execution_count": 139,
   "id": "1f2395d1",
   "metadata": {},
   "outputs": [],
   "source": [
    "#Q6)6.Write a Python to find all duplicate characters in string?\n",
    "def duplicate_char(str1):\n",
    "    try:\n",
    "        if type(str1)==str:\n",
    "                str2=\"\"\n",
    "                for i in str1:\n",
    "                    str2+=i*2\n",
    "                return \"New string with duplicated char is: %s\"%str2\n",
    "        else:\n",
    "            print(\"Please enter string only\")\n",
    "    except Exception as e:\n",
    "        print(e)"
   ]
  },
  {
   "cell_type": "code",
   "execution_count": 140,
   "id": "1c6e1b12",
   "metadata": {},
   "outputs": [
    {
     "data": {
      "text/plain": [
       "'New string with duplicated char is: SSnnhhnnjjccnnww'"
      ]
     },
     "execution_count": 140,
     "metadata": {},
     "output_type": "execute_result"
    }
   ],
   "source": [
    "duplicate_char(\"Snhnjcnw\")"
   ]
  },
  {
   "cell_type": "code",
   "execution_count": 141,
   "id": "2d7b121e",
   "metadata": {},
   "outputs": [],
   "source": [
    "#Q7)Write a Python Program to check if a string contains any special character?\n",
    "def is_spl_char(str1):\n",
    "    try:\n",
    "        if type(str1)==str:\n",
    "                from string import punctuation\n",
    "                lst=list(punctuation)\n",
    "\n",
    "                flag=True\n",
    "\n",
    "                for i in str1:\n",
    "                    if i in lst:\n",
    "                        flag=False\n",
    "                    else:\n",
    "                        pass\n",
    "                if flag==True:\n",
    "                    print(\"String does not contain any special character \")\n",
    "                else:\n",
    "                     print(\"String contain special character \")\n",
    "        else:\n",
    "            print(\"Please enter string only\")\n",
    "\n",
    "    except Exception as e:\n",
    "        print(e)\n"
   ]
  },
  {
   "cell_type": "code",
   "execution_count": 142,
   "id": "786eca45",
   "metadata": {},
   "outputs": [
    {
     "name": "stdout",
     "output_type": "stream",
     "text": [
      "String contain special character \n"
     ]
    }
   ],
   "source": [
    "is_spl_char(\"Anshuman@@@\")"
   ]
  },
  {
   "cell_type": "code",
   "execution_count": null,
   "id": "b6b91a52",
   "metadata": {},
   "outputs": [],
   "source": []
  }
 ],
 "metadata": {
  "kernelspec": {
   "display_name": "Python 3",
   "language": "python",
   "name": "python3"
  },
  "language_info": {
   "codemirror_mode": {
    "name": "ipython",
    "version": 3
   },
   "file_extension": ".py",
   "mimetype": "text/x-python",
   "name": "python",
   "nbconvert_exporter": "python",
   "pygments_lexer": "ipython3",
   "version": "3.8.8"
  }
 },
 "nbformat": 4,
 "nbformat_minor": 5
}
