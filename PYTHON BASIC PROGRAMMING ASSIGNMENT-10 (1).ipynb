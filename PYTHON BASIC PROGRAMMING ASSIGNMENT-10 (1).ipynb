{
 "cells": [
  {
   "cell_type": "markdown",
   "id": "d76c71d7",
   "metadata": {},
   "source": [
    "# PYTHON BASIC PROGRAMMING ASSIGNMENT-10"
   ]
  },
  {
   "cell_type": "code",
   "execution_count": 14,
   "id": "8c336392",
   "metadata": {},
   "outputs": [],
   "source": [
    "#Q1)1.Write a Python program to Extract Unique values dictionary values?\n",
    "def Unique_dict_val(dict1):\n",
    "    try:\n",
    "        if type(dict1)==dict:\n",
    "            lst=[]\n",
    "            for i in dict1.values():\n",
    "                if type(i)==list or type(i)==tuple or type(i)==set:\n",
    "                    for j in i:\n",
    "                        if j not in lst:\n",
    "                            lst.append(j)\n",
    "                else:\n",
    "                    if i not in lst:\n",
    "                        lst.append(i)\n",
    "            #lst.sort()\n",
    "            return \"Unique values are: %s\"%lst\n",
    "        else:\n",
    "            print(\"Please enter dictionary only\")\n",
    "    except Exception as e:\n",
    "        print(e)\n"
   ]
  },
  {
   "cell_type": "code",
   "execution_count": 15,
   "id": "cdd02732",
   "metadata": {},
   "outputs": [],
   "source": [
    "dict1={'hi': [5, 3, 8, 0], 'there': [22, 51, 63, 77], 'how': [7, 0, 22], 'are': [12, 11,\"waoo\", 45], 'you': [56, 31, 89, 90],\"good\":\"waoo\"}\n"
   ]
  },
  {
   "cell_type": "code",
   "execution_count": 16,
   "id": "38f0bd99",
   "metadata": {},
   "outputs": [
    {
     "data": {
      "text/plain": [
       "\"Unique values are: [5, 3, 8, 0, 22, 51, 63, 77, 7, 12, 11, 'waoo', 45, 56, 31, 89, 90]\""
      ]
     },
     "execution_count": 16,
     "metadata": {},
     "output_type": "execute_result"
    }
   ],
   "source": [
    "Unique_dict_val(dict1)"
   ]
  },
  {
   "cell_type": "code",
   "execution_count": 17,
   "id": "fdc752e2",
   "metadata": {},
   "outputs": [],
   "source": [
    "#Q2)Write a Python program to find the sum of all items in a dictionary?\n",
    "def sum_of_dict(dict1):\n",
    "    \"\"\"This function will return sum of all the integer value from dictionary.\n",
    "    This function will not work for nested values\"\"\"\n",
    "    try:\n",
    "        lst=[]\n",
    "        for i in dict1.values():\n",
    "            if type(i)==int:\n",
    "                lst.append(i)\n",
    "            elif type(i)==list or type(i)==tuple or type(i)==set:\n",
    "                    for j in i:\n",
    "                        if type(j)==int:\n",
    "                            lst.append(j)\n",
    "                        else:\n",
    "                            pass\n",
    "            elif type(i)==complex:\n",
    "                pass\n",
    "            else:\n",
    "                print(\"Invalid input\")\n",
    "        sum_dict=sum(lst)\n",
    "        return sum_dict\n",
    "    except excepption as e:\n",
    "        print(e)"
   ]
  },
  {
   "cell_type": "code",
   "execution_count": 18,
   "id": "706cc768",
   "metadata": {},
   "outputs": [
    {
     "data": {
      "text/plain": [
       "47"
      ]
     },
     "execution_count": 18,
     "metadata": {},
     "output_type": "execute_result"
    }
   ],
   "source": [
    "dict2={\n",
    "    \"A\":[1,2,3,4],\n",
    "    \"B\":34,\n",
    "    \"c\":[1,2,\"Anshuman\"]   \n",
    "}\n",
    "sum_of_dict(dict2)"
   ]
  },
  {
   "cell_type": "code",
   "execution_count": 19,
   "id": "c6607a80",
   "metadata": {},
   "outputs": [
    {
     "data": {
      "text/plain": [
       "50"
      ]
     },
     "execution_count": 19,
     "metadata": {},
     "output_type": "execute_result"
    }
   ],
   "source": [
    "dict1={\n",
    "    \"A\":[1,2,3,4],\n",
    "    \"B\":34,\n",
    "    \"c\":[1,2,\"Anshuman\"],\n",
    "    \"d\":{1,2,}\n",
    "}\n",
    "sum_of_dict(dict1)"
   ]
  },
  {
   "cell_type": "code",
   "execution_count": 20,
   "id": "8c645cc3",
   "metadata": {},
   "outputs": [],
   "source": [
    "#Q3)3.Write a Python program to Merging two Dictionaries?\n",
    "def merge_dict(dict1,dict2):\n",
    "    try:\n",
    "        if type(dict1)==dict and type(dict2)==dict:\n",
    "            return {**dict1,**dict2}\n",
    "        else: \n",
    "            print(\"Please enter dictionary only\")\n",
    "    except Exception as e:\n",
    "        print(e)"
   ]
  },
  {
   "cell_type": "code",
   "execution_count": 21,
   "id": "d0cef141",
   "metadata": {},
   "outputs": [],
   "source": [
    "dict1 = {'a': 1, 'b': 8}\n",
    "dict2 = {'d': 6, 'c': 41}"
   ]
  },
  {
   "cell_type": "code",
   "execution_count": 22,
   "id": "3454aca2",
   "metadata": {},
   "outputs": [
    {
     "data": {
      "text/plain": [
       "{'a': 1, 'b': 8, 'd': 6, 'c': 41}"
      ]
     },
     "execution_count": 22,
     "metadata": {},
     "output_type": "execute_result"
    }
   ],
   "source": [
    "merge_dict(dict1,dict2)\n"
   ]
  },
  {
   "cell_type": "code",
   "execution_count": 23,
   "id": "a4d13f6c",
   "metadata": {},
   "outputs": [],
   "source": [
    "dict3={\n",
    "    \"A\":[1,2,3,4],\n",
    "    \"B\":34,\n",
    "    \"c\":[1,2,\"Anshuman\"]   \n",
    "}"
   ]
  },
  {
   "cell_type": "code",
   "execution_count": 24,
   "id": "563c6dfb",
   "metadata": {},
   "outputs": [],
   "source": [
    "dict4={\n",
    "    \"A\":[1,2,3,4],\n",
    "    \"B\":34,\n",
    "    \"c\":[1,2,\"Anshuman\"],\n",
    "    \"d\":{1,2,}\n",
    "}"
   ]
  },
  {
   "cell_type": "code",
   "execution_count": 25,
   "id": "4849545f",
   "metadata": {},
   "outputs": [
    {
     "data": {
      "text/plain": [
       "{'A': [1, 2, 3, 4], 'B': 34, 'c': [1, 2, 'Anshuman'], 'd': {1, 2}}"
      ]
     },
     "execution_count": 25,
     "metadata": {},
     "output_type": "execute_result"
    }
   ],
   "source": [
    "merge_dict(dict3,dict4)"
   ]
  },
  {
   "cell_type": "code",
   "execution_count": 26,
   "id": "36750e2e",
   "metadata": {},
   "outputs": [
    {
     "name": "stdout",
     "output_type": "stream",
     "text": [
      "{1: 'jan', 2: 'feb', 3: 'march', 4: 'april', 5: 'may', 6: 'june', 7: 'july', 8: 'aug'}\n"
     ]
    }
   ],
   "source": [
    "#Q4)Write a Python program to convert key-values list to flat dictionary?\n",
    "a={\"month\":[1,2,3,4,5,6,7,8],\"month_name\":[\"jan\",\"feb\",\"march\",\"april\",\"may\",\"june\",\"july\",\"aug\"]}\n",
    "\n",
    "for i in a:\n",
    "    r=dict(zip(a[\"month\"],a[\"month_name\"]))\n",
    "print(r)"
   ]
  },
  {
   "cell_type": "code",
   "execution_count": 27,
   "id": "6817a324",
   "metadata": {},
   "outputs": [],
   "source": [
    "#Q5)Write a Python program to insertion at the beginning in OrderedDict?\n",
    "def add_in_beginning(dict1,key=None,value=None):\n",
    "    \n",
    "    \"\"\" This function will take dictionary, key and value as input and update dictionary with key and \n",
    "    value in the beginning.\n",
    "    \"\"\"\n",
    "    \n",
    "    try:\n",
    "        \n",
    "            from collections import OrderedDict\n",
    "            \n",
    "            a = OrderedDict(dict1)\n",
    "            \n",
    "            a[key] = value\n",
    "            a.move_to_end(key,last=False)\n",
    "            return dict(a)\n",
    "    \n",
    "    except Exception as e:\n",
    "        print(e)\n",
    "        \n",
    "\n",
    "\n",
    "        "
   ]
  },
  {
   "cell_type": "code",
   "execution_count": 28,
   "id": "1f97ff38",
   "metadata": {},
   "outputs": [],
   "source": [
    "a={\n",
    "    1:\"Anshuman\",\n",
    "    2:\"shikha\",\n",
    "    4:\"Sushma\",\n",
    "    3:\"Sushma1\",\n",
    "}"
   ]
  },
  {
   "cell_type": "code",
   "execution_count": 29,
   "id": "4ea446b5",
   "metadata": {},
   "outputs": [
    {
     "data": {
      "text/plain": [
       "{'A': 'vyas pati tiwari',\n",
       " 1: 'Anshuman',\n",
       " 2: 'shikha',\n",
       " 4: 'Sushma',\n",
       " 3: 'Sushma1'}"
      ]
     },
     "execution_count": 29,
     "metadata": {},
     "output_type": "execute_result"
    }
   ],
   "source": [
    "add_in_beginning(a,\"A\",\"vyas pati tiwari\")"
   ]
  },
  {
   "cell_type": "code",
   "execution_count": 30,
   "id": "1adb7213",
   "metadata": {},
   "outputs": [],
   "source": [
    "#Q6)Write a Python program to check order of character in string using OrderedDict()?\n",
    "\n",
    "  \n",
    "def checkpattern(str1, pattern): \n",
    "    \"\"\"Thos function will take str and order as input and return true if string follow pattern else \n",
    "    return false\"\"\"\n",
    "    try:\n",
    "    \n",
    "        from collections import OrderedDict \n",
    "\n",
    "        dict1 = OrderedDict.fromkeys(str1) \n",
    "\n",
    "        ptrlen = 0\n",
    "        for key,value in dict1.items(): \n",
    "            if (key==pattern[ptrlen]): \n",
    "                ptrlen=ptrlen + 1\n",
    "\n",
    "            if (ptrlen==(len(pattern))): \n",
    "                return True\n",
    "\n",
    "        return False\n",
    "    except Exception as e:\n",
    "        print(e)"
   ]
  },
  {
   "cell_type": "code",
   "execution_count": 31,
   "id": "28a468b9",
   "metadata": {},
   "outputs": [
    {
     "data": {
      "text/plain": [
       "True"
      ]
     },
     "execution_count": 31,
     "metadata": {},
     "output_type": "execute_result"
    }
   ],
   "source": [
    "checkpattern(\"Anshuman tiwari\",\"nt\")"
   ]
  },
  {
   "cell_type": "code",
   "execution_count": 32,
   "id": "806f1ef6",
   "metadata": {},
   "outputs": [],
   "source": [
    "#Q7)7.Write a Python program to sort Python Dictionaries by Key or Value?\n",
    "def sort_dict(dict1):\n",
    "    \"\"\"This function will take a dict as input and return sorted dictionary(sorting by keys)\"\"\"\n",
    "    try:\n",
    "        d={}\n",
    "\n",
    "        if type(dict1)==dict:\n",
    "            for key,values in sorted(a.items()):\n",
    "                d[key]=values\n",
    "            return d\n",
    "    except Exception as e:\n",
    "        print(e)\n",
    "            \n",
    "    \n",
    "                \n",
    "                \n",
    "                "
   ]
  },
  {
   "cell_type": "code",
   "execution_count": 33,
   "id": "59cf55cb",
   "metadata": {},
   "outputs": [
    {
     "data": {
      "text/plain": [
       "{1: 'Anshuman', 2: 'shikha', 4: 'Sushma', 3: 'Sushma1'}"
      ]
     },
     "execution_count": 33,
     "metadata": {},
     "output_type": "execute_result"
    }
   ],
   "source": [
    "a"
   ]
  },
  {
   "cell_type": "code",
   "execution_count": 34,
   "id": "ea0c069a",
   "metadata": {},
   "outputs": [
    {
     "data": {
      "text/plain": [
       "{1: 'Anshuman', 2: 'shikha', 3: 'Sushma1', 4: 'Sushma'}"
      ]
     },
     "execution_count": 34,
     "metadata": {},
     "output_type": "execute_result"
    }
   ],
   "source": [
    "sort_dict(a)"
   ]
  },
  {
   "cell_type": "code",
   "execution_count": null,
   "id": "c75f3a96",
   "metadata": {},
   "outputs": [],
   "source": []
  }
 ],
 "metadata": {
  "kernelspec": {
   "display_name": "Python 3",
   "language": "python",
   "name": "python3"
  },
  "language_info": {
   "codemirror_mode": {
    "name": "ipython",
    "version": 3
   },
   "file_extension": ".py",
   "mimetype": "text/x-python",
   "name": "python",
   "nbconvert_exporter": "python",
   "pygments_lexer": "ipython3",
   "version": "3.8.8"
  }
 },
 "nbformat": 4,
 "nbformat_minor": 5
}
