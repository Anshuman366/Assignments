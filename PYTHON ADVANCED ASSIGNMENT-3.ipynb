{
 "cells": [
  {
   "cell_type": "markdown",
   "id": "f2b4c6ed",
   "metadata": {},
   "source": [
    "# PYTHON ADVANCED ASSIGNMENT-3"
   ]
  },
  {
   "cell_type": "raw",
   "id": "323edfd9",
   "metadata": {},
   "source": [
    "Question 1)\n",
    "Create a function that returns the majority vote in a list. A majority vote is an element that occurs > N/2 times in a list (where N is the length of the list).\n",
    "\n",
    "Examples\n",
    "\n",
    "majority_vote([\"A\", \"A\", \"B\"]) ➞ \"A\"\n",
    "\n",
    "majority_vote([\"A\", \"A\", \"A\", \"B\", \"C\", \"A\"]) ➞ \"A\"\n",
    "\n",
    "majority_vote([\"A\", \"B\", \"B\", \"A\", \"C\", \"C\"]) ➞ None\n"
   ]
  },
  {
   "cell_type": "code",
   "execution_count": 39,
   "id": "1bdf8c92",
   "metadata": {},
   "outputs": [],
   "source": [
    "def majority_vote(lst): \n",
    "    \"\"\"function that returns the majority vote in a list. A majority vote is an element \n",
    "        that occurs > N/2 times in a list (where N is the length of the list). \"\"\"\n",
    "    try:\n",
    "        for i in lst:\n",
    "            if lst.count(i)>=len(lst)/2:\n",
    "                return i\n",
    "            else:\n",
    "                return \"None\"\n",
    "    except Exception as e:\n",
    "        \n",
    "        print(e)\n",
    "        \n",
    "    \n",
    "               \n",
    "        "
   ]
  },
  {
   "cell_type": "code",
   "execution_count": 40,
   "id": "fe40d89d",
   "metadata": {},
   "outputs": [
    {
     "data": {
      "text/plain": [
       "'A'"
      ]
     },
     "execution_count": 40,
     "metadata": {},
     "output_type": "execute_result"
    }
   ],
   "source": [
    "majority_vote([\"A\", \"B\", \"B\", \"A\", \"C\", \"C\",\"A\",\"A\"])"
   ]
  },
  {
   "cell_type": "raw",
   "id": "98be7339",
   "metadata": {},
   "source": [
    "Question 2) Create a function that takes a string txt and censors any word from a given list lst. The text removed must be replaced by the given character char.\n",
    "\n",
    "Examples\n",
    "\n",
    "censor_string(\"Today is a Wednesday!\", [\"Today\", \"a\"], \"-\") ➞ \"----- is - Wednesday!\"\n",
    "\n",
    "censor_string(\"The cow jumped over the moon.\", [\"cow\", \"over\"], \"*\"), \"The *** jumped **** the moon.\")\n",
    "\n",
    "censor_string(\"Why did the chicken cross the road?\", [\"Did\", \"chicken\", \"road\"], \"*\") ➞ \"Why *** the ******* cross the ****?\"\n"
   ]
  },
  {
   "cell_type": "code",
   "execution_count": 111,
   "id": "e6c2201a",
   "metadata": {},
   "outputs": [],
   "source": [
    "def censor_string(str1,lst,char):\n",
    "    \"\"\"function that takes a string txt and censors any word from a given list lst.\n",
    "    The text removed must be replaced by the given character char.\n",
    "    \"\"\"\n",
    "    \n",
    "    try:\n",
    "\n",
    "        str1=str1.split(\" \")\n",
    "        str2=\"\"\n",
    "        for i in range(len(str1)):\n",
    "            if str1[i] in lst:\n",
    "                str1[i]=(len(str1[i]))*\"*\"\n",
    "        for i in str1:\n",
    "            str2=str2 +\" \" +i\n",
    "        return str2\n",
    "    except Exception as e:\n",
    "        print(e)\n",
    "        \n",
    "\n",
    "    "
   ]
  },
  {
   "cell_type": "code",
   "execution_count": 110,
   "id": "25e2f883",
   "metadata": {},
   "outputs": [
    {
     "data": {
      "text/plain": [
       "' *** did *** chicken cross *** road ?'"
      ]
     },
     "execution_count": 110,
     "metadata": {},
     "output_type": "execute_result"
    }
   ],
   "source": [
    "censor_string(\"Why did the chicken cross the road ?\",[\"Why\",\"the\"],\"#\")"
   ]
  },
  {
   "cell_type": "raw",
   "id": "c3a35ec9",
   "metadata": {},
   "source": [
    "Question 3)\n",
    "In mathematics a Polydivisible Number (or magic number) is a number in a given number base with digits abcde... that has the following properties:\n",
    "\n",
    "-  Its first digit a is not 0.\n",
    "- The number formed by its first two digits ab is a multiple of 2.\n",
    "- The number formed by its first three digits abc is a multiple of 3.\n",
    "- The number formed by its first four digits abcd is a multiple of 4.\n",
    "\n",
    "Create a function which takes an integer n and returns True if the given number is a Polydivisible Number and False otherwise.\n"
   ]
  },
  {
   "cell_type": "code",
   "execution_count": 187,
   "id": "51935e19",
   "metadata": {},
   "outputs": [],
   "source": [
    "def is_magic(num):\n",
    "    try:\n",
    "        num=str(num)\n",
    "        flag=None\n",
    "        for i in range(len(num)):\n",
    "            y=int(num[:i+1])\n",
    "            if y%len(num[:i+1])==0:\n",
    "                flag=True\n",
    "            else:\n",
    "                flag=False\n",
    "                break\n",
    "        if flag==True:\n",
    "            return True\n",
    "        else:\n",
    "            return False\n",
    "        \n",
    "    except Exception as e:\n",
    "        print(\"Please enter integer only\")\n",
    "    "
   ]
  },
  {
   "cell_type": "code",
   "execution_count": 188,
   "id": "f53687c2",
   "metadata": {},
   "outputs": [
    {
     "name": "stdout",
     "output_type": "stream",
     "text": [
      "Please enter integer only\n"
     ]
    }
   ],
   "source": [
    "is_magic(\"evjef\")"
   ]
  },
  {
   "cell_type": "code",
   "execution_count": 184,
   "id": "fa30e351",
   "metadata": {},
   "outputs": [
    {
     "data": {
      "text/plain": [
       "True"
      ]
     },
     "execution_count": 184,
     "metadata": {},
     "output_type": "execute_result"
    }
   ],
   "source": [
    "is_magic(1232)"
   ]
  },
  {
   "cell_type": "code",
   "execution_count": 185,
   "id": "8805ba40",
   "metadata": {},
   "outputs": [
    {
     "data": {
      "text/plain": [
       "False"
      ]
     },
     "execution_count": 185,
     "metadata": {},
     "output_type": "execute_result"
    }
   ],
   "source": [
    "is_magic(1232001)"
   ]
  },
  {
   "cell_type": "raw",
   "id": "2fa25bd2",
   "metadata": {},
   "source": [
    "Question 4)\n",
    "Create a function that takes a list of numbers and returns the sum of all prime numbers in the list.\n",
    "\n",
    "Examples\n",
    "\n",
    "sum_primes([1, 2, 3, 4, 5, 6, 7, 8, 9, 10]) ➞ 17\n",
    "\n",
    "sum_primes([2, 3, 4, 11, 20, 50, 71]) ➞ 87\n",
    "\n",
    "sum_primes([]) ➞ None\n"
   ]
  },
  {
   "cell_type": "code",
   "execution_count": 32,
   "id": "be7953a4",
   "metadata": {},
   "outputs": [],
   "source": [
    "class prime:\n",
    "    def is_prime(self,num):\n",
    "        if num==1:\n",
    "            return False\n",
    "        else:\n",
    "            flag=True\n",
    "            for i in range(2,num-1):\n",
    "                if num%i==0:\n",
    "                    flag=False\n",
    "                    break\n",
    "            return flag\n",
    "        \n",
    "\n",
    "class prime_operation(prime):\n",
    "    \n",
    "    def __init__(self,lst):\n",
    "        self.lst=lst\n",
    "     \n",
    "    \n",
    "     \n",
    "    def sum_of_prime(self):\n",
    "        lst1=[]\n",
    "        for i in self.lst:\n",
    "            if self.is_prime(i):\n",
    "                lst1.append(i)\n",
    "        return sum(lst1)\n",
    "        "
   ]
  },
  {
   "cell_type": "code",
   "execution_count": 33,
   "id": "db55465b",
   "metadata": {},
   "outputs": [
    {
     "data": {
      "text/plain": [
       "17"
      ]
     },
     "execution_count": 33,
     "metadata": {},
     "output_type": "execute_result"
    }
   ],
   "source": [
    "x=sum_prime([1, 2, 3, 4, 5, 6, 7, 8, 9, 10])\n",
    "x.sum_of_prime()\n"
   ]
  },
  {
   "cell_type": "code",
   "execution_count": 34,
   "id": "f7ded373",
   "metadata": {},
   "outputs": [
    {
     "data": {
      "text/plain": [
       "87"
      ]
     },
     "execution_count": 34,
     "metadata": {},
     "output_type": "execute_result"
    }
   ],
   "source": [
    "x=sum_prime([2, 3, 4, 11, 20, 50, 71])\n",
    "x.sum_of_prime()"
   ]
  },
  {
   "cell_type": "code",
   "execution_count": 35,
   "id": "f3d6d437",
   "metadata": {},
   "outputs": [
    {
     "data": {
      "text/plain": [
       "0"
      ]
     },
     "execution_count": 35,
     "metadata": {},
     "output_type": "execute_result"
    }
   ],
   "source": [
    "x=sum_prime([])\n",
    "x.sum_of_prime()"
   ]
  },
  {
   "cell_type": "code",
   "execution_count": null,
   "id": "f1aa33ae",
   "metadata": {},
   "outputs": [],
   "source": []
  }
 ],
 "metadata": {
  "kernelspec": {
   "display_name": "Python 3",
   "language": "python",
   "name": "python3"
  },
  "language_info": {
   "codemirror_mode": {
    "name": "ipython",
    "version": 3
   },
   "file_extension": ".py",
   "mimetype": "text/x-python",
   "name": "python",
   "nbconvert_exporter": "python",
   "pygments_lexer": "ipython3",
   "version": "3.8.8"
  }
 },
 "nbformat": 4,
 "nbformat_minor": 5
}
