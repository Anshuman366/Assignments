{
 "cells": [
  {
   "cell_type": "markdown",
   "id": "3f85b57e",
   "metadata": {},
   "source": [
    "# PYTHON BASIC PROGRAMMING ASSIGNMENT-16"
   ]
  },
  {
   "cell_type": "raw",
   "id": "d01c560a",
   "metadata": {},
   "source": [
    "Question 1\n",
    "Create a function that takes an integer and returns a list from 1 to the given number, where:\n",
    "1.If the number can be divided evenly by 4, amplify it by 10 (i.e. return 10 times the number).\n",
    "2.If the number cannot be divided evenly by 4, simply return the number.\n",
    "Examples\n",
    "amplify(4) ➞ [1, 2, 3, 40]\n",
    "\n",
    "amplify(3) ➞ [1, 2, 3]\n",
    "\n",
    "amplify(25) ➞ [1, 2, 3, 40, 5, 6, 7, 80, 9, 10, 11, 120, 13, 14, 15, 160, 17, 18, 19, 200, 21, 22, 23, 240, 25]\n",
    "Notes\n",
    "The given integer will always be equal to or greater than 1.\n",
    "Include the number (see example above).\n",
    "To perform this problem with its intended purpose, try doing it with list comprehensions. If that's too difficult, just solve the challenge any way you can."
   ]
  },
  {
   "cell_type": "code",
   "execution_count": 11,
   "id": "54c16b36",
   "metadata": {},
   "outputs": [],
   "source": [
    "def create_list(num):\n",
    "    \"\"\"  takes an integer and returns a list from 1 to the given number, where:\n",
    "1.If the number can be divided evenly by 4, amplify it by 10 (i.e. return 10 times the number).\n",
    "2.If the number cannot be divided evenly by 4, simply return the number. \"\"\"\n",
    "    try:\n",
    "        lst=[]\n",
    "        if num>=1:\n",
    "            x=[(i*10) if i%4==0 else i for i in range(num+1)]\n",
    "        else:\n",
    "            print(\"Please enter number greater then  or equal to 1\")\n",
    "    except Exception as e:\n",
    "        print(e)\n"
   ]
  },
  {
   "cell_type": "code",
   "execution_count": 10,
   "id": "083618fc",
   "metadata": {},
   "outputs": [
    {
     "data": {
      "text/plain": [
       "[1,\n",
       " 2,\n",
       " 3,\n",
       " 40,\n",
       " 5,\n",
       " 6,\n",
       " 7,\n",
       " 80,\n",
       " 9,\n",
       " 10,\n",
       " 11,\n",
       " 120,\n",
       " 13,\n",
       " 14,\n",
       " 15,\n",
       " 160,\n",
       " 17,\n",
       " 18,\n",
       " 19,\n",
       " 200,\n",
       " 21,\n",
       " 22,\n",
       " 23,\n",
       " 240,\n",
       " 25]"
      ]
     },
     "execution_count": 10,
     "metadata": {},
     "output_type": "execute_result"
    }
   ],
   "source": [
    "create_list(25)"
   ]
  },
  {
   "cell_type": "raw",
   "id": "b8f38b4f",
   "metadata": {},
   "source": [
    "Question2\n",
    "Create a function that takes a list of numbers and return the number that's unique.\n",
    "Examples\n",
    "unique([3, 3, 3, 7, 3, 3]) ➞ 7\n",
    "\n",
    "unique([0, 0, 0.77, 0, 0]) ➞ 0.77\n",
    "\n",
    "unique([0, 1, 1, 1, 1, 1, 1, 1]) ➞ 0"
   ]
  },
  {
   "cell_type": "code",
   "execution_count": 46,
   "id": "1ac4a5dc",
   "metadata": {},
   "outputs": [],
   "source": [
    "def unique_num(lst):\n",
    "    \"\"\" This function will return unique value from list if it is \"\"\"\n",
    "    try:\n",
    "        if type(lst)==list:\n",
    "            count=0\n",
    "            for i in lst:\n",
    "                if lst.count(i) == 1:\n",
    "                    return i\n",
    "            else:\n",
    "                return \"No unique value in  the list\"\n",
    "        else:\n",
    "            return \"Please enter list only\"\n",
    "    except Exception as e:\n",
    "        print(e)\n",
    "            \n",
    "            \n",
    "        "
   ]
  },
  {
   "cell_type": "code",
   "execution_count": 49,
   "id": "c15761a9",
   "metadata": {},
   "outputs": [
    {
     "data": {
      "text/plain": [
       "0.77"
      ]
     },
     "execution_count": 49,
     "metadata": {},
     "output_type": "execute_result"
    }
   ],
   "source": [
    "lst=[0, 0, 0.77, 0, 0]\n",
    "unique_num(lst)\n",
    "\n"
   ]
  },
  {
   "cell_type": "raw",
   "id": "1cc3ce74",
   "metadata": {},
   "source": [
    "Question3\n",
    "Your task is to create a Circle constructor that creates a circle with a radius provided by an argument. The circles constructed must have two getters getArea() (PIr^2) and getPerimeter() (2PI*r) which give both respective areas and perimeter (circumference).\n",
    "For help with this class, I have provided you with a Rectangle constructor which you can use as a base example."
   ]
  },
  {
   "cell_type": "code",
   "execution_count": 60,
   "id": "2f23a0fc",
   "metadata": {},
   "outputs": [],
   "source": [
    "class circle:\n",
    "    def __init__(self,radius):\n",
    "        self.radius=radius\n",
    "        \n",
    "    def Area(self):\n",
    "        ar=(22/7)*self.radius*self.radius\n",
    "        return \"The area of circle is {} sq.unit \".format(round(ar))\n",
    "    def circumfrance(self):\n",
    "        ar=2*(22/7)*self.radius\n",
    "        return \"The circumfrance of circle is {} unit \".format(round(ar))"
   ]
  },
  {
   "cell_type": "code",
   "execution_count": 61,
   "id": "fd8805b3",
   "metadata": {},
   "outputs": [
    {
     "data": {
      "text/plain": [
       "'The area of circle is 380 sq.unit '"
      ]
     },
     "execution_count": 61,
     "metadata": {},
     "output_type": "execute_result"
    }
   ],
   "source": [
    "circy=circle(11)\n",
    "circy.Area()"
   ]
  },
  {
   "cell_type": "code",
   "execution_count": 62,
   "id": "61c4f0b8",
   "metadata": {},
   "outputs": [
    {
     "data": {
      "text/plain": [
       "'The circumfrance of circle is 28 unit '"
      ]
     },
     "execution_count": 62,
     "metadata": {},
     "output_type": "execute_result"
    }
   ],
   "source": [
    "circy=circle(4.4)\n",
    "circy.circumfrance()"
   ]
  },
  {
   "cell_type": "raw",
   "id": "8c053c9e",
   "metadata": {},
   "source": [
    "Question 4\n",
    "Create a function that takes a list of strings and return a list, sorted from shortest to longest.\n",
    "Examples\n",
    "sort_by_length([\"Google\", \"Apple\", \"Microsoft\"])\n",
    "➞ [\"Apple\", \"Google\", \"Microsoft\"]\n",
    "\n",
    "sort_by_length([\"Leonardo\", \"Michelangelo\", \"Raphael\", \"Donatello\"])\n",
    "➞ [\"Raphael\", \"Leonardo\", \"Donatello\", \"Michelangelo\"]\n",
    "\n",
    "sort_by_length([\"Turing\", \"Einstein\", \"Jung\"])\n",
    "➞ [\"Jung\", \"Turing\", \"Einstein\"]\n",
    "Notes\n",
    "All test cases contain lists with strings of different lengths, so you won't have to deal with multiple strings of the same length."
   ]
  },
  {
   "cell_type": "code",
   "execution_count": 92,
   "id": "c04238fd",
   "metadata": {},
   "outputs": [],
   "source": [
    "def sort_by_length(lst):\n",
    "    \"\"\" This function will sort the  string elements of list by their length\"\"\"\n",
    "    try:\n",
    "        if type(lst)==list:\n",
    "            return sorted(lst,key=len)\n",
    "        else:\n",
    "            return \"Please enter list only\"\n",
    "    except Exception as e:\n",
    "        print(e)\n",
    "   "
   ]
  },
  {
   "cell_type": "code",
   "execution_count": 95,
   "id": "2ac0ef3b",
   "metadata": {},
   "outputs": [
    {
     "data": {
      "text/plain": [
       "['Jung', 'Turing', 'Einstein']"
      ]
     },
     "execution_count": 95,
     "metadata": {},
     "output_type": "execute_result"
    }
   ],
   "source": [
    "lst=[\"Turing\", \"Einstein\", \"Jung\"]    \n",
    "sort_by_length(lst)\n",
    "    "
   ]
  },
  {
   "cell_type": "raw",
   "id": "f25251c7",
   "metadata": {},
   "source": [
    "Question 5\n",
    "Create a function that validates whether three given integers form a Pythagorean triplet. The sum of the squares of the two smallest integers must equal the square of the largest number to be validated."
   ]
  },
  {
   "cell_type": "code",
   "execution_count": 112,
   "id": "25af98bd",
   "metadata": {},
   "outputs": [],
   "source": [
    "def is_Pythagorean_triplet():\n",
    "    \"\"\"Thois function will return true if entered num is pythagorous triplet else false\"\"\"\n",
    "    try:\n",
    "        \n",
    "        a,b,c=eval(input(\"Please enter three number to check if they are Pythagorean triplet or not!!\"))\n",
    "\n",
    "        if type(a)==int and type(b)==int and type(c)==int:\n",
    "            lst_input=[a,b,c]\n",
    "            lst_input.sort()\n",
    "            if lst_input[0]**2 + lst_input[1]**2==lst_input[2]**2:\n",
    "                return True\n",
    "            else:\n",
    "                return False\n",
    "    except Exception as e:\n",
    "        print(\"Please enter valid input\")\n",
    "        \n",
    "        \n",
    "    "
   ]
  },
  {
   "cell_type": "code",
   "execution_count": 114,
   "id": "bd2e45c5",
   "metadata": {},
   "outputs": [
    {
     "name": "stdout",
     "output_type": "stream",
     "text": [
      "Please enter three number to check if they are Pythagorean triplet or not!!0,0,0\n"
     ]
    },
    {
     "data": {
      "text/plain": [
       "True"
      ]
     },
     "execution_count": 114,
     "metadata": {},
     "output_type": "execute_result"
    }
   ],
   "source": [
    "is_Pythagorean_triplet()"
   ]
  },
  {
   "cell_type": "markdown",
   "id": "b5145503",
   "metadata": {},
   "source": []
  }
 ],
 "metadata": {
  "kernelspec": {
   "display_name": "Python 3",
   "language": "python",
   "name": "python3"
  },
  "language_info": {
   "codemirror_mode": {
    "name": "ipython",
    "version": 3
   },
   "file_extension": ".py",
   "mimetype": "text/x-python",
   "name": "python",
   "nbconvert_exporter": "python",
   "pygments_lexer": "ipython3",
   "version": "3.8.8"
  }
 },
 "nbformat": 4,
 "nbformat_minor": 5
}
