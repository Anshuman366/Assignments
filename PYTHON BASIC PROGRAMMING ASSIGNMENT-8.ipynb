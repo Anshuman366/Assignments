{
 "cells": [
  {
   "cell_type": "markdown",
   "id": "59e90c9f",
   "metadata": {},
   "source": [
    "# PYTHON BASIC PROGRAMMING ASSIGNMENT-8"
   ]
  },
  {
   "cell_type": "code",
   "execution_count": 117,
   "id": "ad9e2f0b",
   "metadata": {},
   "outputs": [],
   "source": [
    "#Q1)1.Write a Python program to find sum of elements in list?\n",
    "def list_sum(lst):\n",
    "    \"Takes list as input and return sum if list element is integer\"\n",
    "    \n",
    "    try:\n",
    "        if type(lst)==list:\n",
    "            sum1=0\n",
    "            for i in lst:\n",
    "                if type(i)!=int:\n",
    "                    print(\"Please enter list which contain only integer\")\n",
    "                sum1+=i\n",
    "            return sum1\n",
    "    except Exception as e:\n",
    "        print(\"Invalid input\")\n",
    "        "
   ]
  },
  {
   "cell_type": "code",
   "execution_count": 119,
   "id": "f382a31a",
   "metadata": {},
   "outputs": [
    {
     "name": "stdout",
     "output_type": "stream",
     "text": [
      "Please enter list which contain only integer\n",
      "Invalid input\n"
     ]
    }
   ],
   "source": [
    "list_sum([\"A\",34,3,\"cwid\",\"chidb\"])"
   ]
  },
  {
   "cell_type": "code",
   "execution_count": 120,
   "id": "187ec440",
   "metadata": {},
   "outputs": [],
   "source": [
    "#Q2)2.Write a Python program to  Multiply all numbers in the list?\n",
    "def mul_list(lst):\n",
    "    try:\n",
    "        if type(lst)==list:\n",
    "            result=1\n",
    "            for i in lst:\n",
    "                if type(i)!=int:\n",
    "                    print(\"Please enter list which contain only integer\")\n",
    "                    break\n",
    "                result=result*i\n",
    "            else:\n",
    "                return result\n",
    "        else:\n",
    "            print(\"Please enter a list which contain only integer\")\n",
    "    except Exception as e:\n",
    "        print(e)\n",
    "    \n",
    "    "
   ]
  },
  {
   "cell_type": "code",
   "execution_count": 121,
   "id": "d11acd26",
   "metadata": {},
   "outputs": [
    {
     "data": {
      "text/plain": [
       "-30"
      ]
     },
     "execution_count": 121,
     "metadata": {},
     "output_type": "execute_result"
    }
   ],
   "source": [
    "mul_list([1,2,3,-5])"
   ]
  },
  {
   "cell_type": "code",
   "execution_count": 124,
   "id": "b0ede149",
   "metadata": {},
   "outputs": [],
   "source": [
    "#Q3)Write a Python program to find smallest number in a list?\n",
    "def smallest_in_list(lst):\n",
    "    try:\n",
    "        if type(lst)==list:\n",
    "            x=lst.sort()\n",
    "            return lst[0]\n",
    "        else:\n",
    "            print(\"invalid input, please enter list with integer only\")\n",
    "    except Exception as e:\n",
    "        print(\"Please enter the list with integer only\")\n",
    "    "
   ]
  },
  {
   "cell_type": "code",
   "execution_count": 125,
   "id": "0f771dc4",
   "metadata": {},
   "outputs": [
    {
     "name": "stdout",
     "output_type": "stream",
     "text": [
      "Please enter the list with integer only\n"
     ]
    }
   ],
   "source": [
    "smallest_in_list([4,6,5,2,7,9,\"s\",36])"
   ]
  },
  {
   "cell_type": "code",
   "execution_count": 126,
   "id": "fb42cd19",
   "metadata": {},
   "outputs": [
    {
     "name": "stdout",
     "output_type": "stream",
     "text": [
      "invalid input, please enter list with integer only\n"
     ]
    }
   ],
   "source": [
    "smallest_in_list((1,2,3,4))"
   ]
  },
  {
   "cell_type": "code",
   "execution_count": 127,
   "id": "0048f001",
   "metadata": {},
   "outputs": [],
   "source": [
    "#Q4)4.Write a Python program to find largest number in a list?\n",
    "def largest_in_list(lst):\n",
    "    try:\n",
    "        if type(lst)==list:\n",
    "            x=lst.sort()\n",
    "            return lst[-1]\n",
    "        else:\n",
    "            print(\"invalid input, please enter list with integer only\")\n",
    "    except Exception as e:\n",
    "        print(\"Please enter the list with integer only\")"
   ]
  },
  {
   "cell_type": "code",
   "execution_count": 128,
   "id": "fd121ce9",
   "metadata": {},
   "outputs": [
    {
     "data": {
      "text/plain": [
       "19"
      ]
     },
     "execution_count": 128,
     "metadata": {},
     "output_type": "execute_result"
    }
   ],
   "source": [
    "largest_in_list([4,6,5,2,7,19])"
   ]
  },
  {
   "cell_type": "code",
   "execution_count": 129,
   "id": "499813c7",
   "metadata": {},
   "outputs": [],
   "source": [
    "#Q5)Write a Python program to find second largest number in a list?\n",
    "def second_largest_in_list(lst):\n",
    "    try:\n",
    "        \n",
    "        if type(lst)==list:\n",
    "            x=lst.sort()\n",
    "            return \"{} is the second largest number in list\".format(lst[-2])\n",
    "        else:\n",
    "            print(\"invalid input, please enter list with integer only\")\n",
    "    except Exception as e:\n",
    "        print(\"Please enter the list with integer only\")"
   ]
  },
  {
   "cell_type": "code",
   "execution_count": 130,
   "id": "968b5b4c",
   "metadata": {},
   "outputs": [
    {
     "data": {
      "text/plain": [
       "'7 is the second largest number in list'"
      ]
     },
     "execution_count": 130,
     "metadata": {},
     "output_type": "execute_result"
    }
   ],
   "source": [
    "second_largest_in_list([6,3,7,4,1,8])"
   ]
  },
  {
   "cell_type": "code",
   "execution_count": 9,
   "id": "832652cc",
   "metadata": {},
   "outputs": [],
   "source": [
    "#Q6)6.Write a Python program to find N largest elements from a list?\n",
    "def second_largest_in_list(lst,n):\n",
    "    \"\"\" This function will take two input,list and nth number and return nth largest number \n",
    "    from the list \"\"\"\n",
    "    try:\n",
    "        if type(lst)==list:\n",
    "            x=lst.sort()\n",
    "            return \"{} is the {} largest number in list\".format(lst[-2],n)\n",
    "        else:\n",
    "            print(\"invalid input, please enter list with integer only\")\n",
    "    except Exception as e:\n",
    "        print(\"Please enter the list with integer only\")"
   ]
  },
  {
   "cell_type": "code",
   "execution_count": 10,
   "id": "77ae4232",
   "metadata": {},
   "outputs": [
    {
     "data": {
      "text/plain": [
       "'7 is the 3 largest number in list'"
      ]
     },
     "execution_count": 10,
     "metadata": {},
     "output_type": "execute_result"
    }
   ],
   "source": [
    "second_largest_in_list([4,6,5,2,7,19],3)"
   ]
  },
  {
   "cell_type": "code",
   "execution_count": 12,
   "id": "66b72beb",
   "metadata": {},
   "outputs": [],
   "source": [
    "#Q7)7.Write a Python program to print even numbers in a list?\n",
    "def even_no(lst):\n",
    "    \"This function will take list of integer as input and return list of even number from it\"\n",
    "    lst1=[]\n",
    "    try:\n",
    "        if type(lst)==list:\n",
    "            for i in lst:\n",
    "                if type(i)!=int:\n",
    "                    print(\"Please enter list which contain only integer\")\n",
    "                    break\n",
    "                if i%2==0:\n",
    "                    lst1.append(i)\n",
    "            else:\n",
    "                return lst1\n",
    "        else:\n",
    "            print(\"Please enter a list which contain only integer\")\n",
    "    except Exception as e:\n",
    "        print(e)\n",
    "    \n",
    "    "
   ]
  },
  {
   "cell_type": "code",
   "execution_count": 16,
   "id": "b7ee6f90",
   "metadata": {},
   "outputs": [
    {
     "data": {
      "text/plain": [
       "[2, 4, 6, 8, 12, 14, 16]"
      ]
     },
     "execution_count": 16,
     "metadata": {},
     "output_type": "execute_result"
    }
   ],
   "source": [
    "even_no([1,2,3,4,5,6,7,8,9,15,12,14,16])"
   ]
  },
  {
   "cell_type": "code",
   "execution_count": 17,
   "id": "99de57ee",
   "metadata": {},
   "outputs": [
    {
     "name": "stdout",
     "output_type": "stream",
     "text": [
      "Please enter list which contain only integer\n"
     ]
    }
   ],
   "source": [
    "even_no([1,2,3,4,5,6,7,8,9,15,12,14,16,\"s\"])"
   ]
  },
  {
   "cell_type": "code",
   "execution_count": 18,
   "id": "c7ffce73",
   "metadata": {},
   "outputs": [
    {
     "name": "stdout",
     "output_type": "stream",
     "text": [
      "Please enter list which contain only integer\n"
     ]
    }
   ],
   "source": [
    "even_no([1,2,3,4,5,6,7,8,9,15,12,14,16,(1,2,3,4)])"
   ]
  },
  {
   "cell_type": "code",
   "execution_count": 19,
   "id": "cf21d2c6",
   "metadata": {},
   "outputs": [],
   "source": [
    "#Q8)8.Write a Python program to print odd numbers in a List?\n",
    "def odd_no(lst):\n",
    "    \"This function will take list of integer as input and return list of odd number from it\"\n",
    "    lst1=[]\n",
    "    try:\n",
    "        if type(lst)==list:\n",
    "            for i in lst:\n",
    "                if type(i)!=int:\n",
    "                    print(\"Please enter list which contain only integer\")\n",
    "                    break\n",
    "                if i%2!=0:\n",
    "                    lst1.append(i)\n",
    "            else:\n",
    "                return lst1\n",
    "        else:\n",
    "            print(\"Please enter a list which contain only integer\")\n",
    "    except Exception as e:\n",
    "        print(e)"
   ]
  },
  {
   "cell_type": "code",
   "execution_count": 20,
   "id": "e59596d1",
   "metadata": {},
   "outputs": [
    {
     "data": {
      "text/plain": [
       "[1, 3, 5, 7, 9, 15]"
      ]
     },
     "execution_count": 20,
     "metadata": {},
     "output_type": "execute_result"
    }
   ],
   "source": [
    "odd_no([1,2,3,4,5,6,7,8,9,15,12,14,16])"
   ]
  },
  {
   "cell_type": "code",
   "execution_count": 51,
   "id": "366440b0",
   "metadata": {},
   "outputs": [],
   "source": [
    "#Q9)9.Write a Python program to Remove empty List from List?\n",
    "def rem_empty_list(lst):\n",
    "    \"\"\"This function will remove empty list from given list\"\"\"\n",
    "    try:\n",
    "        if type(lst)==list:\n",
    "            y=[i for i in lst if i!=[]]\n",
    "            return y\n",
    "        else:\n",
    "            print(\"Please enter list as input\")\n",
    "    except Exception as e:\n",
    "        print(e)"
   ]
  },
  {
   "cell_type": "code",
   "execution_count": 52,
   "id": "8481fe47",
   "metadata": {},
   "outputs": [
    {
     "data": {
      "text/plain": [
       "[1, 2, 3, 4, 5, 6, 7, 8, 9, 15, 12, 14, 16]"
      ]
     },
     "execution_count": 52,
     "metadata": {},
     "output_type": "execute_result"
    }
   ],
   "source": [
    "rem_empty_list([1,2,3,4,5,6,7,8,9,15,[],12,14,[],16])"
   ]
  },
  {
   "cell_type": "code",
   "execution_count": 50,
   "id": "5a428823",
   "metadata": {},
   "outputs": [
    {
     "data": {
      "text/plain": [
       "['cjved', 'evchevb', [1, 2, 3], 'rbhevuer']"
      ]
     },
     "execution_count": 50,
     "metadata": {},
     "output_type": "execute_result"
    }
   ],
   "source": [
    "rem_empty_list([\"cjved\",\"evchevb\",[1,2,3],\"rbhevuer\",[]])"
   ]
  },
  {
   "cell_type": "code",
   "execution_count": 58,
   "id": "b8f22a1d",
   "metadata": {},
   "outputs": [],
   "source": [
    "#Q10)10.Write a Python program to Cloning or Copying a list?\n",
    "def cloning(lst):\n",
    "    \"This function will return copy of the entered list\"\n",
    "    try:\n",
    "        if type(lst)==list:\n",
    "            lst_copy=lst\n",
    "            return lst_copy\n",
    "        else:\n",
    "            print(\"please enter list only\")\n",
    "    except Exception as e:\n",
    "        print(e)\n",
    "    "
   ]
  },
  {
   "cell_type": "code",
   "execution_count": 59,
   "id": "c4cccb06",
   "metadata": {},
   "outputs": [
    {
     "name": "stdout",
     "output_type": "stream",
     "text": [
      "please enter list only\n"
     ]
    }
   ],
   "source": [
    "cloning(\"rfercw\")"
   ]
  },
  {
   "cell_type": "code",
   "execution_count": 131,
   "id": "3a475fa8",
   "metadata": {},
   "outputs": [],
   "source": [
    "#Q11)11.Write a Python program to Count occurrences of an element in a list?\n",
    "def count_occurance(lst,n):\n",
    "    \"\"\" This function will take lst and number as input and return the occurance of number in list\"\"\"\n",
    "    try:\n",
    "        if type(lst)==list:\n",
    "            count=0\n",
    "            for i  in lst: \n",
    "                if i==n:\n",
    "                    count=count+1\n",
    "            return \"Frequency of {} in list is {} \".format(n,count)\n",
    "        else:\n",
    "            print(\"Pleas enter list input\")\n",
    "    except Exception as e:\n",
    "        print(e)\n",
    "            \n",
    "            \n",
    "        \n",
    "        "
   ]
  },
  {
   "cell_type": "code",
   "execution_count": 132,
   "id": "cf2d0324",
   "metadata": {},
   "outputs": [
    {
     "data": {
      "text/plain": [
       "'Frequency of Anshuman in list is 1 '"
      ]
     },
     "execution_count": 132,
     "metadata": {},
     "output_type": "execute_result"
    }
   ],
   "source": [
    "count_occurance([1,2,3,4,\"Anshuman\",\"anshuman\"],\"Anshuman\")"
   ]
  },
  {
   "cell_type": "code",
   "execution_count": 133,
   "id": "e85ad97a",
   "metadata": {},
   "outputs": [
    {
     "data": {
      "text/plain": [
       "'Frequency of 4 in list is 5 '"
      ]
     },
     "execution_count": 133,
     "metadata": {},
     "output_type": "execute_result"
    }
   ],
   "source": [
    "count_occurance([1,2,2,2,3,3,4,4,4,4,4,5],4)"
   ]
  },
  {
   "cell_type": "code",
   "execution_count": null,
   "id": "e832d713",
   "metadata": {},
   "outputs": [],
   "source": []
  }
 ],
 "metadata": {
  "kernelspec": {
   "display_name": "Python 3",
   "language": "python",
   "name": "python3"
  },
  "language_info": {
   "codemirror_mode": {
    "name": "ipython",
    "version": 3
   },
   "file_extension": ".py",
   "mimetype": "text/x-python",
   "name": "python",
   "nbconvert_exporter": "python",
   "pygments_lexer": "ipython3",
   "version": "3.8.8"
  }
 },
 "nbformat": 4,
 "nbformat_minor": 5
}
