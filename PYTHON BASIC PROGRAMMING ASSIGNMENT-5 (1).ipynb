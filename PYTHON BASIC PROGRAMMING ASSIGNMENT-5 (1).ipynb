{
 "cells": [
  {
   "cell_type": "markdown",
   "id": "58f8c728",
   "metadata": {},
   "source": [
    "# PYTHON BASIC PROGRAMMING ASSIGNMENT-5"
   ]
  },
  {
   "cell_type": "code",
   "execution_count": 1,
   "id": "5914478f",
   "metadata": {},
   "outputs": [],
   "source": [
    "#Q1)Write a Python Program to Find LCM?\n",
    "def lcm(n1,n2):\n",
    "    if n1>n2:\n",
    "        greater=n1\n",
    "    else:\n",
    "        greater=n2\n",
    "    val=greater\n",
    "    while True:\n",
    "        if greater%n1==0 and greater%n2==0:\n",
    "            print(\"lcm is\" ,greater )\n",
    "            break\n",
    "        else:\n",
    "            greater=greater+val\n",
    "\n",
    "        "
   ]
  },
  {
   "cell_type": "code",
   "execution_count": 6,
   "id": "65f5ccf7",
   "metadata": {},
   "outputs": [
    {
     "name": "stdout",
     "output_type": "stream",
     "text": [
      "lcm is 72\n"
     ]
    }
   ],
   "source": [
    "lcm(24,36)"
   ]
  },
  {
   "cell_type": "code",
   "execution_count": 9,
   "id": "2b1fc4b5",
   "metadata": {},
   "outputs": [],
   "source": [
    "#Q2)Write a Python Program to Find HCF?\n",
    "def computegcd(n1,n2):\n",
    "    if n2==0:\n",
    "        return n1\n",
    "    else:\n",
    "        return computegcd(n2,n1%n2)"
   ]
  },
  {
   "cell_type": "code",
   "execution_count": 10,
   "id": "5923fdd6",
   "metadata": {},
   "outputs": [
    {
     "data": {
      "text/plain": [
       "16"
      ]
     },
     "execution_count": 10,
     "metadata": {},
     "output_type": "execute_result"
    }
   ],
   "source": [
    "computegcd(64,48)"
   ]
  },
  {
   "cell_type": "code",
   "execution_count": 1,
   "id": "329fc710",
   "metadata": {},
   "outputs": [],
   "source": [
    "#Q3)Write a Python Program to Convert Decimal to Binary, Octal and Hexadecimal?\n",
    "#num = int(input(\"Please enter number\"))\n",
    "def num_conversion(num):\n",
    "    print(\"The decimal value of\", num, \"is:\")\n",
    "    print(bin(num), \"in binary.\")\n",
    "    print(oct(num), \"in octal.\")\n",
    "    print(hex(num), \"in hexadecimal.\")"
   ]
  },
  {
   "cell_type": "code",
   "execution_count": 2,
   "id": "09348b99",
   "metadata": {},
   "outputs": [
    {
     "name": "stdout",
     "output_type": "stream",
     "text": [
      "The decimal value of 344 is:\n",
      "0b101011000 in binary.\n",
      "0o530 in octal.\n",
      "0x158 in hexadecimal.\n"
     ]
    }
   ],
   "source": [
    "num_conversion(344)"
   ]
  },
  {
   "cell_type": "code",
   "execution_count": 3,
   "id": "6147dbc7",
   "metadata": {},
   "outputs": [],
   "source": [
    "#Q4)Write a Python Program To Find ASCII value of a character?\n",
    "def give_ASCII(char):\n",
    "    for i in char:\n",
    "        print(\"The ASCII value of {} is {} \".format(i,ord(i)))"
   ]
  },
  {
   "cell_type": "code",
   "execution_count": 5,
   "id": "bcdc5e47",
   "metadata": {},
   "outputs": [
    {
     "name": "stdout",
     "output_type": "stream",
     "text": [
      "The ASCII value of A is 65 \n",
      "The ASCII value of n is 110 \n",
      "The ASCII value of s is 115 \n",
      "The ASCII value of h is 104 \n",
      "The ASCII value of u is 117 \n",
      "The ASCII value of m is 109 \n",
      "The ASCII value of a is 97 \n",
      "The ASCII value of n is 110 \n"
     ]
    }
   ],
   "source": [
    "give_ASCII(\"Anshuman\")"
   ]
  },
  {
   "cell_type": "code",
   "execution_count": null,
   "id": "4b47953a",
   "metadata": {},
   "outputs": [
    {
     "name": "stdout",
     "output_type": "stream",
     "text": [
      "Which operation do u want to choose? \n",
      "\n",
      "Enter 1 for Addition(+)\n",
      "\n",
      "Enter 2 for Substraction(-)\n",
      "\n",
      "Enter 3 for Multiplication(*)\n",
      "\n",
      "Enter 4 for Division(/)\n",
      "\n",
      "\n"
     ]
    }
   ],
   "source": [
    "#Q5)Write a Python Program to Make a Simple Calculator with 4 basic mathematical operations?\n",
    "try:\n",
    "        print(\"Which operation do u want to choose? \")\n",
    "\n",
    "        print()\n",
    "        print(\"Enter 1 for Addition(+)\\n\")\n",
    "        print(\"Enter 2 for Substraction(-)\\n\")\n",
    "        print(\"Enter 3 for Multiplication(*)\\n\")\n",
    "        print(\"Enter 4 for Division(/)\\n\")\n",
    "        print()\n",
    "\n",
    "        choice=int(input(\"Enter your choice-->\"))\n",
    "        if choice>4 or choice<1:\n",
    "            print(\"Please enter valid number:\")\n",
    "        else:\n",
    "            num1=int(input(\"please enter first number\"))\n",
    "            num2=int(input(\"please enter second number\"))\n",
    "\n",
    "            if choice==1:\n",
    "                print(\"Addition of number is: \",num1+num2)\n",
    "            elif choice==2:\n",
    "                print(\"subtraction of number is: \",num1-num2)\n",
    "            elif choice==3:\n",
    "                print(\"multiplication of number is: \",num1*num2)\n",
    "            else:\n",
    "                print(\"division of number is: \",num1/num2)\n",
    "            \n",
    "except ValueError as v1:\n",
    "    print(\"Please enter valid input\")"
   ]
  },
  {
   "cell_type": "code",
   "execution_count": null,
   "id": "2aed04ba",
   "metadata": {},
   "outputs": [],
   "source": []
  }
 ],
 "metadata": {
  "kernelspec": {
   "display_name": "Python 3",
   "language": "python",
   "name": "python3"
  },
  "language_info": {
   "codemirror_mode": {
    "name": "ipython",
    "version": 3
   },
   "file_extension": ".py",
   "mimetype": "text/x-python",
   "name": "python",
   "nbconvert_exporter": "python",
   "pygments_lexer": "ipython3",
   "version": "3.8.8"
  }
 },
 "nbformat": 4,
 "nbformat_minor": 5
}
