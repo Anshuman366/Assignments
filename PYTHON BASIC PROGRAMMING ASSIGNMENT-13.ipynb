{
 "cells": [
  {
   "cell_type": "markdown",
   "id": "859aac53",
   "metadata": {},
   "source": [
    "# PYTHON BASIC PROGRAMMING ASSIGNMENT-13"
   ]
  },
  {
   "cell_type": "raw",
   "id": "fecf9d21",
   "metadata": {},
   "source": [
    "Question 1:\n",
    "Please write a program using generator to print the numbers which can be divisible by 5 and 7 between 0 and n in comma separated form while n is input by console.\n",
    "Example:\n",
    "If the following n is given as input to the program:\n",
    "100\n",
    "Then, the output of the program should be:\n",
    "0,35,70\n"
   ]
  },
  {
   "cell_type": "code",
   "execution_count": 14,
   "id": "3b591e85",
   "metadata": {},
   "outputs": [],
   "source": [
    "def divsible(n):\n",
    "    \"\"\"This function will returm the number dividible by 5 and 7 in range n\"\"\"\n",
    "    try:\n",
    "        \n",
    "        for i in range(0,n+1):\n",
    "            if i%5==0 and i%7==0:\n",
    "                yield i\n",
    "    except Exception as e:\n",
    "        print(e)\n",
    "            "
   ]
  },
  {
   "cell_type": "code",
   "execution_count": 17,
   "id": "b765293a",
   "metadata": {},
   "outputs": [
    {
     "name": "stdout",
     "output_type": "stream",
     "text": [
      "Please enter the max limit of range100\n",
      "0\n",
      "35\n",
      "70\n"
     ]
    }
   ],
   "source": [
    "n=int(input(\"Please enter the max limit of range\"))\n",
    "x=divsible(n)\n",
    "for i in x:\n",
    "    print(i)\n"
   ]
  },
  {
   "cell_type": "raw",
   "id": "7cd33d50",
   "metadata": {},
   "source": [
    "Question 2\n",
    "Please write a program using generator to print the even numbers between 0 and n in comma separated form while n is input by console.\n",
    "Example:\n",
    "If the following n is given as input to the program:\n",
    "10\n",
    "Then, the output of the program should be:\n",
    "0,2,4,6,8,10"
   ]
  },
  {
   "cell_type": "code",
   "execution_count": 19,
   "id": "85fecd62",
   "metadata": {},
   "outputs": [],
   "source": [
    "#solution 2\n",
    "def even_no(n):\n",
    "    \"\"\" This function will return the even number in range n\"\"\"\n",
    "    try:\n",
    "        \n",
    "        for i in range(0,n+1):\n",
    "            if i%2==0:\n",
    "                yield i\n",
    "    except Exception as e:\n",
    "        print(e)\n"
   ]
  },
  {
   "cell_type": "code",
   "execution_count": 20,
   "id": "1775e6fd",
   "metadata": {},
   "outputs": [
    {
     "name": "stdout",
     "output_type": "stream",
     "text": [
      "Please enter the max limit of range10\n",
      "0\n",
      "2\n",
      "4\n",
      "6\n",
      "8\n",
      "10\n"
     ]
    }
   ],
   "source": [
    "n=int(input(\"Please enter the max limit of range\"))\n",
    "x=even_no(n)\n",
    "for i in x:\n",
    "    print(i)\n"
   ]
  },
  {
   "cell_type": "raw",
   "id": "a9336f99",
   "metadata": {},
   "source": [
    "Questioin 3\n",
    "\n",
    "The Fibonacci Sequence is computed based on the following formula:\n",
    "f(n)=0 if n=0\n",
    "f(n)=1 if n=1\n",
    "f(n)=f(n-1)+f(n-2) if n>1\n",
    "Please write a program using list comprehension to print the Fibonacci Sequence in comma separated form with a given n input by console.\n",
    "Example:\n",
    "If the following n is given as input to the program:\n",
    "7\n",
    "\n",
    "Then, the output of the program should be:\n",
    "0,1,1,2,3,5,8,13"
   ]
  },
  {
   "cell_type": "code",
   "execution_count": 48,
   "id": "be498a43",
   "metadata": {},
   "outputs": [],
   "source": [
    "#Solution 3\n",
    "def febonicci(n):\n",
    "    \"\"\" This function will return fabonnici series in range n\"\"\"\n",
    "    try:\n",
    "        a=0\n",
    "        b=1\n",
    "        if n==0:\n",
    "            yield 0 \n",
    "        elif n==1:\n",
    "            yield 1\n",
    "        else:\n",
    "            for i in range(0,n):\n",
    "                a,b=b,a+b\n",
    "                yield a\n",
    "    except Exception as e:\n",
    "        print(e)\n",
    "            "
   ]
  },
  {
   "cell_type": "code",
   "execution_count": 51,
   "id": "319f831b",
   "metadata": {},
   "outputs": [
    {
     "name": "stdout",
     "output_type": "stream",
     "text": [
      "Please enter range7\n",
      "1\n",
      "1\n",
      "2\n",
      "3\n",
      "5\n",
      "8\n",
      "13\n"
     ]
    }
   ],
   "source": [
    "n=int(input(\"Please enter range\"))\n",
    "for i in febonicci(n):\n",
    "    print(i)"
   ]
  },
  {
   "cell_type": "raw",
   "id": "67c7733a",
   "metadata": {},
   "source": [
    "Question 4\n",
    "Assuming that we have some email addresses in the \"username@companyname.com\" format, please write program to print the user name of a given email address. Both user names and company names are composed of letters only.\n",
    "Example:\n",
    "If the following email address is given as input to the program:\n",
    "john@google.com\n",
    "Then, the output of the program should be:\n",
    "john"
   ]
  },
  {
   "cell_type": "code",
   "execution_count": 8,
   "id": "6dfc994e",
   "metadata": {},
   "outputs": [],
   "source": [
    "#solution 4\n",
    "def lst_username(n):\n",
    "    \"\"\" This function will extract username from mail address\"\"\"\n",
    "    try:\n",
    "        lst=n.split(\"@\")\n",
    "        return lst[0]\n",
    "    except Exception as e:\n",
    "        print(e)"
   ]
  },
  {
   "cell_type": "code",
   "execution_count": 9,
   "id": "7dda8fa3",
   "metadata": {},
   "outputs": [
    {
     "name": "stdout",
     "output_type": "stream",
     "text": [
      "Please enter the email address in format [username@companyname.com]john@google.com\n"
     ]
    },
    {
     "data": {
      "text/plain": [
       "'john'"
      ]
     },
     "execution_count": 9,
     "metadata": {},
     "output_type": "execute_result"
    }
   ],
   "source": [
    "input_username=input(\"\"\"Please enter the email address in format [username@companyname.com]\"\"\")\n",
    "lst_username(input_username)"
   ]
  },
  {
   "cell_type": "code",
   "execution_count": null,
   "id": "02297f07",
   "metadata": {},
   "outputs": [],
   "source": []
  }
 ],
 "metadata": {
  "kernelspec": {
   "display_name": "Python 3",
   "language": "python",
   "name": "python3"
  },
  "language_info": {
   "codemirror_mode": {
    "name": "ipython",
    "version": 3
   },
   "file_extension": ".py",
   "mimetype": "text/x-python",
   "name": "python",
   "nbconvert_exporter": "python",
   "pygments_lexer": "ipython3",
   "version": "3.8.8"
  }
 },
 "nbformat": 4,
 "nbformat_minor": 5
}
