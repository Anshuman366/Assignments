{
 "cells": [
  {
   "cell_type": "markdown",
   "id": "c99cff58",
   "metadata": {},
   "source": [
    "# PYTHON ADVANCED ASSIGNMENT-2"
   ]
  },
  {
   "cell_type": "raw",
   "id": "ce6414e4",
   "metadata": {},
   "source": [
    "1. Create a function to perform basic arithmetic operations that includes addition, subtraction, multiplication and division on a string number (e.g. \"12 + 24\" or \"23 - 21\" or \"12 // 12\" or \"12 * 21\").\n",
    "\n",
    "Here, we have 1 followed by a space, operator followed by another space and 2. For the challenge, we are going to have only two numbers between 1 valid operator. The return value should be a number.\n",
    "\n",
    "eval() is not allowed. In case of division, whenever the second number equals \"0\" return -1.\n",
    "\n",
    "For example:\n",
    "\n",
    "\"15 // 0\"  ➞ -1\n"
   ]
  },
  {
   "cell_type": "code",
   "execution_count": 30,
   "id": "60090427",
   "metadata": {},
   "outputs": [],
   "source": [
    "def arithmetic_operation(str1):\n",
    "    \"\"\"function to perform basic arithmetic operations that includes addition, subtraction, multiplication and division\n",
    "    on a string number (e.g. \"12 + 24\" or \"23 - 21\" or \"12 // 12\" or \"12 * 21\").\"\"\"\n",
    "    try:\n",
    "        x=str1.split(\" \")\n",
    "        if x[1]==\"+\":\n",
    "            return int(x[0])+int(x[2])\n",
    "        elif x[1]==\"*\":\n",
    "            return  int(x[0])*int(x[2])\n",
    "        elif x[1]==\"//\":\n",
    "            if x[2]==\"0\":\n",
    "                return -1\n",
    "            else:\n",
    "                return int(x[0])//int(x[2])\n",
    "    except Exception as e:\n",
    "        print(\"Please enter valid input\")\n",
    "    \n",
    "        \n"
   ]
  },
  {
   "cell_type": "code",
   "execution_count": 31,
   "id": "ca8c2fc4",
   "metadata": {},
   "outputs": [
    {
     "data": {
      "text/plain": [
       "144"
      ]
     },
     "execution_count": 31,
     "metadata": {},
     "output_type": "execute_result"
    }
   ],
   "source": [
    "x=arithmetic_operation(\"12 * 12\")\n",
    "x"
   ]
  },
  {
   "cell_type": "raw",
   "id": "33cfaf30",
   "metadata": {},
   "source": [
    "2. Write a function that takes the coordinates of three points in the form of a 2d array and returns the perimeter of the triangle. The given points are the vertices of a triangle on a two-dimensional plane.\n",
    "\n",
    "Examples\n",
    "\n",
    "perimeter( [ [15, 7], [5, 22], [11, 1] ] ) ➞ 47.08\n",
    "\n",
    "perimeter( [ [0, 0], [0, 1], [1, 0] ] ) ➞ 3.42\n",
    "\n",
    "perimeter( [ [-10, -10], [10, 10 ], [-10, 10] ] ) ➞ 68.28"
   ]
  },
  {
   "cell_type": "code",
   "execution_count": 18,
   "id": "1b7bbbba",
   "metadata": {},
   "outputs": [],
   "source": [
    "def perimeter(x):\n",
    "    \"\"\"function that takes the coordinates of three points in the form of\n",
    "    a 2d array and returns the perimeter of the triangle.\"\"\"\n",
    "    \n",
    "    try:\n",
    "   \n",
    "        x1=x[0][0]\n",
    "        x2=x[1][0]\n",
    "        x3=x[2][0]\n",
    "        y1=x[0][1]\n",
    "        y2=x[1][1]\n",
    "        y3=x[2][1]\n",
    "        s1=pow(((x2-x1)**2)+((y2-y1)**2),0.5)\n",
    "        s2=pow(((x3-x2)**2)+((y3-y2)**2),0.5)\n",
    "        s3=pow(((x1-x3)**2)+((y1-y3)**2),0.5)\n",
    "\n",
    "        result=round((s1+s2+s3),2)\n",
    "        return result\n",
    "    except Exception as e:\n",
    "        print(\"The input should contain cordinates only and should be in the form of 2d array\")\n",
    "                  \n",
    "\n"
   ]
  },
  {
   "cell_type": "code",
   "execution_count": 21,
   "id": "8da2b36f",
   "metadata": {},
   "outputs": [
    {
     "data": {
      "text/plain": [
       "3.41"
      ]
     },
     "execution_count": 21,
     "metadata": {},
     "output_type": "execute_result"
    }
   ],
   "source": [
    "perimeter([ [0, 0], [0, 1], [1,0] ])"
   ]
  },
  {
   "cell_type": "code",
   "execution_count": 22,
   "id": "d0862970",
   "metadata": {},
   "outputs": [
    {
     "data": {
      "text/plain": [
       "68.28"
      ]
     },
     "execution_count": 22,
     "metadata": {},
     "output_type": "execute_result"
    }
   ],
   "source": [
    "perimeter([ [-10, -10], [10, 10 ], [-10, 10] ])"
   ]
  },
  {
   "cell_type": "raw",
   "id": "4d173714",
   "metadata": {},
   "source": [
    "3.\n",
    "A city skyline can be represented as a 2-D list with 1s representing buildings. In the example below, the height of the tallest building is 4 (second-most right column).\n",
    "\n",
    "Create a function that takes a skyline (2-D list of 0's and 1's) and returns the height of the tallest skyscraper.\n"
   ]
  },
  {
   "cell_type": "code",
   "execution_count": 100,
   "id": "5bc23932",
   "metadata": {},
   "outputs": [],
   "source": [
    "def tallest_skyscraper(arr):\n",
    "    \"\"\"function that takes a skyline (2-D list of 0's and 1's) and returns the height of the tallest skyscraper.\"\"\"\n",
    "    try:\n",
    "        \n",
    "        import numpy as np\n",
    "        x=np.array(arr)\n",
    "        y=x.sum(axis=0)\n",
    "        y.sort()\n",
    "        return y[-1]\n",
    "    except Exception as e:\n",
    "        print(\"Your input should be in 2d array containing 1s and 0s only\")\n",
    "    \n",
    "    "
   ]
  },
  {
   "cell_type": "code",
   "execution_count": 102,
   "id": "1b70f84a",
   "metadata": {},
   "outputs": [
    {
     "data": {
      "text/plain": [
       "4"
      ]
     },
     "execution_count": 102,
     "metadata": {},
     "output_type": "execute_result"
    }
   ],
   "source": [
    "tallest_skyscraper([\n",
    "  [0, 1, 0, 0],\n",
    "  [0, 1, 0, 0],\n",
    "  [0, 1, 1, 0],\n",
    "  [1, 1, 1, 1]\n",
    "])"
   ]
  },
  {
   "cell_type": "code",
   "execution_count": 98,
   "id": "39cadac8",
   "metadata": {},
   "outputs": [
    {
     "data": {
      "text/plain": [
       "2"
      ]
     },
     "execution_count": 98,
     "metadata": {},
     "output_type": "execute_result"
    }
   ],
   "source": [
    "tallest_skyscraper([\n",
    "  [0, 0, 0, 0],\n",
    "  [0, 0, 0, 0],\n",
    "  [1, 1, 1, 0],\n",
    "  [1, 1, 1, 1]\n",
    "])\n",
    "    "
   ]
  },
  {
   "cell_type": "raw",
   "id": "f08639a5",
   "metadata": {},
   "source": [
    "4. A financial institution provides professional services to banks and claims charges from the customers based on the number of man-days provided. Internally, it has set a scheme to motivate and reward staff to meet and exceed targeted billable utilization and revenues by paying a bonus for each day claimed from customers in excess of a threshold target.\n",
    "\n",
    "This quarterly scheme is calculated with a threshold target of 32 days per quarter, and the incentive payment for each billable day in excess of such threshold target is shown as follows:\n",
    "\n",
    "Days\t                             Bonus\n",
    "0 to 32 days\t                   Zero\n",
    "33 to 40 days\t         SGD$325 per billable day\n",
    "41 to 48 days\t         SGD$550 per billable day\n",
    "Greater than 48 days      SGD$600 per billable day"
   ]
  },
  {
   "cell_type": "code",
   "execution_count": 168,
   "id": "fd5c4f93",
   "metadata": {},
   "outputs": [],
   "source": [
    "class cal_bonus:\n",
    "    def __init__(self,days):\n",
    "        self.days=days\n",
    "        self. __0_32_days=\"0\"\n",
    "        self. __33_40_days=\"325\"\n",
    "        self.__41_48_days=\"550\"\n",
    "        self.__48_to_above=\"600\"\n",
    "    def bonus(self): \n",
    "        try:\n",
    "        \n",
    "            if self.days<=32:\n",
    "                return 0\n",
    "            elif self.days>=33 and self.days<=40:\n",
    "                bonus1=(self.days-32)* int(self.__33_40_days)\n",
    "                return bonus1\n",
    "            elif self.days>=41 and self.days<=48:\n",
    "                bonus1=((self.days-40)* int(self.__41_48_days))+ (8*int(self.__33_40_days))\n",
    "                return bonus1\n",
    "            else:\n",
    "                bonus1=((self.days-48)* int(self.__48_to_above))+(8*int(self.__41_48_days))+ (8*int(self.__33_40_days))\n",
    "                return bonus1\n",
    "        except Exception as e:\n",
    "            print(\"Something went wrong!!!\")\n",
    "        \n",
    "    def __str__(self):\n",
    "        print(\"This class will canculate the bonus based on above criteria\")\n",
    "\n",
    "    \n",
    "    "
   ]
  },
  {
   "cell_type": "code",
   "execution_count": 169,
   "id": "2c6accba",
   "metadata": {},
   "outputs": [
    {
     "data": {
      "text/plain": [
       "5350"
      ]
     },
     "execution_count": 169,
     "metadata": {},
     "output_type": "execute_result"
    }
   ],
   "source": [
    "x=cal_bonus(45)\n",
    "x.bonus()"
   ]
  },
  {
   "cell_type": "code",
   "execution_count": 170,
   "id": "df8de320",
   "metadata": {},
   "outputs": [
    {
     "data": {
      "text/plain": [
       "8200"
      ]
     },
     "execution_count": 170,
     "metadata": {},
     "output_type": "execute_result"
    }
   ],
   "source": [
    "x=cal_bonus(50)\n",
    "x.bonus()"
   ]
  },
  {
   "cell_type": "code",
   "execution_count": 171,
   "id": "5c92691f",
   "metadata": {},
   "outputs": [
    {
     "data": {
      "text/plain": [
       "0"
      ]
     },
     "execution_count": 171,
     "metadata": {},
     "output_type": "execute_result"
    }
   ],
   "source": [
    "x=cal_bonus(0)\n",
    "x.bonus()"
   ]
  },
  {
   "cell_type": "raw",
   "id": "c737595a",
   "metadata": {},
   "source": [
    " A number is said to be Disarium if the sum of its digits raised to their respective positions is the number itself.\n",
    "\n",
    "Create a function that determines whether a number is a Disarium or not.\n",
    "\n",
    "is_disarium(544) ➞ False\n",
    "\n",
    "is_disarium(518) ➞ True\n",
    "\n",
    "is_disarium(466) ➞ False\n",
    "\n",
    "is_disarium(8) ➞ True"
   ]
  },
  {
   "cell_type": "code",
   "execution_count": 192,
   "id": "23a1f7e0",
   "metadata": {},
   "outputs": [],
   "source": [
    "def is_Disarium():\n",
    "    \"\"\"function that determines whether a number is a Disarium or not if yes return True else False\"\"\"\n",
    "    \n",
    "    try:\n",
    "        \n",
    "        num=input(\"Please enter number to check: \")\n",
    "        sum1=0\n",
    "        for i in range(len(num)):\n",
    "            sum1+=int(num[i])**(i+1)\n",
    "        if sum1==int(num):\n",
    "            return True\n",
    "        else:\n",
    "            return False\n",
    "    except Exception as e:\n",
    "        print(\"Something went wrong!!!\")\n"
   ]
  },
  {
   "cell_type": "code",
   "execution_count": 193,
   "id": "46e7ffae",
   "metadata": {},
   "outputs": [
    {
     "name": "stdout",
     "output_type": "stream",
     "text": [
      "Please enter number to check: 567\n"
     ]
    },
    {
     "data": {
      "text/plain": [
       "False"
      ]
     },
     "execution_count": 193,
     "metadata": {},
     "output_type": "execute_result"
    }
   ],
   "source": [
    "is_Disarium()"
   ]
  },
  {
   "cell_type": "code",
   "execution_count": null,
   "id": "4abbc187",
   "metadata": {},
   "outputs": [],
   "source": []
  },
  {
   "cell_type": "code",
   "execution_count": null,
   "id": "31c77978",
   "metadata": {},
   "outputs": [],
   "source": []
  }
 ],
 "metadata": {
  "kernelspec": {
   "display_name": "Python 3",
   "language": "python",
   "name": "python3"
  },
  "language_info": {
   "codemirror_mode": {
    "name": "ipython",
    "version": 3
   },
   "file_extension": ".py",
   "mimetype": "text/x-python",
   "name": "python",
   "nbconvert_exporter": "python",
   "pygments_lexer": "ipython3",
   "version": "3.8.8"
  }
 },
 "nbformat": 4,
 "nbformat_minor": 5
}
